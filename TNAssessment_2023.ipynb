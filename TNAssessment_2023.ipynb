{
 "cells": [
  {
   "cell_type": "markdown",
   "id": "e4d3bde3-a78b-4d73-a679-bdf7c034f477",
   "metadata": {},
   "source": [
    "# Final TN Assessment\n",
    "\n",
    "This is the final assessment for the introduction to tensor networks module. It consists of a number of multiple choice questions, questions with written answers and short coding exercises. Written answers may be given in French or English. This assignment is to be completed **individually**. If you get stuck, refer to the course slides and example notebooks.\n",
    "\n",
    "## Handing in\n",
    "\n",
    "The assessment must be handed in **HTML format**. To export the notebook in HTML format go to File -> Save and Export Notebook As... -> HTML (you may have to rebuild the docker image for this to work). Make sure that **all cells are evalutated** before converting to HTML.\n",
    "\n"
   ]
  },
  {
   "cell_type": "markdown",
   "id": "fd176b62-d1dc-4a16-a8de-615dace5b37d",
   "metadata": {},
   "source": [
    "## Section 1\n",
    "1. A tensor network is:\n",
    "    1. A more efficient way to to perform tensor contractions\n",
    "    2. A decomposition of a multi-dimensional tensor into smaller, lower-dimensional tensors\n",
    "    3. A type of notation"
   ]
  },
  {
   "cell_type": "markdown",
   "id": "a6933cce-ac4f-4a69-96da-b5af78f2ed07",
   "metadata": {},
   "source": [
    "Answer: B"
   ]
  },
  {
   "cell_type": "markdown",
   "id": "ad3354b7-9c61-4bf8-a0fc-9a99bebd34e6",
   "metadata": {},
   "source": [
    "2. How many bytes are required to store the full state of a 127 qubit system using single-precision floating-point numbers?"
   ]
  },
  {
   "cell_type": "markdown",
   "id": "b840ac9e-0942-4f8d-8a0c-e98d42d450bd",
   "metadata": {},
   "source": [
    "Answer: \n",
    "A system of 127 qubits has $2^{127}$ basis states. Therefore to write the wave-function we need $2^{127}$ *complex* numbers. A single precision floating point number requires 4 bytes of storage (32 bits) and each complex number consists of 2 real numbers. The number of bytes required is then $(2^{127} * 2 * 4) = 2^{130} \\approx 10^{39}$bytes"
   ]
  },
  {
   "cell_type": "markdown",
   "id": "f1523e6f-f931-4bd6-917c-4fd0ecba4081",
   "metadata": {},
   "source": [
    "3. The number of \"open\" legs of a tensor network is equal to:\n",
    "    1. The TT-rank of the resulting tensor\n",
    "    2. The order of the resulting tensor\n",
    "    3. The number of elements contained in the resulting tensor"
   ]
  },
  {
   "cell_type": "markdown",
   "id": "f0e7bb48-39b1-482f-9ff7-beaf232a0cbc",
   "metadata": {},
   "source": [
    "Answer: B"
   ]
  },
  {
   "cell_type": "markdown",
   "id": "97ad2ef2-b17b-4367-8727-cbd65235bdff",
   "metadata": {},
   "source": [
    "4. Does the TT-SVD algorithm solve the curse of dimensionality in quantum mechanics, explain your answer?"
   ]
  },
  {
   "cell_type": "markdown",
   "id": "81575a0d-4fce-4230-9602-65e90f4d3827",
   "metadata": {},
   "source": [
    "Answer: No, the TT-SVD algorithm simply compresses the wave-function, it doesn't (directly) enable us to write it down in the first place"
   ]
  },
  {
   "cell_type": "markdown",
   "id": "e7b495fa-01d5-4231-835b-a26a033ce3d5",
   "metadata": {},
   "source": [
    "5. What is the computional complexity of computing the inner product of two N-site MPS whose physical dimensions are all equal to d and whose bond dimensions are all equal to D.\n",
    "    1. $\\mathcal{O}(d^2D^2)$\n",
    "    2. $\\mathcal{O}(d^N)$\n",
    "    3. $\\mathcal{O}(NdD^3)$\n",
    "    4. $\\mathcal{O}(NdD^2)$"
   ]
  },
  {
   "cell_type": "markdown",
   "id": "b165eeaa-2cb1-455f-a0da-9ba363e3e93c",
   "metadata": {},
   "source": [
    "Answer: C"
   ]
  },
  {
   "cell_type": "markdown",
   "id": "db060d95-dbbc-472f-82f2-895e31118ab4",
   "metadata": {},
   "source": [
    "6. Is the MPS representation of a wave-function unique?\n",
    "    1. Yes\n",
    "    2. No "
   ]
  },
  {
   "cell_type": "markdown",
   "id": "5abee0a0-1114-4a5e-b875-fe63f42e65b7",
   "metadata": {},
   "source": [
    "Answer: B"
   ]
  },
  {
   "cell_type": "markdown",
   "id": "db21f72a-a5da-44fc-bca8-aa2e48c3244f",
   "metadata": {},
   "source": [
    "7. What kinds of quantum state can be represented efficiently as an MPS?\n",
    "    1. Any quantum state\n",
    "    2. Quantum states which statisfy the 1-dimensional area law\n",
    "    3. Quantum states of 1-dimensional lattices"
   ]
  },
  {
   "cell_type": "markdown",
   "id": "de94f8f3-115e-46cd-beca-9f72c2e7aa6e",
   "metadata": {},
   "source": [
    "Answer: B"
   ]
  },
  {
   "cell_type": "markdown",
   "id": "afd93de3-3296-4fbc-bb9d-217d697ff1d9",
   "metadata": {},
   "source": [
    "8. The order in which tensors are contracted in a tensor network is important because:\n",
    "    1. If you choose the wrong contraction order the result will be incorrect\n",
    "    2. If you choose the wrong contraction order you may get a \"dimension mismatch\" error\n",
    "    3. Different contraction orders have different computational complexities"
   ]
  },
  {
   "cell_type": "markdown",
   "id": "5cc5fb92-0028-4077-b6a5-0caab20fc952",
   "metadata": {},
   "source": [
    "Answer: C"
   ]
  },
  {
   "cell_type": "markdown",
   "id": "b2ea8ca5-d473-47d8-a114-cd6169800cbc",
   "metadata": {},
   "source": [
    "9. TEBD is an algorithm for:\n",
    "    1.  Computing time evolution\n",
    "    2.  Canonicalising a tensor network\n",
    "    3.  Compressing a tensor network\n",
    "    4.  Contracting a tensor network"
   ]
  },
  {
   "cell_type": "markdown",
   "id": "e1ce4501-db0a-4abc-a76e-f503f34ca73d",
   "metadata": {},
   "source": [
    "Answer: A"
   ]
  },
  {
   "cell_type": "markdown",
   "id": "7fd92597-383c-4280-bb37-0b46e9bd65c9",
   "metadata": {},
   "source": [
    "10. A 6x12 matrix has a rank of 3. What is the smallest number of parameters required to represent the matrix exactly? Show your working. "
   ]
  },
  {
   "cell_type": "markdown",
   "id": "020b940b-fe44-4195-8427-ba7f70c3b212",
   "metadata": {},
   "source": [
    "Answer: The matrix can be decomposed exactly as a product of a 6x3 matrix and a 3x12 matrix. Therefore we need 18 + 36 = 54 parameters."
   ]
  },
  {
   "cell_type": "markdown",
   "id": "50d2c36a-53e5-4f50-b24b-8926c77e181c",
   "metadata": {},
   "source": [
    "## Section 2\n",
    "In the following questions we will write a simple code for computing the time evolution of a quantum state under the nearest-neighbours Hamiltonian:\n",
    "$$\\hat{H}=\\sum_{i=1}^{N-1} t_{i}(\\sigma^{+}_i\\sigma^{-}_{i+1} + \\sigma^{-}_i\\sigma^{+}_{i+1})$$\n",
    "where\n",
    "$$\\sigma^{+} = \\begin{pmatrix}0 & 0\\\\ 1 & 0\\end{pmatrix}$$\n",
    "and\n",
    "$$\\sigma^{-} = \\begin{pmatrix}0 & 1\\\\ 0 & 0\\end{pmatrix}$$\n",
    "The questions will guide you step-by-step through the implementation of the TEBD algorithm that was introduced in the course."
   ]
  },
  {
   "cell_type": "markdown",
   "id": "ec6deef9-bfd7-475c-a6f7-b2df2b39b244",
   "metadata": {},
   "source": [
    "First, we will focus on the local update wherein one 2-body gate is applyed to the MPS. The local update consists of 4 steps set out in the course slides (1. Contract, 2. SVD + truncate, 3. Insert identity, 4. Contract). After the local update is complete **2 gamma tensors and 1 lambda matrix** will have been updated.\n",
    "\n",
    "*Note: Since the lambda matrices are diagonal, they should be stored as a 1-dimension array containing the diagonal elements only.*\n",
    "\n",
    "1. Complete the function below which carries out step 1 of the local update."
   ]
  },
  {
   "cell_type": "code",
   "execution_count": 1,
   "id": "d82207ec-e3e3-4792-a1dc-b5f6631c0ce7",
   "metadata": {},
   "outputs": [],
   "source": [
    "import numpy as np\n",
    "def contract_sites_and_gate(lambda_left: np.ndarray, \n",
    "                            gamma_left: np.ndarray, \n",
    "                            lambda_centre: np.ndarray, \n",
    "                            gamma_right: np.ndarray, \n",
    "                            lambda_right: np.ndarray,\n",
    "                            gate: np.ndarray,\n",
    "                           ) -> np.ndarray:\n",
    "    \"\"\"\n",
    "    Contract the two-body gate with the mps site tensors.\n",
    "\n",
    "    Args:\n",
    "        lambda_left: The lambda matrix to the left of the left gamma tensor\n",
    "        gamma_left: The left gamma tensor\n",
    "        lambda_centre: The lambda matrix in between the two gamma tensors\n",
    "        gamma_right: The right gamma tensor\n",
    "        lambda_right: The lambda matrix to the right of the right gamma tensor\n",
    "        gate: The 2-body gate\n",
    "\n",
    "    Returns:\n",
    "        Theta, an order-4 tensor resulting from the contraction.\n",
    "    \"\"\"\n",
    "    theta = np.einsum('ab,bgc,cd,dhe,ef,ghij->aijf',\n",
    "        np.diagflat(lambda_left), \n",
    "        gamma_left, \n",
    "        np.diagflat(lambda_centre), \n",
    "        gamma_right, \n",
    "        np.diagflat(lambda_right), \n",
    "        gate\n",
    "    )\n",
    "    return theta"
   ]
  },
  {
   "cell_type": "markdown",
   "id": "8f14a42b-607f-4961-acea-2e8b904f2b2d",
   "metadata": {},
   "source": [
    "2. Complete the function below which carries step 2 of the local update. For simplicity we will specify the maximum number of singlar values to retain after the SVD - this will determine the maximum value for the bond dimension of the MPS."
   ]
  },
  {
   "cell_type": "code",
   "execution_count": 2,
   "id": "8c738bfd-93e9-4e84-9801-02d35dedde86",
   "metadata": {},
   "outputs": [],
   "source": [
    "from typing import Tuple\n",
    "def perform_svd_and_truncate(\n",
    "    theta: np.ndarray,\n",
    "    max_bond_dimension: int,\n",
    ") -> Tuple[np.ndarray, np.ndarray, np.ndarray]:\n",
    "    \"\"\"\n",
    "    Splits the theta tensor via an SVD and performs a truncation.\n",
    "    \n",
    "    Args:\n",
    "        theta: The order-4 tensor\n",
    "        max_bond_dimension: The maximum number of singlar values to keep after the truncation, \n",
    "            this will determine the maximum value for the bond dimension of the MPS\n",
    "\n",
    "    Returns:\n",
    "        The order-3 tensor U, the updated lambda_centre matrix, the order-3 tensor Vdagger\n",
    "    \"\"\"\n",
    "    D1, d1, d2, D2 = theta.shape\n",
    "    U, s, Vt = np.linalg.svd(np.reshape(theta, [D1*d1, d2*D2]))\n",
    "    \n",
    "    # Choose the number of singular values to keep: \n",
    "    # We keep at most max_bond_dimension singular values and truncate singular values smaller than 10**-14\n",
    "    \n",
    "    # !!!!! If we don't remove small singular values here we'll have \n",
    "    # problems when we come to inverting the lambda matrix !!!!!\n",
    "    r = min(max_bond_dimension, np.count_nonzero(s >= 10**-14))\n",
    "    \n",
    "    U = np.reshape(U[:,:r], [D1, d1, r])\n",
    "    Vt = np.reshape(Vt[:r, :], [r, d2, D2])\n",
    "    return U, s[:r], Vt"
   ]
  },
  {
   "cell_type": "markdown",
   "id": "f6e94431-0cf0-442d-9b3b-eb622b5dcb47",
   "metadata": {},
   "source": [
    "3. Complete the function below which carries out steps 3 and 4 of the local update."
   ]
  },
  {
   "cell_type": "code",
   "execution_count": 3,
   "id": "895a6194-b30a-48a7-a973-61dcda8b80e9",
   "metadata": {},
   "outputs": [],
   "source": [
    "def insert_identity_and_contract(\n",
    "    lambda_left: np.ndarray,\n",
    "    U: np.ndarray,\n",
    "    lambda_centre_updated: np.ndarray,\n",
    "    Vdagger: np.ndarray,\n",
    "    lambda_right: np.array,\n",
    ") -> Tuple[np.ndarray, np.ndarray]:\n",
    "    \"\"\"\n",
    "    Contracts the inverted left and right lambda matrices with U and Vdagger to obtain the updated gamma tensors.\n",
    "\n",
    "    Args:\n",
    "        lambda_left: The lambda matrix to the left of the left gamma tensor\n",
    "        U: The U tensor returned by `perform_svd_and_truncate`\n",
    "        lambda_centre_updated: The updated lambda_centre matrix returned by `perform_svd_and_truncate`\n",
    "        Vdagger: The Vdagger tensor returned by `perform_svd_and_truncate`\n",
    "        lambda_right: The lambda matrix to the right of the right gamma tensor\n",
    "\n",
    "    Returns:\n",
    "        The updated gamma_left tensor, the updated gamma_right_tensor\n",
    "    \"\"\"\n",
    "    lambda_right_inverted = np.linalg.inv(np.diagflat(lambda_right))\n",
    "    lambda_left_inverted = np.linalg.inv(np.diagflat(lambda_left))\n",
    "    gamma_left_updated = np.einsum('ab,bcd->acd', lambda_left_inverted, U)\n",
    "    gamma_right_updated = np.einsum('abc,cd->abd', Vdagger, lambda_right_inverted)\n",
    "    return gamma_left_updated, lambda_centre_updated, gamma_right_updated"
   ]
  },
  {
   "cell_type": "markdown",
   "id": "09b1cdba-dc6b-4006-8ba2-886bfa9f3170",
   "metadata": {},
   "source": [
    "4. Complete the function below which combines the functions from questions 1-3 into the full local update function:"
   ]
  },
  {
   "cell_type": "code",
   "execution_count": 4,
   "id": "0d03af1b-9e1b-4ac1-93dd-ae4c78f71c44",
   "metadata": {},
   "outputs": [],
   "source": [
    "def local_update(\n",
    "    lambda_left: np.ndarray, \n",
    "    gamma_left: np.ndarray, \n",
    "    lambda_centre: np.ndarray, \n",
    "    gamma_right: np.ndarray, \n",
    "    lambda_right: np.ndarray,\n",
    "    gate: np.ndarray,\n",
    "    max_bond_dimension: int\n",
    ") -> Tuple[np.ndarray, np.ndarray, np.ndarray]:\n",
    "    \"\"\"\n",
    "    Performs the full local update.\n",
    "\n",
    "    Args:\n",
    "        lambda_left: The lambda matrix to the left of the left gamma tensor\n",
    "        gamma_left: The left gamma tensor\n",
    "        lambda_centre: The lambda matrix in between the two gamma tensors\n",
    "        gamma_right: The right gamma tensor\n",
    "        lambda_right: The lambda matrix to the right of the right gamma tensor\n",
    "        gate: The 2-body gate\n",
    "        max_bond_dimension: The maximum bond dimension of the MPS\n",
    "\n",
    "    Returns:\n",
    "        The updated gamma_left tensor, the updated lambda_centre matrix, the updated gamma_right tensor\n",
    "    \"\"\"\n",
    "    theta = contract_sites_and_gate(lambda_left, gamma_left, lambda_centre, gamma_right, lambda_right, gate)\n",
    "    UsVt = perform_svd_and_truncate(theta, max_bond_dimension)\n",
    "    gamma_left_updated, lambda_centre_updated, gamma_right_updated = insert_identity_and_contract(lambda_left, *UsVt, lambda_right)\n",
    "    return gamma_left_updated, lambda_centre_updated, gamma_right_updated\n",
    "    "
   ]
  },
  {
   "cell_type": "markdown",
   "id": "0bb37ea5-bb66-4dd7-91f4-bd30157f3c4d",
   "metadata": {},
   "source": [
    "5. We will now create the global update function. This function will first apply all the odd gates (gates whose left index is odd), followed by all even gates (gates whose left index is even). After one call to this function the MPS will have evolved by one time step dt. Complete the function below:"
   ]
  },
  {
   "cell_type": "code",
   "execution_count": 5,
   "id": "5ea61304-0bce-40e9-9366-706b715e5db7",
   "metadata": {},
   "outputs": [],
   "source": [
    "def global_update(\n",
    "    lambdas: list,\n",
    "    gammas: list,\n",
    "    odd_gates: list,\n",
    "    even_gates: list,\n",
    "    max_bond_dimension: int,\n",
    ") -> Tuple[list, list]:\n",
    "    \"\"\"\n",
    "    Perform the global update applying all gates (odd and even) once.\n",
    "\n",
    "    Args:\n",
    "        lambdas: A list of length N+1 containing the lambda matrices of the MPS\n",
    "        gammas: A list of length N containing the gamma tensors of the MPS\n",
    "        odd_gates: A list containing the odd gates\n",
    "        even_gates: A list containing the even gates\n",
    "        max_bond_dimension: The maximum bond dimension of the MPS\n",
    "\n",
    "    Returns:\n",
    "        The list of updated lambdas, the list of updated gammas\n",
    "    \"\"\"\n",
    "    nsites = len(gammas)\n",
    "    for gate, site in zip(odd_gates, range(1, nsites, 2)):\n",
    "        gammas[site], lambdas[site+1], gammas[site+1] = local_update(\n",
    "            lambdas[site], \n",
    "            gammas[site], \n",
    "            lambdas[site+1], \n",
    "            gammas[site+1], \n",
    "            lambdas[site+2],\n",
    "            gate,\n",
    "            max_bond_dimension,\n",
    "        )\n",
    "    for gate, site in zip(even_gates, range(0, nsites, 2)):\n",
    "        gammas[site], lambdas[site+1], gammas[site+1] = local_update(\n",
    "            lambdas[site], \n",
    "            gammas[site], \n",
    "            lambdas[site+1], \n",
    "            gammas[site+1], \n",
    "            lambdas[site+2],\n",
    "            gate,\n",
    "            max_bond_dimension,\n",
    "        )\n",
    "    return lambdas, gammas"
   ]
  },
  {
   "cell_type": "markdown",
   "id": "f7f3e8a0-c547-483a-b543-7ebe4f0b9f15",
   "metadata": {},
   "source": [
    "Now that we have the global update function we now need to construct the gates. We want to simulate a Hamiltonian $\\hat{H}=\\sum_{i=1}^{N-1}\\hat{h}_{i,i+1}$ where $\\hat{h}_{i,i+1} = t_{i}(\\sigma^{+}_i\\sigma^{-}_{i+1} + \\sigma^{-}_i\\sigma^{+}_{i+1})$. The 2-body gates are therefore given by $\\exp(-i\\delta t \\hat{h}_{i,i+1})$. \n",
    "\n",
    "6. Complete the two functions below which generate lists of all odd and even gates. To make things easier the local terms $(\\sigma^{+}_i\\sigma^{-}_{i+1} + \\sigma^{-}_i\\sigma^{+}_{i+1})$ have already been created and stored in the variable `h_local`. **Pay close attention to index ordering**."
   ]
  },
  {
   "cell_type": "code",
   "execution_count": 6,
   "id": "80dff65c-19e0-4731-a70c-9e109928fe50",
   "metadata": {},
   "outputs": [],
   "source": [
    "import scipy as sp\n",
    "sigma_p = np.array([[0, 0], [1, 0]])\n",
    "sigma_n = np.array([[0, 1], [0, 0]])\n",
    "h_local = np.kron(sigma_p, sigma_n) + np.kron(sigma_n, sigma_p)\n",
    "def make_odd_gates(\n",
    "    hopping_coefficients: list,\n",
    "    delta_t: float,\n",
    ") -> list:\n",
    "    \"\"\"\n",
    "    Generate all odd gates.\n",
    "\n",
    "    Args:\n",
    "        hopping_coefficients: List of length N-1 of hopping coefficients (parameter $t_{i}$)\n",
    "        delta_t: The time step dt\n",
    "\n",
    "    Returns:\n",
    "        A list of order-4 tensors.\n",
    "    \"\"\"\n",
    "    # !!!!! We need the exponential of an *operator* here, hence we must use scipy.linalg.expm \n",
    "    # and not numpy.exp, numpy.exp computes the element-wise exponential !!!!!\n",
    "    return [np.reshape(sp.linalg.expm(-1j * delta_t * t * h_local), [2, 2, 2, 2]) for t in hopping_coefficients[1:-1:2]]"
   ]
  },
  {
   "cell_type": "code",
   "execution_count": 7,
   "id": "6bf4823e-bc51-411e-abb2-ed441c236daa",
   "metadata": {},
   "outputs": [],
   "source": [
    "def make_even_gates(\n",
    "    hopping_coefficients: list,\n",
    "    delta_t: float,\n",
    ") -> list:\n",
    "    \"\"\"\n",
    "    Generate all even gates.\n",
    "\n",
    "    Args:\n",
    "        hopping_coefficients: List of length N-1 of hopping coefficients (parameter $t_{i}$)\n",
    "        delta_t: The time step dt\n",
    "\n",
    "    Returns:\n",
    "         A list of order-4 tensors.\n",
    "    \"\"\"\n",
    "    return [np.reshape(sp.linalg.expm(-1j * delta_t * t * h_local), [2, 2, 2, 2]) for t in hopping_coefficients[0:-1:2]]"
   ]
  },
  {
   "cell_type": "markdown",
   "id": "d89c67d4-2554-4069-bc6b-e3cad49724d1",
   "metadata": {},
   "source": [
    "Finally, we need to create our initial wave-function $|\\psi(0)>$. The initial wave-function need to be given in the canonical gauge. For this we will slightly modify the `product_state_mps` function seen in the course:"
   ]
  },
  {
   "cell_type": "code",
   "execution_count": 8,
   "id": "dc50bd9d-b52b-4e69-8e5f-4b5f1c0c87d6",
   "metadata": {},
   "outputs": [],
   "source": [
    "from itertools import repeat\n",
    "def product_state_mps(state: list) -> Tuple[list, list]:\n",
    "    \"\"\"\n",
    "    Generate an MPS in the canonical gauge representing a product state\n",
    "\n",
    "    Args:\n",
    "        state: A list of state vectors\n",
    "\n",
    "    Returns:\n",
    "        A list of length N+1 containing the lambdas, A list of length N containing the gammas\n",
    "    \"\"\"\n",
    "    N = len(state)\n",
    "    lambdas = list(repeat(np.array([1]), N+1)) # lambdas are stored as 1-d arrays\n",
    "    gammas = [np.array(s).reshape(1, len(s), 1) for s in state]\n",
    "    return lambdas, gammas"
   ]
  },
  {
   "cell_type": "markdown",
   "id": "e3eda9ad-556a-494b-a6fc-cf17ee6cb24f",
   "metadata": {},
   "source": [
    "7. Now, using everything we have developed we can create an initial product state and evolve it for a few time steps under the Hamiltonian. Try this for a 11-site system with initial state $|\\psi(0)>=|00000100000>$. Choose $t_{i}=1 \\forall i$. Measure the time evolution of the expectation of $\\sigma_z$ on the middle site and plot the result."
   ]
  },
  {
   "cell_type": "code",
   "execution_count": 9,
   "id": "a3b0437b-c347-42cd-ba91-5ca8726a90f2",
   "metadata": {},
   "outputs": [],
   "source": [
    "def measure_one_site_operator(lambdas: list, gammas: list, op: np.ndarray, site_index: int):\n",
    "    \"\"\"\n",
    "    Compute expectation of single-site operator\n",
    "\n",
    "    Args:\n",
    "        lambdas: A list of length N+1 containing the lambdas of the mps\n",
    "        gammas: A list of length N containing the gammas of the mps\n",
    "        op: The operator to measure\n",
    "        site_index: The site on which to measure the operator\n",
    "    \n",
    "    Returns:\n",
    "        The expectation value\n",
    "    \"\"\"\n",
    "    return np.einsum('abc,ad,eb,cf,def',\n",
    "                gammas[site_index],\n",
    "                np.diagflat(lambdas[site_index]**2),\n",
    "                op,\n",
    "                np.diagflat(lambdas[site_index+1]**2),\n",
    "                np.conj(gammas[site_index]), # !!!!! Don't forget to perform the complex conjugate to form the bra !!!!!\n",
    "                )\n",
    "        "
   ]
  },
  {
   "cell_type": "code",
   "execution_count": 10,
   "id": "7f7f92e7-a1ad-4f38-a600-df5ddfcef9ff",
   "metadata": {},
   "outputs": [],
   "source": [
    "nsites = 11\n",
    "delta_t = 0.1\n",
    "num_steps = 100\n",
    "max_bond_dimension = 4\n",
    "\n",
    "sx, sy, sz = np.array([[0, 1], [1, 0]]), np.array([[0, -1j], [1j, 0]]), np.array([[1, 0], [0, -1]])\n",
    "\n",
    "hopping_coefficients = list(repeat(1, nsites))\n",
    "even_gates = make_even_gates(hopping_coefficients, delta_t)\n",
    "odd_gates = make_odd_gates(hopping_coefficients, delta_t)\n",
    "\n",
    "initial_state = list(repeat([1, 0], nsites))\n",
    "initial_state[nsites // 2] = [0, 1]\n",
    "psi = product_state_mps(initial_state)"
   ]
  },
  {
   "cell_type": "code",
   "execution_count": 11,
   "id": "9e7bcc54-324c-4fc9-8664-2258d364f36c",
   "metadata": {},
   "outputs": [],
   "source": [
    "exp_sz = []\n",
    "for step in range(num_steps):\n",
    "    psi = global_update(*psi, odd_gates, even_gates, max_bond_dimension)\n",
    "    exp_sz.append(np.real(measure_one_site_operator(*psi, sz, 5)))"
   ]
  },
  {
   "cell_type": "code",
   "execution_count": 12,
   "id": "1838d82c-e8cc-46e4-9e81-0aea702a995b",
   "metadata": {},
   "outputs": [
    {
     "data": {
      "text/plain": [
       "[<matplotlib.lines.Line2D at 0xffff6764f640>]"
      ]
     },
     "execution_count": 12,
     "metadata": {},
     "output_type": "execute_result"
    },
    {
     "data": {
      "image/png": "[encoded data removed]",
      "text/plain": [
       "<Figure size 640x480 with 1 Axes>"
      ]
     },
     "metadata": {},
     "output_type": "display_data"
    }
   ],
   "source": [
    "import matplotlib.pyplot as plt\n",
    "plt.xlabel(\"time\")\n",
    "plt.ylabel(\"sz\")\n",
    "plt.plot([i*delta_t for i in range(num_steps)], exp_sz)"
   ]
  },
  {
   "cell_type": "code",
   "execution_count": 13,
   "id": "35e86b1a-1b79-4d6c-9eba-9970d3a226a5",
   "metadata": {},
   "outputs": [
    {
     "data": {
      "text/plain": [
       "[array([1]),\n",
       " array([0.86688502, 0.49850814]),\n",
       " array([0.83432395, 0.55127448]),\n",
       " array([0.82973395, 0.5581591 ]),\n",
       " array([0.82075523, 0.57128001]),\n",
       " array([0.75852493, 0.65164403]),\n",
       " array([0.78948725, 0.61376696]),\n",
       " array([0.84229601, 0.53901525]),\n",
       " array([0.85360351, 0.52092327]),\n",
       " array([0.85696895, 0.51536804]),\n",
       " array([0.88185797, 0.47151513]),\n",
       " array([1])]"
      ]
     },
     "execution_count": 13,
     "metadata": {},
     "output_type": "execute_result"
    }
   ],
   "source": [
    "# Check the bond dimensions of the final mps:\n",
    "# We can see that, despite setting the max_bond_dimension=4, the bond dimension has maxed out at 2.\n",
    "psi[0]"
   ]
  },
  {
   "cell_type": "code",
   "execution_count": null,
   "id": "65f5a7a8-f305-420f-8deb-8dcb12779226",
   "metadata": {},
   "outputs": [],
   "source": []
  }
 ],
 "metadata": {
  "kernelspec": {
   "display_name": "Python 3 (ipykernel)",
   "language": "python",
   "name": "python3"
  },
  "language_info": {
   "codemirror_mode": {
    "name": "ipython",
    "version": 3
   },
   "file_extension": ".py",
   "mimetype": "text/x-python",
   "name": "python",
   "nbconvert_exporter": "python",
   "pygments_lexer": "ipython3",
   "version": "3.10.14"
  }
 },
 "nbformat": 4,
 "nbformat_minor": 5
}
