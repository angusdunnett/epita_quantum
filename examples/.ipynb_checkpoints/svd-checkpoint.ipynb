{
 "cells": [
  {
   "cell_type": "markdown",
   "id": "eb9431e0-1bb2-482c-81af-ed73c26a13de",
   "metadata": {},
   "source": [
    "# Singular Value Decomposition (SVD)"
   ]
  },
  {
   "cell_type": "code",
   "execution_count": 3,
   "id": "84c9228e-36bf-413e-98f1-4c25919d3339",
   "metadata": {},
   "outputs": [],
   "source": [
    "import numpy as np\n",
    "import matplotlib.pyplot as plt\n",
    "\n",
    "m=5\n",
    "n=3\n",
    "A = np.random.rand(m, n)"
   ]
  },
  {
   "cell_type": "code",
   "execution_count": 4,
   "id": "3d83d8f3-06be-451b-a8a1-a9eba95f3832",
   "metadata": {},
   "outputs": [],
   "source": [
    "U, s, Vt = np.linalg.svd(A)"
   ]
  },
  {
   "cell_type": "code",
   "execution_count": 5,
   "id": "02d56158-146f-4c45-9e12-53f35283dcae",
   "metadata": {},
   "outputs": [
    {
     "data": {
      "text/plain": [
       "array([[-0.63089088, -0.14289991, -0.32388581, -0.50759513, -0.46797594],\n",
       "       [-0.12339332, -0.79733447, -0.34699036,  0.19796876,  0.43524465],\n",
       "       [-0.08878189, -0.30251653,  0.26397758,  0.6323625 , -0.65653258],\n",
       "       [-0.44350222,  0.50217624, -0.46763974,  0.55065331,  0.17093508],\n",
       "       [-0.61820251, -0.01183802,  0.69736976, -0.00735874,  0.36236279]])"
      ]
     },
     "execution_count": 5,
     "metadata": {},
     "output_type": "execute_result"
    }
   ],
   "source": [
    "U"
   ]
  },
  {
   "cell_type": "code",
   "execution_count": 6,
   "id": "6e9d8d80-3f79-4956-ac7c-c647e02b1fab",
   "metadata": {},
   "outputs": [
    {
     "data": {
      "text/plain": [
       "(5, 5)"
      ]
     },
     "execution_count": 6,
     "metadata": {},
     "output_type": "execute_result"
    }
   ],
   "source": [
    "U.shape"
   ]
  },
  {
   "cell_type": "code",
   "execution_count": 7,
   "id": "46edd1ed-df28-4cd6-b181-85a11d353fa0",
   "metadata": {},
   "outputs": [
    {
     "data": {
      "text/plain": [
       "array([[-0.64140834, -0.31508397, -0.69951229],\n",
       "       [-0.08052459, -0.87908873,  0.4698072 ],\n",
       "       [ 0.76296208, -0.35766619, -0.53848283]])"
      ]
     },
     "execution_count": 7,
     "metadata": {},
     "output_type": "execute_result"
    }
   ],
   "source": [
    "Vt"
   ]
  },
  {
   "cell_type": "code",
   "execution_count": 8,
   "id": "d6e98bbc-c6a7-4237-8c78-49b559ed3db1",
   "metadata": {},
   "outputs": [
    {
     "data": {
      "text/plain": [
       "(3, 3)"
      ]
     },
     "execution_count": 8,
     "metadata": {},
     "output_type": "execute_result"
    }
   ],
   "source": [
    "Vt.shape"
   ]
  },
  {
   "cell_type": "code",
   "execution_count": 9,
   "id": "807c2148-f1d7-4ffa-9d9d-7ca3cf6e8bf0",
   "metadata": {},
   "outputs": [
    {
     "data": {
      "text/plain": [
       "array([1.62963773, 0.35785727, 0.31657686])"
      ]
     },
     "execution_count": 9,
     "metadata": {},
     "output_type": "execute_result"
    }
   ],
   "source": [
    "s # s is a vector of the singular values, not a matrix!"
   ]
  },
  {
   "cell_type": "code",
   "execution_count": 10,
   "id": "afabe595-b1d3-4569-9396-fcbb6143a943",
   "metadata": {},
   "outputs": [
    {
     "data": {
      "text/plain": [
       "array([[ 1.00000000e+00,  2.68235603e-16, -2.72202442e-16,\n",
       "         8.85683349e-17, -4.23559256e-16],\n",
       "       [ 2.68235603e-16,  1.00000000e+00,  6.61868402e-17,\n",
       "        -4.08740057e-17, -2.93086955e-16],\n",
       "       [-2.72202442e-16,  6.61868402e-17,  1.00000000e+00,\n",
       "        -4.29204073e-16,  2.50182622e-16],\n",
       "       [ 8.85683349e-17, -4.08740057e-17, -4.29204073e-16,\n",
       "         1.00000000e+00, -3.36237402e-16],\n",
       "       [-4.23559256e-16, -2.93086955e-16,  2.50182622e-16,\n",
       "        -3.36237402e-16,  1.00000000e+00]])"
      ]
     },
     "execution_count": 10,
     "metadata": {},
     "output_type": "execute_result"
    }
   ],
   "source": [
    "# U is a unitary matrix\n",
    "U @ U.T"
   ]
  },
  {
   "cell_type": "code",
   "execution_count": 11,
   "id": "034f051d-5315-4a2c-aeca-eb150ff38ed6",
   "metadata": {},
   "outputs": [
    {
     "data": {
      "text/plain": [
       "array([[1.00000000e+00, 5.11220606e-17, 8.32915436e-17],\n",
       "       [5.11220606e-17, 1.00000000e+00, 1.42069200e-16],\n",
       "       [8.32915436e-17, 1.42069200e-16, 1.00000000e+00]])"
      ]
     },
     "execution_count": 11,
     "metadata": {},
     "output_type": "execute_result"
    }
   ],
   "source": [
    "# Vt is a unitary matrix\n",
    "Vt @ Vt.T"
   ]
  },
  {
   "cell_type": "markdown",
   "id": "53959977-a30d-493b-90ce-a0aabcb3df1b",
   "metadata": {},
   "source": [
    "## Undoing the decomposition: Full SVD\n",
    "\n",
    "There are two completely equivalent ways to recontruct the original matrix from U, s and Vt.\n",
    "\n",
    "In the so-called full SVD we construct a S matrix by putting singular values along the diagonal and padding with zero rows"
   ]
  },
  {
   "cell_type": "code",
   "execution_count": 12,
   "id": "aa973074-9a8b-4007-b27f-a7b39afd2bd9",
   "metadata": {},
   "outputs": [],
   "source": [
    "# Construct S matrix \n",
    "S = np.zeros([m,n])\n",
    "S[:n,:n] = np.diagflat(s)"
   ]
  },
  {
   "cell_type": "code",
   "execution_count": 13,
   "id": "c7ee51eb-70e8-4483-bf4c-e523c02cd810",
   "metadata": {},
   "outputs": [
    {
     "data": {
      "text/plain": [
       "array([[1.62963773, 0.        , 0.        ],\n",
       "       [0.        , 0.35785727, 0.        ],\n",
       "       [0.        , 0.        , 0.31657686],\n",
       "       [0.        , 0.        , 0.        ],\n",
       "       [0.        , 0.        , 0.        ]])"
      ]
     },
     "execution_count": 13,
     "metadata": {},
     "output_type": "execute_result"
    }
   ],
   "source": [
    "S"
   ]
  },
  {
   "cell_type": "code",
   "execution_count": 14,
   "id": "4b030b44-9076-4497-a3c4-cda3694db533",
   "metadata": {},
   "outputs": [],
   "source": [
    "USVt = U @ S @ Vt"
   ]
  },
  {
   "cell_type": "code",
   "execution_count": 15,
   "id": "a4f8aa47-238e-4d68-af78-8d8345e087aa",
   "metadata": {},
   "outputs": [
    {
     "data": {
      "text/plain": [
       "True"
      ]
     },
     "execution_count": 15,
     "metadata": {},
     "output_type": "execute_result"
    }
   ],
   "source": [
    "np.allclose(A, USVt)"
   ]
  },
  {
   "cell_type": "markdown",
   "id": "71893c87-5988-41d1-8e39-6aefb2fd16a1",
   "metadata": {},
   "source": [
    "## Undoing the decomposition: Compact/Thin SVD\n",
    "\n",
    "In the thin SVD, S is a square, diagonal matrix and we truncate U to n columns"
   ]
  },
  {
   "cell_type": "code",
   "execution_count": 16,
   "id": "a1a95a1a-206f-4eee-b607-5f75edf54fb9",
   "metadata": {},
   "outputs": [],
   "source": [
    "S = np.diagflat(s)"
   ]
  },
  {
   "cell_type": "code",
   "execution_count": 17,
   "id": "6c60d14c-8f36-491e-b3fc-d0ce00f40167",
   "metadata": {},
   "outputs": [
    {
     "data": {
      "text/plain": [
       "array([[1.62963773, 0.        , 0.        ],\n",
       "       [0.        , 0.35785727, 0.        ],\n",
       "       [0.        , 0.        , 0.31657686]])"
      ]
     },
     "execution_count": 17,
     "metadata": {},
     "output_type": "execute_result"
    }
   ],
   "source": [
    "S"
   ]
  },
  {
   "cell_type": "code",
   "execution_count": 18,
   "id": "d9474901-f16c-4c9f-a41e-10691c95f96b",
   "metadata": {},
   "outputs": [],
   "source": [
    "USVt = U[:, :n] @ S @ Vt"
   ]
  },
  {
   "cell_type": "code",
   "execution_count": 19,
   "id": "8b0a204a-1402-4690-8a14-b6d0bf188689",
   "metadata": {},
   "outputs": [
    {
     "data": {
      "text/plain": [
       "True"
      ]
     },
     "execution_count": 19,
     "metadata": {},
     "output_type": "execute_result"
    }
   ],
   "source": [
    "np.allclose(A, USVt)"
   ]
  },
  {
   "cell_type": "markdown",
   "id": "2c571789-2382-4ae2-8216-8fdbdb9cdbe6",
   "metadata": {},
   "source": [
    "## Truncating singular values\n",
    "The SVD can be used as a way of approximating a matrix by one with a lower rank"
   ]
  },
  {
   "cell_type": "code",
   "execution_count": 20,
   "id": "abfc13e3-c8fc-4bf9-af82-0dc1bb633397",
   "metadata": {},
   "outputs": [],
   "source": [
    "n=100 # m => n\n",
    "m=110\n",
    "A = np.linalg.qr(np.random.rand(m, n))[0][:,:n] @ np.diagflat(np.exp(-0.1*np.arange(n))) @ np.linalg.qr(np.random.rand(n, m))[0]\n",
    "U, s, Vt = np.linalg.svd(A)"
   ]
  },
  {
   "cell_type": "code",
   "execution_count": 21,
   "id": "0ece4b80-f71e-4007-b0b6-ad037333b703",
   "metadata": {},
   "outputs": [
    {
     "data": {
      "text/plain": [
       "[<matplotlib.lines.Line2D at 0xffff6edc57b0>]"
      ]
     },
     "execution_count": 21,
     "metadata": {},
     "output_type": "execute_result"
    },
    {
     "data": {
      "image/png": "[encoded data removed]",
      "text/plain": [
       "<Figure size 640x480 with 1 Axes>"
      ]
     },
     "metadata": {},
     "output_type": "display_data"
    }
   ],
   "source": [
    "plt.plot(s)"
   ]
  },
  {
   "cell_type": "code",
   "execution_count": 22,
   "id": "4b3f3632-727f-412c-9940-0301251b1545",
   "metadata": {},
   "outputs": [],
   "source": [
    "# Remove singular values that are smaller than a certain threshold\n",
    "sv_cutoff = 0.001\n",
    "r = np.count_nonzero(s >= sv_cutoff * max(s))"
   ]
  },
  {
   "cell_type": "code",
   "execution_count": 23,
   "id": "f3d5ed78-a35c-417c-b447-5604de9d2533",
   "metadata": {},
   "outputs": [
    {
     "data": {
      "text/plain": [
       "70"
      ]
     },
     "execution_count": 23,
     "metadata": {},
     "output_type": "execute_result"
    }
   ],
   "source": [
    "r"
   ]
  },
  {
   "cell_type": "code",
   "execution_count": 24,
   "id": "9faf93ed-0217-407f-b7be-42a507cdf37b",
   "metadata": {},
   "outputs": [],
   "source": [
    "A_rank_approx = U[:,:r] @ np.diagflat(s[:r]) @ Vt[:r,:]"
   ]
  },
  {
   "cell_type": "code",
   "execution_count": 25,
   "id": "571acfe1-0fd1-456c-af2e-06c79d9a6439",
   "metadata": {},
   "outputs": [
    {
     "data": {
      "text/plain": [
       "0.002139132268475513"
      ]
     },
     "execution_count": 25,
     "metadata": {},
     "output_type": "execute_result"
    }
   ],
   "source": [
    "# A_rank_approx is the best rank r approximation for A if the error is measure by the Frobenius norm:\n",
    "np.linalg.norm(A - A_rank_approx)"
   ]
  },
  {
   "cell_type": "code",
   "execution_count": 26,
   "id": "3254021c-c519-48f9-99a7-597fb07bc653",
   "metadata": {},
   "outputs": [],
   "source": [
    "discarded_singular_values = s[r:]"
   ]
  },
  {
   "cell_type": "code",
   "execution_count": 27,
   "id": "25e50d3a-556e-4358-bd8c-39ea0c251f6b",
   "metadata": {},
   "outputs": [
    {
     "data": {
      "text/plain": [
       "0.0021391322684755094"
      ]
     },
     "execution_count": 27,
     "metadata": {},
     "output_type": "execute_result"
    }
   ],
   "source": [
    "# Error is equal to the square root of the sum of the squares of the discarded singular values\n",
    "np.sqrt(sum(discarded_singular_values**2))"
   ]
  }
 ],
 "metadata": {
  "kernelspec": {
   "display_name": "Python 3 (ipykernel)",
   "language": "python",
   "name": "python3"
  },
  "language_info": {
   "codemirror_mode": {
    "name": "ipython",
    "version": 3
   },
   "file_extension": ".py",
   "mimetype": "text/x-python",
   "name": "python",
   "nbconvert_exporter": "python",
   "pygments_lexer": "ipython3",
   "version": "3.10.11"
  }
 },
 "nbformat": 4,
 "nbformat_minor": 5
}
