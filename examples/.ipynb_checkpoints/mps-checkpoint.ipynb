{
 "cells": [
  {
   "cell_type": "markdown",
   "id": "bbb891d1-77ff-4c3a-a439-eec02e0a2e07",
   "metadata": {},
   "source": [
    "# Matrix Product States"
   ]
  },
  {
   "cell_type": "code",
   "execution_count": null,
   "id": "50091a60-7ae6-476a-b48f-7c84b4db856e",
   "metadata": {},
   "outputs": [],
   "source": [
    "import numpy as np"
   ]
  },
  {
   "cell_type": "markdown",
   "id": "40ef05e0-9656-4609-ac3b-869685a4b4fd",
   "metadata": {},
   "source": [
    "## TT-SVD"
   ]
  },
  {
   "cell_type": "code",
   "execution_count": 398,
   "id": "cbc29902-3d7c-48c7-8b45-bb7e35eed4a5",
   "metadata": {},
   "outputs": [
    {
     "data": {
      "text/plain": [
       "(2, 2, 2, 2, 2, 2, 2, 2, 2, 2)"
      ]
     },
     "execution_count": 398,
     "metadata": {},
     "output_type": "execute_result"
    }
   ],
   "source": [
    "N=10 # number of sites/spins\n",
    "d=2 # physical dimension\n",
    "\n",
    "eps=0 # SVD truncation error\n",
    "\n",
    "tens = np.random.rand(*[2] * N) # high-dimensional tensor\n",
    "A=[] # list for storing MPS tensors\n",
    "tens.shape"
   ]
  },
  {
   "cell_type": "code",
   "execution_count": 399,
   "id": "adcf20ce-efe6-401e-bd5e-09a4adf74791",
   "metadata": {},
   "outputs": [
    {
     "data": {
      "text/plain": [
       "(2, 512)"
      ]
     },
     "execution_count": 399,
     "metadata": {},
     "output_type": "execute_result"
    }
   ],
   "source": [
    "# Reshape (step 1)\n",
    "tmp = tens.reshape(tens.shape[0], -1) # (temporary tensor)\n",
    "tmp.shape"
   ]
  },
  {
   "cell_type": "code",
   "execution_count": null,
   "id": "9222e270-45cc-4563-9814-227a1908a29b",
   "metadata": {},
   "outputs": [],
   "source": [
    "# SVD + Truncate (step 2)\n",
    "U, s, Vt = np.linalg.svd(tmp)\n",
    "\n",
    "# Truncate singular values such that truncation error is less than or equal to eps\n",
    "where_truncation_error_is_lower_than_eps = np.where(np.cumsum(s[::-1]**2) <= eps**2)[0]\n",
    "num_sv_to_discard = 0 if len(where_truncation_error_is_lower_than_eps) == 0 else int(1 + where_truncation_error_is_lower_than_eps[-1])\n",
    "r = max(1, len(s) - num_sv_to_discard) # new rank"
   ]
  },
  {
   "cell_type": "code",
   "execution_count": 402,
   "id": "bcbb7522-6165-4bd2-9fdc-ee590c5dcb26",
   "metadata": {},
   "outputs": [
    {
     "data": {
      "text/plain": [
       "(1, 2, 2)"
      ]
     },
     "execution_count": 402,
     "metadata": {},
     "output_type": "execute_result"
    }
   ],
   "source": [
    "# Reshape and truncate U matrix, store as first MPS site\n",
    "A.append(U[:,:r].reshape(1, d, r))\n",
    "A[0].shape"
   ]
  },
  {
   "cell_type": "code",
   "execution_count": 403,
   "id": "03f5a62a-9c2b-4b5e-8926-377490d63d7e",
   "metadata": {},
   "outputs": [
    {
     "data": {
      "text/plain": [
       "(2, 512)"
      ]
     },
     "execution_count": 403,
     "metadata": {},
     "output_type": "execute_result"
    }
   ],
   "source": [
    "# Contract s and Vt (step 3)\n",
    "tmp = np.diagflat(s[:r]) @ Vt[:r,:]\n",
    "tmp.shape"
   ]
  },
  {
   "cell_type": "code",
   "execution_count": 404,
   "id": "187c39be-07dc-4e87-b766-6e0bd4edbfbc",
   "metadata": {},
   "outputs": [
    {
     "data": {
      "text/plain": [
       "(4, 256)"
      ]
     },
     "execution_count": 404,
     "metadata": {},
     "output_type": "execute_result"
    }
   ],
   "source": [
    "# Reshape (step 4)\n",
    "tmp = tmp.reshape(r * tens.shape[1], -1)\n",
    "tmp.shape\n",
    "# Repeat steps 2-4, N-1 times"
   ]
  },
  {
   "cell_type": "code",
   "execution_count": 434,
   "id": "cc06b967-8605-415b-b866-e6df2222dc5c",
   "metadata": {},
   "outputs": [],
   "source": [
    "from copy import copy\n",
    "def tt_svd(tens: np.ndarray, eps: float = 10**-6) -> list:\n",
    "    \"\"\"\n",
    "    Compress a tensor to a MPS/TT using the TT-SVD algorithm.\n",
    "\n",
    "    Args:\n",
    "        tens: The input tensor\n",
    "        eps: Truncation error for each SVD\n",
    "    Return:\n",
    "        An MPS/TT as a list of order-3 tensors (dummy bonds are added to boundary tensors)\n",
    "    \"\"\"\n",
    "    dims = tens.shape\n",
    "    N = len(dims)\n",
    "    tmp = copy(tens)\n",
    "    A = []\n",
    "    r_prev = 1\n",
    "    for i in range(N-1):\n",
    "        # Reshape (step 4)\n",
    "        tmp = tmp.reshape(r_prev * dims[i], -1)\n",
    "        \n",
    "        # SVD + Truncate (step 2)\n",
    "        U, s, Vt = np.linalg.svd(tmp)\n",
    "        # Truncate singular values such that truncation error is less than or equal to eps\n",
    "        where_truncation_error_is_lower_than_eps = np.where(np.cumsum(s[::-1]**2) <= eps**2)[0]\n",
    "        num_sv_to_discard = 0 if len(where_truncation_error_is_lower_than_eps) == 0 else int(1 + where_truncation_error_is_lower_than_eps[-1])\n",
    "        r = max(1, len(s) - num_sv_to_discard) # new rank\n",
    "        \n",
    "        # Reshape and truncate U matrix, store in return list\n",
    "        A.append(U[:,:r].reshape(r_prev, dims[i], r))\n",
    "        \n",
    "        # Contract s and Vt (step 3)\n",
    "        tmp = np.diagflat(s[:r]) @ Vt[:r,:]\n",
    "        r_prev = r\n",
    "    A.append(tmp.reshape(r_prev, dims[-1], 1))\n",
    "    return A"
   ]
  },
  {
   "cell_type": "code",
   "execution_count": 442,
   "id": "d9cecaf1-d651-4a90-a00d-1f1a0d2ae030",
   "metadata": {},
   "outputs": [],
   "source": [
    "eps=10**-1\n",
    "mps = tt_svd(tens, eps=eps)"
   ]
  },
  {
   "cell_type": "code",
   "execution_count": 443,
   "id": "5c6a887f-7796-4a8d-a425-bcce6d0de9cb",
   "metadata": {},
   "outputs": [
    {
     "data": {
      "text/plain": [
       "[1, 2, 4, 8, 16, 30, 16, 8, 4, 2, 1]"
      ]
     },
     "execution_count": 443,
     "metadata": {},
     "output_type": "execute_result"
    }
   ],
   "source": [
    "# Show bond dimensions\n",
    "[site.shape[0] for site in mps] + [mps[-1].shape[-1]]"
   ]
  },
  {
   "cell_type": "code",
   "execution_count": 444,
   "id": "90233e9a-f864-4061-aa10-d47c84c044a1",
   "metadata": {},
   "outputs": [],
   "source": [
    "def restore_full(mps: list) -> np.ndarray:\n",
    "    \"\"\"\n",
    "    Restore full tensor from an MPS/TT\n",
    "\n",
    "    Args:\n",
    "        mps: List of order-3 tensors representing an MPS/TT\n",
    "\n",
    "    Return:\n",
    "        The full tensor\n",
    "    \"\"\"\n",
    "    tmp = mps[0]\n",
    "    dims = [site.shape[1] for site in mps]\n",
    "    for site in mps[1:]:\n",
    "        tmp = np.einsum('iuj,jvk->iuvk', tmp, site)\n",
    "        tmp = tmp.reshape(tmp.shape[0], tmp.shape[1] * tmp.shape[2], tmp.shape[3])\n",
    "    return tmp.reshape(dims)"
   ]
  },
  {
   "cell_type": "code",
   "execution_count": 440,
   "id": "1041e558-3f18-4c63-a476-ebc94659b2c8",
   "metadata": {},
   "outputs": [
    {
     "data": {
      "text/plain": [
       "0.08972321921920606"
      ]
     },
     "execution_count": 440,
     "metadata": {},
     "output_type": "execute_result"
    }
   ],
   "source": [
    "np.linalg.norm(tens - restore_full(mps)) # The TT/MPS approximation error"
   ]
  },
  {
   "cell_type": "code",
   "execution_count": 446,
   "id": "29c1c17a-93b9-48ad-8c04-9d63e48979f8",
   "metadata": {},
   "outputs": [
    {
     "data": {
      "text/plain": [
       "0.316227766016838"
      ]
     },
     "execution_count": 446,
     "metadata": {},
     "output_type": "execute_result"
    }
   ],
   "source": [
    "eps * np.sqrt(N) # Theoreterical upper bound for the TT/MPS approximation error"
   ]
  },
  {
   "cell_type": "code",
   "execution_count": null,
   "id": "b91788a4-3e54-4a0c-8d68-3d768b7a3718",
   "metadata": {},
   "outputs": [],
   "source": []
  }
 ],
 "metadata": {
  "kernelspec": {
   "display_name": "Python 3 (ipykernel)",
   "language": "python",
   "name": "python3"
  },
  "language_info": {
   "codemirror_mode": {
    "name": "ipython",
    "version": 3
   },
   "file_extension": ".py",
   "mimetype": "text/x-python",
   "name": "python",
   "nbconvert_exporter": "python",
   "pygments_lexer": "ipython3",
   "version": "3.10.11"
  }
 },
 "nbformat": 4,
 "nbformat_minor": 5
}
