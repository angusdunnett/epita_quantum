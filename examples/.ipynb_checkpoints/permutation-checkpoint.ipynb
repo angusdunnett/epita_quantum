{
 "cells": [
  {
   "cell_type": "markdown",
   "id": "e4cc9bb3-db09-47d9-93c0-7bc96d657f9d",
   "metadata": {},
   "source": [
    "# Permutations"
   ]
  },
  {
   "cell_type": "code",
   "execution_count": 22,
   "id": "b61e8cf0-af80-45ed-a547-3f8a77fc8f67",
   "metadata": {},
   "outputs": [],
   "source": [
    "import numpy as np\n",
    "\n",
    "Di=2\n",
    "Dj=5\n",
    "Dk=3\n",
    "\n",
    "A = np.random.rand(Di, Dj, Dk) # A_ijk"
   ]
  },
  {
   "cell_type": "code",
   "execution_count": 23,
   "id": "5b8c29d7-1650-44a8-a5e0-0e44ae6cbe29",
   "metadata": {},
   "outputs": [
    {
     "data": {
      "text/plain": [
       "(2, 5, 3)"
      ]
     },
     "execution_count": 23,
     "metadata": {},
     "output_type": "execute_result"
    }
   ],
   "source": [
    "A.shape"
   ]
  },
  {
   "cell_type": "code",
   "execution_count": 24,
   "id": "98cba464-c64a-4d5c-a583-9dbf4bf237d1",
   "metadata": {},
   "outputs": [],
   "source": [
    "B = np.transpose(A, [1, 0, 2]) # B_ijk"
   ]
  },
  {
   "cell_type": "code",
   "execution_count": 25,
   "id": "ae593b50-b2fd-415f-a03f-a6afc27211c1",
   "metadata": {},
   "outputs": [
    {
     "data": {
      "text/plain": [
       "(5, 2, 3)"
      ]
     },
     "execution_count": 25,
     "metadata": {},
     "output_type": "execute_result"
    }
   ],
   "source": [
    "B.shape"
   ]
  },
  {
   "cell_type": "markdown",
   "id": "a6c2ff2a-4b9c-4c4f-b03b-34519a1044d5",
   "metadata": {},
   "source": [
    "Alternative using einsum:"
   ]
  },
  {
   "cell_type": "code",
   "execution_count": 26,
   "id": "6be48140-90fc-4ae5-97c1-de2f956f1526",
   "metadata": {},
   "outputs": [],
   "source": [
    "B2 = np.einsum('ijk->jik', A)"
   ]
  },
  {
   "cell_type": "code",
   "execution_count": 31,
   "id": "442ad9fd-cac8-4bae-933a-141d8de1573e",
   "metadata": {},
   "outputs": [
    {
     "data": {
      "text/plain": [
       "True"
      ]
     },
     "execution_count": 31,
     "metadata": {},
     "output_type": "execute_result"
    }
   ],
   "source": [
    "np.all(B==B2)"
   ]
  },
  {
   "cell_type": "code",
   "execution_count": null,
   "id": "23447889-8499-4f1e-843e-c423eb0dd25f",
   "metadata": {},
   "outputs": [],
   "source": []
  }
 ],
 "metadata": {
  "kernelspec": {
   "display_name": "Python 3 (ipykernel)",
   "language": "python",
   "name": "python3"
  },
  "language_info": {
   "codemirror_mode": {
    "name": "ipython",
    "version": 3
   },
   "file_extension": ".py",
   "mimetype": "text/x-python",
   "name": "python",
   "nbconvert_exporter": "python",
   "pygments_lexer": "ipython3",
   "version": "3.10.11"
  }
 },
 "nbformat": 4,
 "nbformat_minor": 5
}
