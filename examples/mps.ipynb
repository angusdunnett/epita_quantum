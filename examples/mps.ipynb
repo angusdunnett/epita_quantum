{
 "cells": [
  {
   "cell_type": "markdown",
   "id": "bbb891d1-77ff-4c3a-a439-eec02e0a2e07",
   "metadata": {},
   "source": [
    "# Matrix Product States"
   ]
  },
  {
   "cell_type": "code",
   "execution_count": 18,
   "id": "50091a60-7ae6-476a-b48f-7c84b4db856e",
   "metadata": {},
   "outputs": [],
   "source": [
    "import numpy as np"
   ]
  },
  {
   "cell_type": "markdown",
   "id": "40ef05e0-9656-4609-ac3b-869685a4b4fd",
   "metadata": {},
   "source": [
    "## TT-SVD"
   ]
  },
  {
   "cell_type": "code",
   "execution_count": 19,
   "id": "cbc29902-3d7c-48c7-8b45-bb7e35eed4a5",
   "metadata": {},
   "outputs": [
    {
     "data": {
      "text/plain": [
       "(2, 2, 2, 2, 2, 2, 2, 2, 2, 2)"
      ]
     },
     "execution_count": 19,
     "metadata": {},
     "output_type": "execute_result"
    }
   ],
   "source": [
    "N=10 # number of sites/spins\n",
    "d=2 # physical dimension\n",
    "\n",
    "eps=0 # SVD truncation error\n",
    "\n",
    "tens = np.random.rand(*[d] * N) # high-dimensional tensor\n",
    "A=[] # list for storing MPS tensors\n",
    "tens.shape"
   ]
  },
  {
   "cell_type": "code",
   "execution_count": 20,
   "id": "adcf20ce-efe6-401e-bd5e-09a4adf74791",
   "metadata": {},
   "outputs": [
    {
     "data": {
      "text/plain": [
       "(2, 512)"
      ]
     },
     "execution_count": 20,
     "metadata": {},
     "output_type": "execute_result"
    }
   ],
   "source": [
    "# Reshape (step 1)\n",
    "tmp = tens.reshape(tens.shape[0], -1) # (temporary tensor)\n",
    "tmp.shape"
   ]
  },
  {
   "cell_type": "code",
   "execution_count": 21,
   "id": "9222e270-45cc-4563-9814-227a1908a29b",
   "metadata": {},
   "outputs": [],
   "source": [
    "# SVD + Truncate (step 2)\n",
    "U, s, Vt = np.linalg.svd(tmp)\n",
    "\n",
    "# Truncate singular values such that truncation error is less than or equal to eps\n",
    "where_truncation_error_is_lower_than_eps = np.where(np.cumsum(s[::-1]**2) <= eps**2)[0]\n",
    "num_sv_to_discard = 0 if len(where_truncation_error_is_lower_than_eps) == 0 else int(1 + where_truncation_error_is_lower_than_eps[-1])\n",
    "r = max(1, len(s) - num_sv_to_discard) # new rank"
   ]
  },
  {
   "cell_type": "code",
   "execution_count": 22,
   "id": "bcbb7522-6165-4bd2-9fdc-ee590c5dcb26",
   "metadata": {},
   "outputs": [
    {
     "data": {
      "text/plain": [
       "(1, 2, 2)"
      ]
     },
     "execution_count": 22,
     "metadata": {},
     "output_type": "execute_result"
    }
   ],
   "source": [
    "# Reshape and truncate U matrix, store as first MPS site\n",
    "A.append(U[:,:r].reshape(1, d, r))\n",
    "A[0].shape"
   ]
  },
  {
   "cell_type": "code",
   "execution_count": 23,
   "id": "03f5a62a-9c2b-4b5e-8926-377490d63d7e",
   "metadata": {},
   "outputs": [
    {
     "data": {
      "text/plain": [
       "(2, 512)"
      ]
     },
     "execution_count": 23,
     "metadata": {},
     "output_type": "execute_result"
    }
   ],
   "source": [
    "# Contract s and Vt (step 3)\n",
    "tmp = np.diagflat(s[:r]) @ Vt[:r,:]\n",
    "tmp.shape"
   ]
  },
  {
   "cell_type": "code",
   "execution_count": 24,
   "id": "187c39be-07dc-4e87-b766-6e0bd4edbfbc",
   "metadata": {},
   "outputs": [
    {
     "data": {
      "text/plain": [
       "(4, 256)"
      ]
     },
     "execution_count": 24,
     "metadata": {},
     "output_type": "execute_result"
    }
   ],
   "source": [
    "# Reshape (step 4)\n",
    "tmp = tmp.reshape(r * tens.shape[1], -1)\n",
    "tmp.shape\n",
    "# Repeat steps 2-4, N-1 times"
   ]
  },
  {
   "cell_type": "code",
   "execution_count": 25,
   "id": "cc06b967-8605-415b-b866-e6df2222dc5c",
   "metadata": {},
   "outputs": [],
   "source": [
    "from copy import copy\n",
    "def tt_svd(tens: np.ndarray, eps: float = 10**-6, rank = 10**12) -> list:\n",
    "    \"\"\"\n",
    "    Compress a tensor to a MPS/TT using the TT-SVD algorithm.\n",
    "\n",
    "    Args:\n",
    "        tens: The input tensor\n",
    "        eps: Truncation error for each SVD\n",
    "    Return:\n",
    "        An MPS/TT as a list of order-3 tensors (dummy bonds are added to boundary tensors)\n",
    "    \"\"\"\n",
    "    dims = tens.shape\n",
    "    N = len(dims)\n",
    "    tmp = copy(tens)\n",
    "    A = []\n",
    "    r_prev = 1\n",
    "    for i in range(N-1):\n",
    "        # Reshape (step 4)\n",
    "        tmp = tmp.reshape(r_prev * dims[i], -1)\n",
    "        \n",
    "        # SVD + Truncate (step 2)\n",
    "        U, s, Vt = np.linalg.svd(tmp)\n",
    "        # Truncate singular values such that truncation error is less than or equal to eps\n",
    "        where_truncation_error_is_lower_than_eps = np.where(np.cumsum(s[::-1]**2) <= eps**2)[0]\n",
    "        num_sv_to_discard = 0 if len(where_truncation_error_is_lower_than_eps) == 0 else int(1 + where_truncation_error_is_lower_than_eps[-1])\n",
    "        r = min(rank, max(1, len(s) - num_sv_to_discard)) # new rank\n",
    "        \n",
    "        # Reshape and truncate U matrix, store in return list\n",
    "        A.append(U[:,:r].reshape(r_prev, dims[i], r))\n",
    "        \n",
    "        # Contract s and Vt (step 3)\n",
    "        tmp = np.diagflat(s[:r]) @ Vt[:r,:]\n",
    "        r_prev = r\n",
    "    A.append(tmp.reshape(r_prev, dims[-1], 1))\n",
    "    return A"
   ]
  },
  {
   "cell_type": "code",
   "execution_count": 26,
   "id": "d9cecaf1-d651-4a90-a00d-1f1a0d2ae030",
   "metadata": {},
   "outputs": [],
   "source": [
    "eps=10**-1\n",
    "mps = tt_svd(tens, eps=eps)"
   ]
  },
  {
   "cell_type": "code",
   "execution_count": 27,
   "id": "5c6a887f-7796-4a8d-a425-bcce6d0de9cb",
   "metadata": {},
   "outputs": [],
   "source": [
    "# Show bond dimensions/tt-ranks\n",
    "def bdims(mps: list):\n",
    "    return [site.shape[0] for site in mps] + [mps[-1].shape[-1]]"
   ]
  },
  {
   "cell_type": "code",
   "execution_count": 28,
   "id": "2c7f950c-cc1c-49b2-8cc1-95181a5df944",
   "metadata": {},
   "outputs": [
    {
     "data": {
      "text/plain": [
       "[1, 2, 4, 8, 16, 31, 16, 8, 4, 2, 1]"
      ]
     },
     "execution_count": 28,
     "metadata": {},
     "output_type": "execute_result"
    }
   ],
   "source": [
    "bdims(mps)"
   ]
  },
  {
   "cell_type": "markdown",
   "id": "af856d66-f2df-4be1-bfff-c74ce95543ca",
   "metadata": {},
   "source": [
    "## Reconstructing full tensor "
   ]
  },
  {
   "cell_type": "code",
   "execution_count": 29,
   "id": "90233e9a-f864-4061-aa10-d47c84c044a1",
   "metadata": {},
   "outputs": [],
   "source": [
    "def restore_full(mps: list) -> np.ndarray:\n",
    "    \"\"\"\n",
    "    Restore full tensor from an MPS/TT\n",
    "\n",
    "    Args:\n",
    "        mps: List of order-3 tensors representing an MPS/TT\n",
    "\n",
    "    Return:\n",
    "        The full tensor\n",
    "    \"\"\"\n",
    "    tmp = mps[0]\n",
    "    dims = [site.shape[1] for site in mps]\n",
    "    for site in mps[1:]:\n",
    "        tmp = np.einsum('iuj,jvk->iuvk', tmp, site)\n",
    "        tmp = tmp.reshape(tmp.shape[0], tmp.shape[1] * tmp.shape[2], tmp.shape[3])\n",
    "    return tmp.reshape(dims)"
   ]
  },
  {
   "cell_type": "code",
   "execution_count": 30,
   "id": "1041e558-3f18-4c63-a476-ebc94659b2c8",
   "metadata": {},
   "outputs": [
    {
     "data": {
      "text/plain": [
       "0.06009167039144511"
      ]
     },
     "execution_count": 30,
     "metadata": {},
     "output_type": "execute_result"
    }
   ],
   "source": [
    "# The TT/MPS approximation error\n",
    "np.linalg.norm(tens - restore_full(mps)) "
   ]
  },
  {
   "cell_type": "code",
   "execution_count": 31,
   "id": "29c1c17a-93b9-48ad-8c04-9d63e48979f8",
   "metadata": {},
   "outputs": [
    {
     "data": {
      "text/plain": [
       "0.316227766016838"
      ]
     },
     "execution_count": 31,
     "metadata": {},
     "output_type": "execute_result"
    }
   ],
   "source": [
    "# Theoreterical upper bound for the TT/MPS approximation error (if each SVD truncation error is <= eps)\n",
    "eps * np.sqrt(N)"
   ]
  },
  {
   "cell_type": "code",
   "execution_count": 32,
   "id": "b91788a4-3e54-4a0c-8d68-3d768b7a3718",
   "metadata": {},
   "outputs": [
    {
     "data": {
      "text/plain": [
       "2664"
      ]
     },
     "execution_count": 32,
     "metadata": {},
     "output_type": "execute_result"
    }
   ],
   "source": [
    "# Number of parameters in MPS\n",
    "sum(np.count_nonzero(site) for site in mps)"
   ]
  },
  {
   "cell_type": "code",
   "execution_count": 33,
   "id": "b69128ac-0e45-47bf-83a1-cf5e94ebe7c4",
   "metadata": {},
   "outputs": [
    {
     "data": {
      "text/plain": [
       "1024"
      ]
     },
     "execution_count": 33,
     "metadata": {},
     "output_type": "execute_result"
    }
   ],
   "source": [
    "# Number of parameters in orginal tensor\n",
    "np.count_nonzero(tens)"
   ]
  },
  {
   "cell_type": "markdown",
   "id": "2e2f5948-2ab4-4dc7-a9ec-60e18682d535",
   "metadata": {},
   "source": [
    "## Tensors with low TT-rank\n",
    "\n",
    "The above random tensor doesn't have a low TT-rank and is not approximated well by a MPS/TT with low rank. Below is an example of a tensor which does have a low TT-rank (rank-2): a sinusoidal signal reshaped into a tensor. An even lower TT-rank tensor (rank-1) is that given by reshaping the exponential function."
   ]
  },
  {
   "cell_type": "code",
   "execution_count": 75,
   "id": "1176dffb-38d4-4a68-ba09-ed4f83672d9d",
   "metadata": {},
   "outputs": [],
   "source": [
    "N=10\n",
    "d=2\n",
    "\n",
    "w=1\n",
    "phi=0.5\n",
    "g=0.1\n",
    "def x(t):\n",
    "    return np.sin(w*t + phi)\n",
    "    # return np.exp(-g*t)\n",
    "\n",
    "tens = np.fromiter((x(t) for t in range(d**N)), dtype=np.float64).reshape([d] * N)\n",
    "mps = tt_svd(tens, eps=10**-10)"
   ]
  },
  {
   "cell_type": "code",
   "execution_count": 76,
   "id": "0a55cafc-5ba4-46b9-9c7c-1af8f2edc9d7",
   "metadata": {},
   "outputs": [
    {
     "data": {
      "text/plain": [
       "[1, 2, 2, 2, 2, 2, 2, 2, 2, 2, 1]"
      ]
     },
     "execution_count": 76,
     "metadata": {},
     "output_type": "execute_result"
    }
   ],
   "source": [
    "bdims(mps)"
   ]
  },
  {
   "cell_type": "code",
   "execution_count": 77,
   "id": "8899a2f9-47f7-4d68-b774-c18c24c82062",
   "metadata": {},
   "outputs": [
    {
     "data": {
      "text/plain": [
       "8.481668898998306e-14"
      ]
     },
     "execution_count": 77,
     "metadata": {},
     "output_type": "execute_result"
    }
   ],
   "source": [
    "np.linalg.norm(tens - restore_full(mps)) "
   ]
  },
  {
   "cell_type": "code",
   "execution_count": 78,
   "id": "a1e62d89-60db-40d3-8791-f1d3b714599e",
   "metadata": {},
   "outputs": [
    {
     "data": {
      "text/plain": [
       "72"
      ]
     },
     "execution_count": 78,
     "metadata": {},
     "output_type": "execute_result"
    }
   ],
   "source": [
    "sum(np.count_nonzero(site) for site in mps)"
   ]
  },
  {
   "cell_type": "code",
   "execution_count": 79,
   "id": "eb037860-0dfe-4e91-91ff-fed7bc6bc658",
   "metadata": {},
   "outputs": [
    {
     "data": {
      "text/plain": [
       "1024"
      ]
     },
     "execution_count": 79,
     "metadata": {},
     "output_type": "execute_result"
    }
   ],
   "source": [
    "np.count_nonzero(tens)"
   ]
  },
  {
   "cell_type": "markdown",
   "id": "9e5763d9-b48f-4771-83f6-de51a9df0945",
   "metadata": {},
   "source": [
    "## Getting tensor elements in the MPS/TT format"
   ]
  },
  {
   "cell_type": "code",
   "execution_count": 95,
   "id": "d1eadc0b-b59a-4d4d-9eb4-476dbd82a51f",
   "metadata": {},
   "outputs": [],
   "source": [
    "from functools import reduce\n",
    "def get_index(mps: list, inds):\n",
    "    return reduce(np.matmul, (site[:, ind, :] for site, ind in zip(mps, inds)))"
   ]
  },
  {
   "cell_type": "code",
   "execution_count": 96,
   "id": "028ac46f-5e63-4509-b376-21e8cbe7cbc6",
   "metadata": {},
   "outputs": [
    {
     "data": {
      "text/plain": [
       "array([[-0.78768666]])"
      ]
     },
     "execution_count": 96,
     "metadata": {},
     "output_type": "execute_result"
    }
   ],
   "source": [
    "get_index(mps, [0, 1, 1, 0, 0, 1, 0, 1, 1, 1])"
   ]
  },
  {
   "cell_type": "code",
   "execution_count": 97,
   "id": "8a17fea6-8d3b-4d82-a968-85fe24247bd5",
   "metadata": {},
   "outputs": [
    {
     "data": {
      "text/plain": [
       "-0.7876866561270567"
      ]
     },
     "execution_count": 97,
     "metadata": {},
     "output_type": "execute_result"
    }
   ],
   "source": [
    "tens[0, 1, 1, 0, 0, 1, 0, 1, 1, 1]"
   ]
  },
  {
   "cell_type": "markdown",
   "id": "8790059c-e351-494e-9590-434f518a38ba",
   "metadata": {},
   "source": [
    "## Product States"
   ]
  },
  {
   "cell_type": "code",
   "execution_count": 109,
   "id": "23019e62-aac1-44e6-829b-c9114d9be2e2",
   "metadata": {},
   "outputs": [],
   "source": [
    "def product_state_mps(state):\n",
    "    return [np.array(s).reshape(1, len(s), 1) for s in state]"
   ]
  },
  {
   "cell_type": "code",
   "execution_count": 110,
   "id": "db882961-9090-45b8-bda4-cf978eb6c4ea",
   "metadata": {},
   "outputs": [],
   "source": [
    "mps_1 = product_state_mps([[1,0], [0,1], [1, 0], [0, 1]]) # |psi> = |01010>"
   ]
  },
  {
   "cell_type": "code",
   "execution_count": 111,
   "id": "cc7c02be-23db-4115-8982-58ec3b5b6b5f",
   "metadata": {},
   "outputs": [
    {
     "data": {
      "text/plain": [
       "array([[1]])"
      ]
     },
     "execution_count": 111,
     "metadata": {},
     "output_type": "execute_result"
    }
   ],
   "source": [
    "# This mps has only 1 non-zero element:\n",
    "get_index(mps_1, [0, 1, 0, 1])"
   ]
  },
  {
   "cell_type": "code",
   "execution_count": 112,
   "id": "08ed4242-3f6a-4d9b-b48b-aff461ee8a8a",
   "metadata": {},
   "outputs": [],
   "source": [
    "sp = [1/np.sqrt(2), 1/np.sqrt(2)]\n",
    "sn = [1/np.sqrt(2), -1/np.sqrt(2)]\n",
    "mps_2 = product_state_mps([sp, sp, sp, sp])"
   ]
  },
  {
   "cell_type": "code",
   "execution_count": 113,
   "id": "efa41c98-2da1-435c-bdc1-e8416784e934",
   "metadata": {},
   "outputs": [
    {
     "data": {
      "text/plain": [
       "array([[0.25]])"
      ]
     },
     "execution_count": 113,
     "metadata": {},
     "output_type": "execute_result"
    }
   ],
   "source": [
    "# All elements of this mps are 0.25 (1/sqrt(2)^4)\n",
    "get_index(mps_2, [1, 0, 1, 0]) # |psi> = |s+s+s+s+> (superposition of all computational basis states, |0000>, |0001>, |0010>,"
   ]
  },
  {
   "cell_type": "markdown",
   "id": "62c08729-1863-4063-aeb0-24265882df58",
   "metadata": {},
   "source": [
    "## Calculating Observables"
   ]
  },
  {
   "cell_type": "code",
   "execution_count": 114,
   "id": "a6644f33-b8cd-4fef-8bd8-45691aab63a9",
   "metadata": {},
   "outputs": [],
   "source": [
    "def mps_inner_product(v, w): # See exercises/tn_contractions.ipynb\n",
    "    rho = np.identity(1)\n",
    "    for vi, wi in zip(v, w):\n",
    "        rho = np.einsum('ac,asb,csd->bd', rho, vi, wi)\n",
    "    return rho[0,0]"
   ]
  },
  {
   "cell_type": "code",
   "execution_count": 115,
   "id": "59225dcf-3a36-4fa9-8518-20275b938341",
   "metadata": {},
   "outputs": [
    {
     "data": {
      "text/plain": [
       "512.0930088554583"
      ]
     },
     "execution_count": 115,
     "metadata": {},
     "output_type": "execute_result"
    }
   ],
   "source": [
    "mps_inner_product(mps, mps)"
   ]
  },
  {
   "cell_type": "code",
   "execution_count": 116,
   "id": "884006cd-48fe-40f1-a825-0c8bd8df93dc",
   "metadata": {},
   "outputs": [
    {
     "data": {
      "text/plain": [
       "0.24999999999999992"
      ]
     },
     "execution_count": 116,
     "metadata": {},
     "output_type": "execute_result"
    }
   ],
   "source": [
    "# Overlap of mps1 and mps2\n",
    "mps_inner_product(mps_1, mps_2)"
   ]
  },
  {
   "cell_type": "code",
   "execution_count": 117,
   "id": "7f81c585-5ee0-4f7c-a8ef-76aa8c4431e5",
   "metadata": {},
   "outputs": [
    {
     "data": {
      "text/plain": [
       "1.0"
      ]
     },
     "execution_count": 117,
     "metadata": {},
     "output_type": "execute_result"
    }
   ],
   "source": [
    "# Norm of mps1\n",
    "mps_inner_product(mps_1, mps_1)"
   ]
  },
  {
   "cell_type": "code",
   "execution_count": 124,
   "id": "480cd938-a47d-459c-9784-9f4ce7b80966",
   "metadata": {},
   "outputs": [],
   "source": [
    "# Compute the expectation value of the operator on one site\n",
    "def compute_one_site_expectation(psi: list, operator: np.ndarray, site_index: int):\n",
    "    rho = np.identity(1)\n",
    "    physical_dimensions = [site.shape[1] for site in psi]\n",
    "    ops = [np.identity(d) for d in physical_dimensions]\n",
    "    ops[site_index] = operator\n",
    "    for ai, op, ai in zip(psi, ops, psi):\n",
    "        rho = np.einsum('ac,asb,st,ctd->bd', rho, ai, op, ai)\n",
    "    return rho"
   ]
  },
  {
   "cell_type": "code",
   "execution_count": 130,
   "id": "c9198507-81d9-4ab5-a080-204e65b9b1a0",
   "metadata": {},
   "outputs": [
    {
     "data": {
      "text/plain": [
       "array([[1.]])"
      ]
     },
     "execution_count": 130,
     "metadata": {},
     "output_type": "execute_result"
    }
   ],
   "source": [
    "sx = np.array([[0, 1], [1, 0]])\n",
    "sy = np.array([[0, -1j], [1j, 0]])\n",
    "sz = np.array([[1, 0], [0, -1]])\n",
    "compute_one_site_expectation(mps_1, sz, 2) "
   ]
  },
  {
   "cell_type": "code",
   "execution_count": 129,
   "id": "28b709ba-f7db-45d6-88dc-6f21d023cd21",
   "metadata": {},
   "outputs": [
    {
     "data": {
      "text/plain": [
       "array([[1.]])"
      ]
     },
     "execution_count": 129,
     "metadata": {},
     "output_type": "execute_result"
    }
   ],
   "source": [
    "compute_one_site_expectation(mps_2, sx, 2) "
   ]
  }
 ],
 "metadata": {
  "kernelspec": {
   "display_name": "Python 3 (ipykernel)",
   "language": "python",
   "name": "python3"
  },
  "language_info": {
   "codemirror_mode": {
    "name": "ipython",
    "version": 3
   },
   "file_extension": ".py",
   "mimetype": "text/x-python",
   "name": "python",
   "nbconvert_exporter": "python",
   "pygments_lexer": "ipython3",
   "version": "3.10.11"
  }
 },
 "nbformat": 4,
 "nbformat_minor": 5
}
