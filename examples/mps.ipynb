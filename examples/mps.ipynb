{
 "cells": [
  {
   "cell_type": "markdown",
   "id": "bbb891d1-77ff-4c3a-a439-eec02e0a2e07",
   "metadata": {},
   "source": [
    "# Matrix Product States"
   ]
  },
  {
   "cell_type": "code",
   "execution_count": 2,
   "id": "50091a60-7ae6-476a-b48f-7c84b4db856e",
   "metadata": {},
   "outputs": [],
   "source": [
    "import numpy as np"
   ]
  },
  {
   "cell_type": "markdown",
   "id": "40ef05e0-9656-4609-ac3b-869685a4b4fd",
   "metadata": {},
   "source": [
    "## TT-SVD"
   ]
  },
  {
   "cell_type": "code",
   "execution_count": 3,
   "id": "cbc29902-3d7c-48c7-8b45-bb7e35eed4a5",
   "metadata": {},
   "outputs": [
    {
     "data": {
      "text/plain": [
       "(2, 2, 2, 2, 2, 2, 2, 2, 2, 2)"
      ]
     },
     "execution_count": 3,
     "metadata": {},
     "output_type": "execute_result"
    }
   ],
   "source": [
    "N=10 # number of sites/spins\n",
    "d=2 # physical dimension\n",
    "\n",
    "eps=0 # SVD truncation error\n",
    "\n",
    "tens = np.random.rand(*[d] * N) # high-dimensional tensor\n",
    "A=[] # list for storing MPS tensors\n",
    "tens.shape"
   ]
  },
  {
   "cell_type": "code",
   "execution_count": 4,
   "id": "adcf20ce-efe6-401e-bd5e-09a4adf74791",
   "metadata": {},
   "outputs": [
    {
     "data": {
      "text/plain": [
       "(2, 512)"
      ]
     },
     "execution_count": 4,
     "metadata": {},
     "output_type": "execute_result"
    }
   ],
   "source": [
    "# Reshape (step 1)\n",
    "tmp = tens.reshape(tens.shape[0], -1) # (temporary tensor)\n",
    "tmp.shape"
   ]
  },
  {
   "cell_type": "code",
   "execution_count": 5,
   "id": "9222e270-45cc-4563-9814-227a1908a29b",
   "metadata": {},
   "outputs": [],
   "source": [
    "# SVD + Truncate (step 2)\n",
    "U, s, Vt = np.linalg.svd(tmp)\n",
    "\n",
    "# Truncate singular values such that truncation error is less than or equal to eps\n",
    "where_truncation_error_is_lower_than_eps = np.where(np.cumsum(s[::-1]**2) <= eps**2)[0]\n",
    "num_sv_to_discard = 0 if len(where_truncation_error_is_lower_than_eps) == 0 else int(1 + where_truncation_error_is_lower_than_eps[-1])\n",
    "r = max(1, len(s) - num_sv_to_discard) # new rank"
   ]
  },
  {
   "cell_type": "code",
   "execution_count": 6,
   "id": "bcbb7522-6165-4bd2-9fdc-ee590c5dcb26",
   "metadata": {},
   "outputs": [
    {
     "data": {
      "text/plain": [
       "(1, 2, 2)"
      ]
     },
     "execution_count": 6,
     "metadata": {},
     "output_type": "execute_result"
    }
   ],
   "source": [
    "# Reshape and truncate U matrix, store as first MPS site\n",
    "A.append(U[:,:r].reshape(1, d, r))\n",
    "A[0].shape"
   ]
  },
  {
   "cell_type": "code",
   "execution_count": 7,
   "id": "03f5a62a-9c2b-4b5e-8926-377490d63d7e",
   "metadata": {},
   "outputs": [
    {
     "data": {
      "text/plain": [
       "(2, 512)"
      ]
     },
     "execution_count": 7,
     "metadata": {},
     "output_type": "execute_result"
    }
   ],
   "source": [
    "# Contract s and Vt (step 3)\n",
    "tmp = np.diagflat(s[:r]) @ Vt[:r,:]\n",
    "tmp.shape"
   ]
  },
  {
   "cell_type": "code",
   "execution_count": 8,
   "id": "187c39be-07dc-4e87-b766-6e0bd4edbfbc",
   "metadata": {},
   "outputs": [
    {
     "data": {
      "text/plain": [
       "(4, 256)"
      ]
     },
     "execution_count": 8,
     "metadata": {},
     "output_type": "execute_result"
    }
   ],
   "source": [
    "# Reshape (step 4)\n",
    "tmp = tmp.reshape(r * tens.shape[1], -1)\n",
    "tmp.shape\n",
    "# Repeat steps 2-4, N-1 times"
   ]
  },
  {
   "cell_type": "code",
   "execution_count": 9,
   "id": "cc06b967-8605-415b-b866-e6df2222dc5c",
   "metadata": {},
   "outputs": [],
   "source": [
    "from copy import copy\n",
    "def tt_svd(tens: np.ndarray, eps: float = 10**-6, rank = 10**12) -> list:\n",
    "    \"\"\"\n",
    "    Compress a tensor to a MPS/TT using the TT-SVD algorithm.\n",
    "\n",
    "    Args:\n",
    "        tens: The input tensor\n",
    "        eps: Truncation error for each SVD\n",
    "    Return:\n",
    "        An MPS/TT as a list of order-3 tensors (dummy bonds are added to boundary tensors)\n",
    "    \"\"\"\n",
    "    dims = tens.shape\n",
    "    N = len(dims)\n",
    "    tmp = copy(tens)\n",
    "    A = []\n",
    "    r_prev = 1\n",
    "    for i in range(N-1):\n",
    "        # Reshape (step 4)\n",
    "        tmp = tmp.reshape(r_prev * dims[i], -1)\n",
    "        \n",
    "        # SVD + Truncate (step 2)\n",
    "        U, s, Vt = np.linalg.svd(tmp)\n",
    "        # Truncate singular values such that truncation error is less than or equal to eps\n",
    "        where_truncation_error_is_lower_than_eps = np.where(np.cumsum(s[::-1]**2) <= eps**2)[0]\n",
    "        num_sv_to_discard = 0 if len(where_truncation_error_is_lower_than_eps) == 0 else int(1 + where_truncation_error_is_lower_than_eps[-1])\n",
    "        r = min(rank, max(1, len(s) - num_sv_to_discard)) # new rank\n",
    "        \n",
    "        # Reshape and truncate U matrix, store in return list\n",
    "        A.append(U[:,:r].reshape(r_prev, dims[i], r))\n",
    "        \n",
    "        # Contract s and Vt (step 3)\n",
    "        tmp = np.diagflat(s[:r]) @ Vt[:r,:]\n",
    "        r_prev = r\n",
    "    A.append(tmp.reshape(r_prev, dims[-1], 1))\n",
    "    return A"
   ]
  },
  {
   "cell_type": "code",
   "execution_count": 10,
   "id": "d9cecaf1-d651-4a90-a00d-1f1a0d2ae030",
   "metadata": {},
   "outputs": [],
   "source": [
    "eps=10**-1\n",
    "mps = tt_svd(tens, eps=eps)"
   ]
  },
  {
   "cell_type": "code",
   "execution_count": 11,
   "id": "5c6a887f-7796-4a8d-a425-bcce6d0de9cb",
   "metadata": {},
   "outputs": [],
   "source": [
    "# Show bond dimensions/tt-ranks\n",
    "def bdims(mps: list):\n",
    "    return [site.shape[0] for site in mps] + [mps[-1].shape[-1]]"
   ]
  },
  {
   "cell_type": "code",
   "execution_count": 12,
   "id": "2c7f950c-cc1c-49b2-8cc1-95181a5df944",
   "metadata": {},
   "outputs": [
    {
     "data": {
      "text/plain": [
       "[1, 2, 4, 8, 16, 31, 16, 8, 4, 2, 1]"
      ]
     },
     "execution_count": 12,
     "metadata": {},
     "output_type": "execute_result"
    }
   ],
   "source": [
    "bdims(mps)"
   ]
  },
  {
   "cell_type": "markdown",
   "id": "af856d66-f2df-4be1-bfff-c74ce95543ca",
   "metadata": {},
   "source": [
    "## Reconstructing full tensor "
   ]
  },
  {
   "cell_type": "code",
   "execution_count": 13,
   "id": "90233e9a-f864-4061-aa10-d47c84c044a1",
   "metadata": {},
   "outputs": [],
   "source": [
    "def restore_full(mps: list) -> np.ndarray:\n",
    "    \"\"\"\n",
    "    Restore full tensor from an MPS/TT\n",
    "\n",
    "    Args:\n",
    "        mps: List of order-3 tensors representing an MPS/TT\n",
    "\n",
    "    Return:\n",
    "        The full tensor\n",
    "    \"\"\"\n",
    "    tmp = mps[0]\n",
    "    dims = [site.shape[1] for site in mps]\n",
    "    for site in mps[1:]:\n",
    "        tmp = np.einsum('iuj,jvk->iuvk', tmp, site)\n",
    "        tmp = tmp.reshape(tmp.shape[0], tmp.shape[1] * tmp.shape[2], tmp.shape[3])\n",
    "    return tmp.reshape(dims)"
   ]
  },
  {
   "cell_type": "code",
   "execution_count": 14,
   "id": "1041e558-3f18-4c63-a476-ebc94659b2c8",
   "metadata": {},
   "outputs": [
    {
     "data": {
      "text/plain": [
       "0.04256018024345947"
      ]
     },
     "execution_count": 14,
     "metadata": {},
     "output_type": "execute_result"
    }
   ],
   "source": [
    "# The TT/MPS approximation error\n",
    "np.linalg.norm(tens - restore_full(mps)) "
   ]
  },
  {
   "cell_type": "code",
   "execution_count": 15,
   "id": "29c1c17a-93b9-48ad-8c04-9d63e48979f8",
   "metadata": {},
   "outputs": [
    {
     "data": {
      "text/plain": [
       "0.316227766016838"
      ]
     },
     "execution_count": 15,
     "metadata": {},
     "output_type": "execute_result"
    }
   ],
   "source": [
    "# Theoreterical upper bound for the TT/MPS approximation error (if each SVD truncation error is <= eps)\n",
    "eps * np.sqrt(N)"
   ]
  },
  {
   "cell_type": "code",
   "execution_count": 16,
   "id": "b91788a4-3e54-4a0c-8d68-3d768b7a3718",
   "metadata": {},
   "outputs": [
    {
     "data": {
      "text/plain": [
       "2664"
      ]
     },
     "execution_count": 16,
     "metadata": {},
     "output_type": "execute_result"
    }
   ],
   "source": [
    "# Number of parameters in MPS\n",
    "sum(np.count_nonzero(site) for site in mps)"
   ]
  },
  {
   "cell_type": "code",
   "execution_count": 17,
   "id": "b69128ac-0e45-47bf-83a1-cf5e94ebe7c4",
   "metadata": {},
   "outputs": [
    {
     "data": {
      "text/plain": [
       "1024"
      ]
     },
     "execution_count": 17,
     "metadata": {},
     "output_type": "execute_result"
    }
   ],
   "source": [
    "# Number of parameters in orginal tensor\n",
    "np.count_nonzero(tens)"
   ]
  },
  {
   "cell_type": "markdown",
   "id": "2e2f5948-2ab4-4dc7-a9ec-60e18682d535",
   "metadata": {},
   "source": [
    "## Tensors with low TT-rank\n",
    "\n",
    "The above random tensor doesn't have a low TT-rank and is not approximated well by a MPS/TT with low rank. Below is an example of a tensor which does have a low TT-rank (rank-2): a sinusoidal signal reshaped into a tensor. An even lower TT-rank tensor (rank-1) is that given by reshaping the exponential function."
   ]
  },
  {
   "cell_type": "code",
   "execution_count": 60,
   "id": "1176dffb-38d4-4a68-ba09-ed4f83672d9d",
   "metadata": {},
   "outputs": [],
   "source": [
    "N=10\n",
    "d=2\n",
    "\n",
    "w=1\n",
    "phi=0.5\n",
    "g=0.1\n",
    "def x(t):\n",
    "    return np.sin(w*t + phi)\n",
    "    # return np.exp(-g*t)\n",
    "\n",
    "tens = np.fromiter((x(t) for t in range(d**N)), dtype=np.float64).reshape([d] * N)\n",
    "mps = tt_svd(tens, eps=10**-10)"
   ]
  },
  {
   "cell_type": "code",
   "execution_count": 61,
   "id": "0a55cafc-5ba4-46b9-9c7c-1af8f2edc9d7",
   "metadata": {},
   "outputs": [
    {
     "data": {
      "text/plain": [
       "[1, 2, 2, 2, 2, 2, 2, 2, 2, 2, 1]"
      ]
     },
     "execution_count": 61,
     "metadata": {},
     "output_type": "execute_result"
    }
   ],
   "source": [
    "bdims(mps)"
   ]
  },
  {
   "cell_type": "code",
   "execution_count": 62,
   "id": "8899a2f9-47f7-4d68-b774-c18c24c82062",
   "metadata": {},
   "outputs": [
    {
     "data": {
      "text/plain": [
       "8.481668898998306e-14"
      ]
     },
     "execution_count": 62,
     "metadata": {},
     "output_type": "execute_result"
    }
   ],
   "source": [
    "np.linalg.norm(tens - restore_full(mps)) "
   ]
  },
  {
   "cell_type": "code",
   "execution_count": 63,
   "id": "a1e62d89-60db-40d3-8791-f1d3b714599e",
   "metadata": {},
   "outputs": [
    {
     "data": {
      "text/plain": [
       "72"
      ]
     },
     "execution_count": 63,
     "metadata": {},
     "output_type": "execute_result"
    }
   ],
   "source": [
    "sum(np.count_nonzero(site) for site in mps)"
   ]
  },
  {
   "cell_type": "code",
   "execution_count": 64,
   "id": "eb037860-0dfe-4e91-91ff-fed7bc6bc658",
   "metadata": {},
   "outputs": [
    {
     "data": {
      "text/plain": [
       "1024"
      ]
     },
     "execution_count": 64,
     "metadata": {},
     "output_type": "execute_result"
    }
   ],
   "source": [
    "np.count_nonzero(tens)"
   ]
  },
  {
   "cell_type": "markdown",
   "id": "9e5763d9-b48f-4771-83f6-de51a9df0945",
   "metadata": {},
   "source": [
    "## Getting tensor elements in the MPS/TT format"
   ]
  },
  {
   "cell_type": "code",
   "execution_count": 49,
   "id": "d1eadc0b-b59a-4d4d-9eb4-476dbd82a51f",
   "metadata": {},
   "outputs": [],
   "source": [
    "from functools import reduce\n",
    "def get_index(mps: list, inds):\n",
    "    return reduce(np.matmul, (site[:, ind, :] for site, ind in zip(mps, inds)))"
   ]
  },
  {
   "cell_type": "code",
   "execution_count": 68,
   "id": "028ac46f-5e63-4509-b376-21e8cbe7cbc6",
   "metadata": {},
   "outputs": [
    {
     "data": {
      "text/plain": [
       "array([[-0.78768666]])"
      ]
     },
     "execution_count": 68,
     "metadata": {},
     "output_type": "execute_result"
    }
   ],
   "source": [
    "get_index(mps, [0, 1, 1, 0, 0, 1, 0, 1, 1, 1])"
   ]
  },
  {
   "cell_type": "code",
   "execution_count": 69,
   "id": "8a17fea6-8d3b-4d82-a968-85fe24247bd5",
   "metadata": {},
   "outputs": [
    {
     "data": {
      "text/plain": [
       "-0.7876866561270567"
      ]
     },
     "execution_count": 69,
     "metadata": {},
     "output_type": "execute_result"
    }
   ],
   "source": [
    "tens[0, 1, 1, 0, 0, 1, 0, 1, 1, 1]"
   ]
  },
  {
   "cell_type": "code",
   "execution_count": null,
   "id": "491343db-7a0b-4711-b124-87556850a0f0",
   "metadata": {},
   "outputs": [],
   "source": []
  }
 ],
 "metadata": {
  "kernelspec": {
   "display_name": "Python 3 (ipykernel)",
   "language": "python",
   "name": "python3"
  },
  "language_info": {
   "codemirror_mode": {
    "name": "ipython",
    "version": 3
   },
   "file_extension": ".py",
   "mimetype": "text/x-python",
   "name": "python",
   "nbconvert_exporter": "python",
   "pygments_lexer": "ipython3",
   "version": "3.10.11"
  }
 },
 "nbformat": 4,
 "nbformat_minor": 5
}
