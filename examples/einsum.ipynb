{
 "cells": [
  {
   "cell_type": "markdown",
   "metadata": {},
   "source": [
    "# Tensor contractions"
   ]
  },
  {
   "cell_type": "code",
   "execution_count": null,
   "metadata": {},
   "outputs": [],
   "source": [
    "import numpy as np\n",
    "\n",
    "# Index dimensions\n",
    "Di = 30\n",
    "Dj = 50\n",
    "Dk = 20\n",
    "Dl = 50\n",
    "Dm = 20\n",
    "\n",
    "A = np.random.rand(Di, Dj, Dk) # A_ijk\n",
    "B = np.random.rand(Dj, Dl) # B_jl\n",
    "C = np.random.rand(Dk, Dm) # C_km"
   ]
  },
  {
   "cell_type": "code",
   "execution_count": 49,
   "metadata": {},
   "outputs": [],
   "source": [
    "A_ij_k = np.reshape(A, [Di*Dj, Dk])\n",
    "AC_ij_m = A_ij_k @ C\n",
    "AC_i_j_m = np.reshape(AC_ij_m, [Di, Dj, Dm])\n",
    "AC_i_m_j = np.transpose(AC_i_j_m, [0, 2, 1])\n",
    "AC_im_j = np.reshape(AC_i_m_j, [Di*Dm, Dj])\n",
    "ACB_im_l = AC_im_j @ B\n",
    "ACB_i_m_l = np.reshape(ACB_im_l, [Di, Dm, Dl])\n",
    "ACB_i_l_m = np.transpose(ACB_i_m_l, [0, 2, 1])"
   ]
  },
  {
   "cell_type": "markdown",
   "metadata": {},
   "source": [
    "## Einsum"
   ]
  },
  {
   "cell_type": "code",
   "execution_count": 31,
   "metadata": {},
   "outputs": [],
   "source": [
    "D = np.einsum('ijk,jl,km->ilm', A, B, C) # D_ilm"
   ]
  },
  {
   "cell_type": "code",
   "execution_count": 54,
   "metadata": {},
   "outputs": [
    {
     "data": {
      "text/plain": [
       "True"
      ]
     },
     "execution_count": 54,
     "metadata": {},
     "output_type": "execute_result"
    }
   ],
   "source": [
    "np.allclose(D, ACB_i_l_m)"
   ]
  },
  {
   "cell_type": "code",
   "execution_count": 32,
   "metadata": {},
   "outputs": [
    {
     "data": {
      "text/plain": [
       "(30, 50, 20)"
      ]
     },
     "execution_count": 32,
     "metadata": {},
     "output_type": "execute_result"
    }
   ],
   "source": [
    "D.shape"
   ]
  },
  {
   "cell_type": "markdown",
   "metadata": {},
   "source": [
    "# Contraction Order"
   ]
  },
  {
   "cell_type": "code",
   "execution_count": 33,
   "metadata": {},
   "outputs": [
    {
     "name": "stdout",
     "output_type": "stream",
     "text": [
      "['einsum_path', (0, 1), (0, 1)]\n"
     ]
    }
   ],
   "source": [
    "# Use einsum_path to calculate optimal contraction order\n",
    "path_info = np.einsum_path('ijk,jl,km->ilm', A, B, C)\n",
    "print(path_info[0])"
   ]
  },
  {
   "cell_type": "code",
   "execution_count": 34,
   "metadata": {},
   "outputs": [
    {
     "name": "stdout",
     "output_type": "stream",
     "text": [
      "  Complete contraction:  ijk,jl,km->ilm\n",
      "         Naive scaling:  5\n",
      "     Optimized scaling:  4\n",
      "      Naive FLOP count:  9.000e+07\n",
      "  Optimized FLOP count:  4.200e+06\n",
      "   Theoretical speedup:  21.429\n",
      "  Largest intermediate:  3.000e+04 elements\n",
      "--------------------------------------------------------------------------\n",
      "scaling                  current                                remaining\n",
      "--------------------------------------------------------------------------\n",
      "   4                 jl,ijk->kil                              km,kil->ilm\n",
      "   4                 kil,km->ilm                                 ilm->ilm\n"
     ]
    }
   ],
   "source": [
    "print(path_info[1])"
   ]
  },
  {
   "cell_type": "code",
   "execution_count": 41,
   "metadata": {},
   "outputs": [
    {
     "name": "stdout",
     "output_type": "stream",
     "text": [
      "378 µs ± 14.8 µs per loop (mean ± std. dev. of 7 runs, 1,000 loops each)\n"
     ]
    }
   ],
   "source": [
    "%%timeit\n",
    "D = np.einsum('ijk,jl,km->ilm', A, B, C, optimize=True) # D_ilm"
   ]
  },
  {
   "cell_type": "code",
   "execution_count": 42,
   "metadata": {},
   "outputs": [
    {
     "name": "stdout",
     "output_type": "stream",
     "text": [
      "27.6 ms ± 446 µs per loop (mean ± std. dev. of 7 runs, 10 loops each)\n"
     ]
    }
   ],
   "source": [
    "%%timeit\n",
    "D = np.einsum('ijk,jl,km->ilm', A, B, C, optimize=False) # D_ilm"
   ]
  },
  {
   "cell_type": "code",
   "execution_count": 47,
   "metadata": {},
   "outputs": [
    {
     "name": "stdout",
     "output_type": "stream",
     "text": [
      "2.54 ms ± 166 µs per loop (mean ± std. dev. of 7 runs, 100 loops each)\n"
     ]
    }
   ],
   "source": [
    "%%timeit\n",
    "D = np.einsum('ijk,jl,km->ilm', A, B, C, optimize=['einsum_path', (1, 2), (0, 1)]) # D_ilm"
   ]
  },
  {
   "cell_type": "code",
   "execution_count": 44,
   "metadata": {},
   "outputs": [
    {
     "name": "stdout",
     "output_type": "stream",
     "text": [
      "326 µs ± 33.6 µs per loop (mean ± std. dev. of 7 runs, 1,000 loops each)\n"
     ]
    }
   ],
   "source": [
    "%%timeit\n",
    "D = np.einsum('ijk,jl,km->ilm', A, B, C, optimize=['einsum_path', (0, 1), (0, 1)]) # D_ilm"
   ]
  },
  {
   "cell_type": "code",
   "execution_count": 45,
   "metadata": {},
   "outputs": [
    {
     "name": "stdout",
     "output_type": "stream",
     "text": [
      "132 µs ± 6.71 µs per loop (mean ± std. dev. of 7 runs, 10,000 loops each)\n"
     ]
    }
   ],
   "source": [
    "%%timeit\n",
    "D = np.einsum('ijk,jl,km->ilm', A, B, C, optimize=['einsum_path', (0, 2), (0, 1)]) # D_ilm"
   ]
  }
 ],
 "metadata": {
  "interpreter": {
   "hash": "aee8b7b246df8f9039afb4144a1f6fd8d2ca17a180786b69acc140d282b71a49"
  },
  "kernelspec": {
   "display_name": "Python 3 (ipykernel)",
   "language": "python",
   "name": "python3"
  },
  "language_info": {
   "codemirror_mode": {
    "name": "ipython",
    "version": 3
   },
   "file_extension": ".py",
   "mimetype": "text/x-python",
   "name": "python",
   "nbconvert_exporter": "python",
   "pygments_lexer": "ipython3",
   "version": "3.10.11"
  }
 },
 "nbformat": 4,
 "nbformat_minor": 4
}
