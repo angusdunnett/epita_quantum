{
 "cells": [
  {
   "cell_type": "markdown",
   "metadata": {},
   "source": [
    "# Understanding the `order` Parameter in NumPy Arrays\n",
    "\n",
    "In this notebook, we will explore the concept of memory ordering in NumPy arrays, specifically focusing on the `order` parameter. Understanding how data is stored in memory is crucial for efficient computations, particularly when working with multi-dimensional arrays or tensors in scientific computing and machine learning.\n",
    "\n",
    "## Table of Contents\n",
    "1. What is the `order` Parameter?\n",
    "2. Row-Major (C-style) vs Column-Major (Fortran-style) Ordering\n",
    "3. Ordering for multi-dimensional arrays (tensors)\n",
    "4. Performance Implications of Different Memory Orders\n",
    "5. Permuting and Reshaping\n",
    "6. Manipulating Strides for Advanced Array Operations\n",
    "7. Exercises\n"
   ]
  },
  {
   "cell_type": "markdown",
   "metadata": {},
   "source": [
    "## 1. What is the `order` Parameter?\n",
    "\n",
    "The `order` parameter in NumPy determines how a multi-dimensional array is stored in memory:\n",
    "- `order='C'` (C-style): Row-major order, where rows are stored one after the other.\n",
    "- `order='F'` (Fortran-style): Column-major order, where columns are stored one after the other.\n",
    "- `order='A'`: (Any order) Preserves the original order of the array. Defaults to C-order if the array is neither C- nor F-contiguous.\n",
    "- `order='K'`: (Keep order) Preserves the order of elements, depending on the memory layout.\n",
    "\n",
    "Understanding this parameter is essential for optimizing array operations and understanding how data is accessed and manipulated."
   ]
  },
  {
   "cell_type": "markdown",
   "metadata": {},
   "source": [
    "## 2. Row-Major (C-style) vs Column-Major (Fortran-style) Ordering\n",
    "\n",
    "In **row-major (C-style) ordering**, the elements of a row are stored in contiguous memory locations. This is the default ordering for NumPy arrays. In **column-major (Fortran-style) ordering**, the elements of a column are stored in contiguous memory locations. This ordering is commonly used in scientific computing environments like Fortran and MATLAB.\n",
    "\n",
    "### Row-Major (C-style) Example\n",
    "Consider a 2D array:\n",
    "$\\begin{bmatrix} 1 & 2 & 3 \\\\ 4 & 5 & 6 \\end{bmatrix} $\n",
    "\n",
    "In row-major order, this array is stored in memory as: `[1, 2, 3, 4, 5, 6]`."
   ]
  },
  {
   "cell_type": "code",
   "execution_count": 64,
   "metadata": {},
   "outputs": [
    {
     "name": "stdout",
     "output_type": "stream",
     "text": [
      "C-style ordering: [1 2 3 4 5 6]\n"
     ]
    }
   ],
   "source": [
    "import numpy as np\n",
    "\n",
    "# Default C-style ordering\n",
    "matrix_c = np.array([[1, 2, 3], [4, 5, 6]], order='C')\n",
    "print(\"C-style ordering:\", np.ravel(matrix_c, order='K'))"
   ]
  },
  {
   "cell_type": "markdown",
   "metadata": {},
   "source": [
    "\n",
    "### Column-Major (Fortran-style) Example\n",
    "The same array in column-major order is stored as: `[1, 4, 2, 5, 3, 6]`."
   ]
  },
  {
   "cell_type": "code",
   "execution_count": 65,
   "metadata": {},
   "outputs": [
    {
     "name": "stdout",
     "output_type": "stream",
     "text": [
      "Fortran-style ordering: [1 4 2 5 3 6]\n"
     ]
    }
   ],
   "source": [
    "# Fortran-style ordering\n",
    "matrix_f = np.array(matrix_c, order='F', copy=True)\n",
    "print(\"Fortran-style ordering:\", np.ravel(matrix_f, order='K'))"
   ]
  },
  {
   "cell_type": "markdown",
   "metadata": {},
   "source": [
    "You can see whether an array is C-contiguous or Fortran-contiguous by checking the `flags` attribute:"
   ]
  },
  {
   "cell_type": "code",
   "execution_count": 66,
   "metadata": {},
   "outputs": [
    {
     "data": {
      "text/plain": [
       "  C_CONTIGUOUS : True\n",
       "  F_CONTIGUOUS : False\n",
       "  OWNDATA : True\n",
       "  WRITEABLE : True\n",
       "  ALIGNED : True\n",
       "  WRITEBACKIFCOPY : False"
      ]
     },
     "execution_count": 66,
     "metadata": {},
     "output_type": "execute_result"
    }
   ],
   "source": [
    "matrix_c.flags"
   ]
  },
  {
   "cell_type": "code",
   "execution_count": 67,
   "metadata": {},
   "outputs": [
    {
     "data": {
      "text/plain": [
       "  C_CONTIGUOUS : False\n",
       "  F_CONTIGUOUS : True\n",
       "  OWNDATA : True\n",
       "  WRITEABLE : True\n",
       "  ALIGNED : True\n",
       "  WRITEBACKIFCOPY : False"
      ]
     },
     "execution_count": 67,
     "metadata": {},
     "output_type": "execute_result"
    }
   ],
   "source": [
    "matrix_f.flags"
   ]
  },
  {
   "cell_type": "markdown",
   "metadata": {},
   "source": [
    "## 3. Ordering for multi-dimensional arrays (tensors)\n",
    "\n",
    "We've seen how C and Fortran style ordering works for matrices. In C-style ordering elements are ordered first by the row index, then by column index; whereas in Fortran-style ordering the column index take precedence. Tensors don't just have rows and columns but an arbitrary number of indices, so we need to generalise how elements are ordered. \n",
    "\n",
    "### C-style ordering for tensors\n",
    "\n",
    "In **C-style (row-major) order** tensor elements are ordered first by the first index, then by the second, then the thrid, and so on. In other words, elements are stored in memory such that **the last axis (index) changes fastest**, and the first axis changes slowest.\n",
    "\n",
    "Consider a 3D array as an example:\n",
    "\n",
    "$$\n",
    "A[i, j, k]\n",
    "$$\n",
    "\n",
    "In C-style order:\n",
    "- The last index `k` changes the fastest.\n",
    "- The second-to-last index `j` changes next.\n",
    "- The first index `i` changes the slowest.\n",
    "\n",
    "For example, if the shape of A was `(2, 3, 4)`, the memory layout in C-style order would be:\n",
    "\n",
    "$$\n",
    "[A[0, 0, 0], A[0, 0, 1], A[0, 0, 2], A[0, 0, 3], A[0, 1, 0], A[0, 1, 1], ..., A[1, 2, 3]]\n",
    "$$\n",
    "\n",
    "Here, the last index `k` changes first, then `j`, and finally `i`.\n",
    "\n",
    "### **Lexicographical Ordering and C-Style Order**\n",
    "\n",
    "C-style ordering is equivalent to **lexicographical ordering**. It works as follows:\n",
    "\n",
    "1. Start with the leftmost index and compare.\n",
    "2. If the leftmost indices are the same, compare the next index to the right.\n",
    "3. Continue this process until a difference is found or all indices are compared.\n",
    "\n",
    "Lexicographical ordering is how words are ordered in the dictionary, compare the first 7 words of the dictionary with the way the array elements are stored:\n",
    "\n",
    "1. A\n",
    "2. Aa\n",
    "3. Aardvark\n",
    "4. Aardwolf\n",
    "5. Aasvogel\n",
    "6. Ab\n",
    "7. Abaca\n",
    "\n",
    "### **Strides**\n",
    "\n",
    "When considering how elements are ordering in NumPy arrays is it important to understand the **strides** attribute. Strides in a NumPy array refer to the number of bytes that need to be jumped in memory to move to the next position along each dimension of the array. An array that is stored in C-contiguous order will have different strides than an array with the same shape stored in F-contiguous (Fortran) order."
   ]
  },
  {
   "cell_type": "code",
   "execution_count": 68,
   "metadata": {},
   "outputs": [
    {
     "name": "stdout",
     "output_type": "stream",
     "text": [
      "Array:\n",
      "[[ 1  2  3  4]\n",
      " [ 5  6  7  8]\n",
      " [ 9 10 11 12]]\n",
      "Strides of the array: (32, 8)\n",
      "Data type: int64\n"
     ]
    }
   ],
   "source": [
    "# Create a 2D C-style ordered NumPy array\n",
    "array = np.array([[1, 2, 3, 4], [5, 6, 7, 8], [9, 10, 11, 12]])\n",
    "print(\"Array:\")\n",
    "print(array)\n",
    "\n",
    "# Display the strides of the array\n",
    "print(f\"Strides of the array: {array.strides}\")\n",
    "print(f\"Data type: {array.dtype}\")\n"
   ]
  },
  {
   "cell_type": "markdown",
   "metadata": {},
   "source": [
    "### Explanation of Strides Output\n",
    "\n",
    "The output `(32, 8)` indicates the number of bytes that must be moved in memory to proceed to the next row and the next column, respectively:\n",
    "\n",
    "- `32` bytes to move to the next row (since a row contains 4 elements, each of 8 bytes since the data type is `int64`)\n",
    "- `8` bytes to move to the next column (as each element is 8 bytes)\n",
    "\n",
    "**In a C-contiguous array the strides will always be in decreasing order**"
   ]
  },
  {
   "cell_type": "code",
   "execution_count": 69,
   "metadata": {},
   "outputs": [
    {
     "name": "stdout",
     "output_type": "stream",
     "text": [
      "Strides of C-contiguous tensor are in decreaing order: (320, 64, 32, 8)\n"
     ]
    }
   ],
   "source": [
    "# Create random C-contiguous tensor\n",
    "array = np.random.rand(3, 5, 2, 4)\n",
    "print(f\"Strides of C-contiguous tensor are in decreaing order: {array.strides}\")\n"
   ]
  },
  {
   "cell_type": "markdown",
   "metadata": {},
   "source": [
    "\n",
    "\n",
    "### Fortran-style ordering for tensors\n",
    "\n",
    "In fortran style ordering the first index changes fastest.\n",
    "\n",
    "Consider again the 3D array:\n",
    "\n",
    "$$\n",
    "A[i, j, k]\n",
    "$$\n",
    "\n",
    "In Fortran-style order:\n",
    "- The first index `i` changes the fastest.\n",
    "- The second index `j` changes next.\n",
    "- The last index `k` changes the slowest.\n",
    "\n",
    "The memory layout in Fortran-style order would be:\n",
    "$$\n",
    "[A[0,0,0],A[1,0,0],A[0,1,0],A[1,1,0],A[0,2,0],A[1,2,0],A[0,0,1],A[1,0,1],…,A[1,2,3]]\n",
    "$$\n",
    "\n",
    "### **Colexicographical Ordering**\n",
    "\n",
    "Fortran-style ordering is equivalent to **colexicographical ordering**, the opposite of lexicographical ordering which is less common.\n",
    "\n",
    "**In a F-contiguous array the strides will always be in increasing order**\n"
   ]
  },
  {
   "cell_type": "code",
   "execution_count": 70,
   "metadata": {},
   "outputs": [
    {
     "name": "stdout",
     "output_type": "stream",
     "text": [
      "Strides of F-contiguous tensor are in increasing order: (8, 24, 120, 240)\n"
     ]
    }
   ],
   "source": [
    "# Create random F-contiguous tensor\n",
    "array = np.array(np.random.rand(3, 5, 2, 4), order='F')\n",
    "print(f\"Strides of F-contiguous tensor are in increasing order: {array.strides}\")"
   ]
  },
  {
   "cell_type": "markdown",
   "metadata": {},
   "source": [
    "## 4. Performance Implications of Different Memory Orders\n",
    "\n",
    "The choice of memory order can have a significant impact on performance, especially for large arrays. Contiguous access patterns (accessing data in the order it is stored in memory) are generally faster because they take advantage of CPU caching.\n",
    "Let's measure the performance difference between row-wise and column-wise access for a large 2D array."
   ]
  },
  {
   "cell_type": "code",
   "execution_count": 71,
   "metadata": {},
   "outputs": [
    {
     "data": {
      "text/plain": [
       "  C_CONTIGUOUS : True\n",
       "  F_CONTIGUOUS : False\n",
       "  OWNDATA : True\n",
       "  WRITEABLE : True\n",
       "  ALIGNED : True\n",
       "  WRITEBACKIFCOPY : False"
      ]
     },
     "execution_count": 71,
     "metadata": {},
     "output_type": "execute_result"
    }
   ],
   "source": [
    "# Create a large 2D array with C-ordering\n",
    "large_array = np.random.rand(1000, 1000)\n",
    "# Check the ordering\n",
    "large_array.flags"
   ]
  },
  {
   "cell_type": "code",
   "execution_count": 72,
   "metadata": {},
   "outputs": [
    {
     "name": "stdout",
     "output_type": "stream",
     "text": [
      "2.41 μs ± 221 ns per loop (mean ± std. dev. of 7 runs, 100,000 loops each)\n"
     ]
    }
   ],
   "source": [
    "%%timeit\n",
    "# Measure column access time\n",
    "col_sum = np.sum(large_array[:, 100])\n"
   ]
  },
  {
   "cell_type": "code",
   "execution_count": 73,
   "metadata": {},
   "outputs": [
    {
     "name": "stdout",
     "output_type": "stream",
     "text": [
      "1.65 μs ± 29.5 ns per loop (mean ± std. dev. of 7 runs, 100,000 loops each)\n"
     ]
    }
   ],
   "source": [
    "%%timeit\n",
    "# Measure row access time\n",
    "row_sum = np.sum(large_array[100, :])"
   ]
  },
  {
   "cell_type": "markdown",
   "metadata": {},
   "source": [
    "## 5. Permuting and Reshaping\n",
    "\n",
    "In the previous notebook we looked at permuting and reshaping tensors. We saw that `np.transpose` always returns a view of the array, only changing the `shape` and the `strides` attributes, without copying the data. Reshape on other hand, sometimes requires copying data. Now that we understand better how NumPy arrays work we can understand this behaviour.\n",
    "\n",
    "Let's consider permuting a 3D tensor:"
   ]
  },
  {
   "cell_type": "code",
   "execution_count": 74,
   "metadata": {},
   "outputs": [
    {
     "name": "stdout",
     "output_type": "stream",
     "text": [
      "Strides of permuted tensor: (16, 32, 8)\n"
     ]
    }
   ],
   "source": [
    "# Create a 3D, C-contiguous tensor\n",
    "tensor_3d = np.arange(32).reshape(8, 2, 2)\n",
    "# Swap the first and second axes\n",
    "permuted_tensor = np.transpose(tensor_3d, (1, 0, 2))\n",
    "# Now check the strides\n",
    "print(f\"Strides of permuted tensor: {permuted_tensor.strides}\")"
   ]
  },
  {
   "cell_type": "markdown",
   "metadata": {},
   "source": [
    "We can see that the strides of the permuted tensor are not in decreasing or increasing order, meaning that the array is **neither** C-contiguous, nor F-contiguous! We can confirm this by checking the `flags`:"
   ]
  },
  {
   "cell_type": "code",
   "execution_count": 75,
   "metadata": {},
   "outputs": [
    {
     "name": "stdout",
     "output_type": "stream",
     "text": [
      "  C_CONTIGUOUS : False\n",
      "  F_CONTIGUOUS : False\n",
      "  OWNDATA : False\n",
      "  WRITEABLE : True\n",
      "  ALIGNED : True\n",
      "  WRITEBACKIFCOPY : False\n",
      "\n"
     ]
    }
   ],
   "source": [
    "print(permuted_tensor.flags)"
   ]
  },
  {
   "cell_type": "markdown",
   "metadata": {},
   "source": [
    "Indeed, permuting a tensor in NumPy can sometimes lead to the elements being stored in a non-contiguous way. The reason for this behaviour is performance: while it is usually diserable for the elemenets to be stored contiguously - many operations are more efficient when this is case - depending on what we want to do with the permuted array, we may not care that the storage is non-contiguous. And of course, copying data is very slow so it may not be worthwhile rearranging the elements if the performance gains later on are small or non-existant.\n",
    "\n",
    "If we want, we can explicitly tell NumPy to make the array contiguous (this will of course involve copying data):"
   ]
  },
  {
   "cell_type": "code",
   "execution_count": 76,
   "metadata": {},
   "outputs": [
    {
     "name": "stdout",
     "output_type": "stream",
     "text": [
      "  C_CONTIGUOUS : True\n",
      "  F_CONTIGUOUS : False\n",
      "  OWNDATA : True\n",
      "  WRITEABLE : True\n",
      "  ALIGNED : True\n",
      "  WRITEBACKIFCOPY : False\n",
      "\n",
      "Strides are now back in decreasing order: (128, 16, 8)\n"
     ]
    }
   ],
   "source": [
    "# Make array contiguous\n",
    "contiguous_permuted_tensor = np.ascontiguousarray(permuted_tensor)\n",
    "print(contiguous_permuted_tensor.flags)\n",
    "print(f\"Strides are now back in decreasing order: {contiguous_permuted_tensor.strides}\")"
   ]
  },
  {
   "cell_type": "markdown",
   "metadata": {},
   "source": [
    "Other operations like slicing can also lead to arrays stored in a non-contiguous way."
   ]
  },
  {
   "cell_type": "markdown",
   "metadata": {},
   "source": [
    "### Reshape\n",
    "\n",
    "Now, when you reshape an array in NumPy, whether or not a data copy is required depends on how the array is laid out in memory. If the array is stored in a contiguous way (C-style for Fortran-style), then reshaping can be done without copying the data. However, if the array is non-contiguous, reshaping typically requires copying data because the new shape cannot simply reinterpret the existing memory layout.\n",
    "\n",
    "- Contiguous arrays can be reshaped without copying data because their elements are stored sequentially in memory.\n",
    "- Non-contiguous arrays (such as slices or transposed arrays) require a data copy when reshaped because the elements are not stored sequentially, and NumPy must rearrange them into a contiguous block to satisfy the new shape.\n",
    "\n",
    "Let's look at how this works in detail, reshaping the permuted tensor to shape (2, 16):"
   ]
  },
  {
   "cell_type": "code",
   "execution_count": 77,
   "metadata": {},
   "outputs": [],
   "source": [
    "reshaped_permuted_tensor = np.reshape(permuted_tensor, (2, 16))"
   ]
  },
  {
   "cell_type": "markdown",
   "metadata": {},
   "source": [
    "Is actually equivalent to:"
   ]
  },
  {
   "cell_type": "code",
   "execution_count": 78,
   "metadata": {},
   "outputs": [],
   "source": [
    "raveled_permuted_tensor = np.ravel(permuted_tensor, order='C') # A copy is made if permuted_tensor is not C-contiguous\n",
    "reshaped_permuted_tensor = np.reshape(raveled_permuted_tensor, (2, 16))"
   ]
  },
  {
   "cell_type": "markdown",
   "metadata": {},
   "source": [
    "## 6. Manipulating Strides for Advanced Array Operations\n",
    "\n",
    "By directly manipulating strides, we can create powerful views into data without copying it. This can be useful for implementing sliding windows or accessing non-contiguous subsets of data.\n",
    "\n",
    "### Example: Creating a View with a Different Stride"
   ]
  },
  {
   "cell_type": "code",
   "execution_count": 79,
   "metadata": {},
   "outputs": [
    {
     "name": "stdout",
     "output_type": "stream",
     "text": [
      "Array:\n",
      "[[ 1  2  3  4]\n",
      " [ 5  6  7  8]\n",
      " [ 9 10 11 12]]\n",
      "\n",
      "Strides of the array:\n",
      "(32, 8)\n",
      "\n",
      "New strided view:\n",
      "[[ 1  2  3  4]\n",
      " [ 2  3  4  5]\n",
      " [ 3  4  5  6]\n",
      " [ 4  5  6  7]\n",
      " [ 5  6  7  8]\n",
      " [ 6  7  8  9]\n",
      " [ 7  8  9 10]\n",
      " [ 8  9 10 11]\n",
      " [ 9 10 11 12]]\n",
      "\n",
      "Strides of the new strided view:\n",
      "(8, 8)\n"
     ]
    }
   ],
   "source": [
    "# Create a 2D NumPy array\n",
    "array = np.array([[1, 2, 3, 4], [5, 6, 7, 8], [9, 10, 11, 12]])\n",
    "print(\"Array:\")\n",
    "print(array)\n",
    "\n",
    "# Display the strides of the array\n",
    "print(\"\\nStrides of the array:\")\n",
    "print(array.strides)\n",
    "\n",
    "# Create a new view of the original array with a stride of 8 (1 byte) along the first axis\n",
    "new_strided_view = np.lib.stride_tricks.as_strided(array, shape=(9, 4), strides=(8, 8))\n",
    "print(\"\\nNew strided view:\")\n",
    "print(new_strided_view)\n",
    "\n",
    "# Display the strides of the new strided view\n",
    "print(\"\\nStrides of the new strided view:\")\n",
    "print(new_strided_view.strides)"
   ]
  },
  {
   "cell_type": "markdown",
   "metadata": {},
   "source": [
    "### Observation\n",
    "\n",
    "The new view with altered strides `(8, 8)` allows us to traverse the array in a non-standard way, effectively accessing overlapping elements or applying a sliding window operation."
   ]
  },
  {
   "cell_type": "markdown",
   "metadata": {},
   "source": [
    "## 7. Exercises\n",
    "\n",
    "1. Create a 3D NumPy array with shape `(3, 4, 5)` and visualize its memory layout in both row-major and column-major order.\n",
    "2. Measure the performance difference between row-wise and column-wise access for a 3D array with shape `(100, 100, 100)` in different memory orders.\n",
    "3. Revisit the exercises at the end of the previous notebook, explain why some reshapes led to data copying and others didn't.\n",
    "4. Create a 3D NumPy array with shape `(2, 3, 4)` and display its strides. Then, transpose the array and display the new strides.\n",
    "5. Use `np.lib.stride_tricks.as_strided` to create a view of a 1D array with overlapping windows of size 3 and print the array.\n",
    "6. Create a 2D NumPy array, reshape it, and compare the strides before and after reshaping."
   ]
  }
 ],
 "metadata": {
  "kernelspec": {
   "display_name": "Python 3",
   "language": "python",
   "name": "python3"
  },
  "language_info": {
   "codemirror_mode": {
    "name": "ipython",
    "version": 3
   },
   "file_extension": ".py",
   "mimetype": "text/x-python",
   "name": "python",
   "nbconvert_exporter": "python",
   "pygments_lexer": "ipython3",
   "version": "3.10.14"
  }
 },
 "nbformat": 4,
 "nbformat_minor": 4
}
