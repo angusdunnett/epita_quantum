{
 "cells": [
  {
   "cell_type": "markdown",
   "metadata": {},
   "source": [
    "# Introduction to Matrix Product States (MPS) with NumPy\n",
    "\n",
    "In the last section we looked at how to compress tensors using the TT-SVD algorithm which lead to a representation of the tensor in Tensor Train, or Matrix Product State (MPS) form. In this notebook we'll look at how to work with Matrix Product States (MPS) using NumPy. \n",
    "\n",
    "## Table of Contents:\n",
    "\n",
    "1. Creating product states\n",
    "2. Creating entangled states\n",
    "3. Addition\n",
    "4. Scalar multiplication\n",
    "5. Getting elements of an MPS\n",
    "6. Computing inner products\n",
    "7. Computing expectation values\n",
    "8. Exercises"
   ]
  },
  {
   "cell_type": "markdown",
   "metadata": {},
   "source": [
    "### Utility Functions:"
   ]
  },
  {
   "cell_type": "code",
   "execution_count": 103,
   "metadata": {},
   "outputs": [],
   "source": [
    "# Get bond dimensions/tt-ranks\n",
    "def bdims(mps: list):\n",
    "    return [site.shape[0] for site in mps] + [mps[-1].shape[-1]]"
   ]
  },
  {
   "cell_type": "code",
   "execution_count": 104,
   "metadata": {},
   "outputs": [],
   "source": [
    "import numpy as np\n",
    "from copy import copy\n",
    "\n",
    "def restore_full(mps: list) -> np.ndarray:\n",
    "    \"\"\"\n",
    "    Restore full tensor from an MPS/TT\n",
    "\n",
    "    Args:\n",
    "        mps: List of order-3 tensors representing an MPS/TT\n",
    "\n",
    "    Return:\n",
    "        The full tensor\n",
    "    \"\"\"\n",
    "    tmp = copy(mps[0])\n",
    "    dims = [site.shape[1] for site in mps]\n",
    "    for site in mps[1:]:\n",
    "        tmp = np.einsum('iuj,jvk->iuvk', tmp, site)\n",
    "        tmp = tmp.reshape(tmp.shape[0], tmp.shape[1] * tmp.shape[2], tmp.shape[3])\n",
    "    return tmp.reshape(dims)"
   ]
  },
  {
   "cell_type": "markdown",
   "metadata": {},
   "source": [
    "## 1. Creating Product States"
   ]
  },
  {
   "cell_type": "markdown",
   "metadata": {},
   "source": [
    "Product states are many-body quantum states that can be written as a products of states for each component of the system. For example $|\\psi\\rangle = |0\\rangle \\otimes |1\\rangle \\otimes |0\\rangle \\dots \\otimes |0\\rangle$. Product states can be represented by MPS with bond dimension 1."
   ]
  },
  {
   "cell_type": "code",
   "execution_count": 105,
   "metadata": {},
   "outputs": [],
   "source": [
    "def product_state_mps(state_list):\n",
    "    \"\"\"\n",
    "    Generate an MPS representing a product state\n",
    "\n",
    "    Args:\n",
    "        state_list (list[list]]): A list of state vectors\n",
    "    \n",
    "    Returns:\n",
    "        mps (list): List of MPS cores\n",
    "    \"\"\"\n",
    "    return [np.array(s).reshape(1, len(s), 1) for s in state_list]"
   ]
  },
  {
   "cell_type": "markdown",
   "metadata": {},
   "source": [
    "### Exercises\n",
    "1. Create an MPS for the all-plus state: $|\\psi\\rangle = |++++++\\rangle$, where $|+\\rangle = \\frac{1}{\\sqrt{2}}(|0\\rangle+|1\\rangle)$\n",
    "2. Create an MPS for the ground state of the Hamiltonian $\\hat{H}=\\sigma_{y}\\otimes\\sigma_{y}\\otimes\\sigma_{y}\\otimes\\sigma_{y}$"
   ]
  },
  {
   "cell_type": "markdown",
   "metadata": {},
   "source": [
    "## 2. Creating Entangled States\n",
    "\n",
    "Entangled states are those that cannot be factorized into products. For these states, the bond dimension of the MPS must be greater than 1.\n",
    "\n",
    "### Example: GHZ State\n",
    "\n",
    "The GHZ state $|\\text{GHZ}\\rangle = \\frac{1}{\\sqrt{2}} \\left( |00...0\\rangle + |11...1\\rangle \\right)$ can be written with a bond dimension of 2."
   ]
  },
  {
   "cell_type": "code",
   "execution_count": 106,
   "metadata": {},
   "outputs": [],
   "source": [
    "def create_ghz_mps(N):\n",
    "    \"\"\"\n",
    "    Create an MPS representation of the N-qubit GHZ state.\n",
    "    \n",
    "    Args:\n",
    "        N (int): Number of qubits.\n",
    "    \n",
    "    Returns:\n",
    "        mps (list): List of MPS cores\n",
    "    \"\"\"\n",
    "    ghz_tensor_first = np.zeros((1, 2, 2))\n",
    "    ghz_tensor_first[0, 0, 0] = 1 / np.sqrt(2)\n",
    "    ghz_tensor_first[0, 1, 1] = 1 / np.sqrt(2)\n",
    "\n",
    "    ghz_tensor_middle = np.zeros((2, 2, 2))\n",
    "    ghz_tensor_middle[0, 0, 0] = 1\n",
    "    ghz_tensor_middle[1, 1, 1] = 1\n",
    "    \n",
    "    ghz_tensor_last = np.zeros((2, 2, 1))\n",
    "    ghz_tensor_last[0, 0, 0] = 1\n",
    "    ghz_tensor_last[1, 1, 0] = 1\n",
    "    \n",
    "    # Construct the full MPS: [first tensor, middle tensors, last tensor]\n",
    "    mps = [ghz_tensor_first] + [ghz_tensor_middle] * (N - 2) + [ghz_tensor_last]\n",
    "    \n",
    "    return mps\n",
    "\n",
    "# Example: Create the MPS for a 5-qubit GHZ state\n",
    "N = 5\n",
    "ghz_mps = create_ghz_mps(N)"
   ]
  },
  {
   "cell_type": "markdown",
   "metadata": {},
   "source": [
    "Let's check the bond dimensions"
   ]
  },
  {
   "cell_type": "code",
   "execution_count": 107,
   "metadata": {},
   "outputs": [
    {
     "data": {
      "text/plain": [
       "[1, 2, 2, 2, 2, 1]"
      ]
     },
     "execution_count": 107,
     "metadata": {},
     "output_type": "execute_result"
    }
   ],
   "source": [
    "bdims(ghz_mps)"
   ]
  },
  {
   "cell_type": "markdown",
   "metadata": {},
   "source": [
    "Let's check this gives us the state we want by contracting the network to get the full tensor"
   ]
  },
  {
   "cell_type": "code",
   "execution_count": 108,
   "metadata": {},
   "outputs": [
    {
     "name": "stdout",
     "output_type": "stream",
     "text": [
      "Coefficient of |00000> =  0.7071067811865475\n",
      "Coefficient of |11111> =  0.7071067811865475\n",
      "Coefficient of |01111> =  0.0\n",
      "Coefficient of |01010> =  0.0\n",
      "Coefficient of |00011> =  0.0\n"
     ]
    }
   ],
   "source": [
    "full_tensor = restore_full(ghz_mps)\n",
    "\n",
    "# Check the 2 coefficients that should by non-zero\n",
    "print(\"Coefficient of |00000> = \", full_tensor[0, 0, 0, 0, 0])\n",
    "print(\"Coefficient of |11111> = \", full_tensor[1, 1, 1, 1, 1])\n",
    "\n",
    "# Check some other coefficients that should be zero\n",
    "print(\"Coefficient of |01111> = \", full_tensor[0, 1, 1, 1, 1])\n",
    "print(\"Coefficient of |01010> = \", full_tensor[0, 1, 0, 1, 0])\n",
    "print(\"Coefficient of |00011> = \", full_tensor[0, 0, 0, 1, 1])"
   ]
  },
  {
   "cell_type": "markdown",
   "metadata": {},
   "source": [
    "### Exercise\n",
    "Create an MPS for the state $|\\psi\\rangle = \\frac{1}{\\sqrt{2}} \\left( |000000\\rangle - |111111\\rangle \\right)$"
   ]
  },
  {
   "cell_type": "markdown",
   "metadata": {},
   "source": [
    "## 3. Adding MPS\n",
    "\n",
    "All the basic operations that can be performed on vectors, such as adding, scalar multiplication, dot product etc, can also be performed with MPS. First we'll look at how to add two MPS.\n",
    "\n",
    "Suppose you have two MPS representing quantum states $|\\psi_1\\rangle$ and $|\\psi_2\\rangle $, and you want to create an MPS for the state:\n",
    "\n",
    "$\n",
    "|\\psi_{\\text{sum}}\\rangle = |\\psi_1\\rangle + |\\psi_2\\rangle\n",
    "$\n",
    "\n",
    "In order for the sum to make sense, the physical dimensions of the two MPSs must match.\n",
    "\n",
    "Let the MPS representations of $|\\psi_1\\rangle$ and $|\\psi_2\\rangle$ be given by tensors $\\{A^{[i]}_1\\}$ and $\\{A^{[i]}_2\\}$ for sites $i = 1, \\ldots, N $, where $N$ is the number of sites (qubits).\n",
    "\n",
    "Then the MPS for $|\\psi_{\\text{sum}}\\rangle$ will be given by the tensors:\n",
    "$\n",
    "\\{\n",
    "\\begin{pmatrix}\n",
    "A^{[1]}_1 & A^{[1]}_2\n",
    "\\end{pmatrix}\n",
    "$,\n",
    "$\n",
    "\\begin{pmatrix}\n",
    "A^{[2]}_1 & 0 \\\\\n",
    "0 & A^{[2]}_2\n",
    "\\end{pmatrix}\n",
    "$, ...\n",
    "$\n",
    "\\begin{pmatrix}\n",
    "A^{[N-1]}_1 & 0 \\\\\n",
    "0 & A^{[N-1]}_2\n",
    "\\end{pmatrix}\n",
    "$,\n",
    "$\n",
    "\\begin{pmatrix}\n",
    "A^{[N]}_1 \\\\\n",
    "A^{[N]}_2\n",
    "\\end{pmatrix}\n",
    "\\}\n",
    "$\n",
    "\n",
    "If $A^{[i]}_1$ has shape $(D_{i-1}^{(1)}, d_i, D_i^{(1)})$, where $d_i$ is the physical dimension, $D_{i-1}$ is the left bond dimension, and $D_i$ is the right bond dimension, and similarly for $A^{[i]}_2$, then $A^{[i]}_{\\text{sum}}$ will have shape $(D_{i-1}^{(1)} + D_{i-1}^{(2)}, d_i, D_i^{(1)} + D_i^{(2)}) $.\n",
    "\n",
    "\n",
    "### Exercise:\n",
    "\n",
    "Confirm, by performing the matrix multiplications, that the above expression does indeed represent the sum of the MPS.\n",
    "\n",
    "\n",
    "### Code for adding MPS"
   ]
  },
  {
   "cell_type": "code",
   "execution_count": 109,
   "metadata": {},
   "outputs": [],
   "source": [
    "import numpy as np\n",
    "\n",
    "def add_mps(mps1, mps2):\n",
    "    \"\"\"\n",
    "    Add two MPS representations together.\n",
    "    \n",
    "    Args:\n",
    "        mps1 (list): List of tensors representing the first MPS.\n",
    "        mps2 (list): List of tensors representing the second MPS.\n",
    "    \n",
    "    Returns:\n",
    "        mps_sum (list): List of tensors representing the MPS for the sum of the two states.\n",
    "    \"\"\"\n",
    "    if len(mps1) != len(mps2):\n",
    "        raise ValueError(\"The two MPS must have the same number of sites.\")\n",
    "    \n",
    "    mps_sum = []\n",
    "    \n",
    "    for A1, A2 in zip(mps1, mps2):\n",
    "        D1_left, d, D1_right = A1.shape\n",
    "        D2_left, _, D2_right = A2.shape\n",
    "\n",
    "        # Create a zero array with the correct dimensions\n",
    "        A_sum = np.zeros((D1_left + D2_left, d, D1_right + D2_right))\n",
    "        \n",
    "        # Fill the upper-left block with A1\n",
    "        A_sum[:D1_left, :, :D1_right] = A1\n",
    "        \n",
    "        # Fill the lower-right block with A2\n",
    "        A_sum[D1_left:, :, D1_right:] = A2\n",
    "        \n",
    "        # Append the resulting tensor to the new MPS list\n",
    "        mps_sum.append(A_sum)\n",
    "\n",
    "    # Sum over boundary bond dimensions\n",
    "    mps_sum[0] = np.sum(mps_sum[0], axis=0, keepdims=True)\n",
    "    mps_sum[-1] = np.sum(mps_sum[-1], axis=-1, keepdims=True)\n",
    "    \n",
    "    return mps_sum"
   ]
  },
  {
   "cell_type": "markdown",
   "metadata": {},
   "source": [
    "### Bond Dimension Growth\n",
    "The bond dimension of the resulting MPS is larger than that of the starting MPS. If we're not carefull when adding multiple MPS together, the bond dimension can get out of hand. However it is often possible to compress the MPS resulting from an addition to one with a smaller bond dimension.\n",
    "\n",
    "### Example\n",
    "\n",
    "Let's try to construct an MPS for the GHZ state we looked at above but this time using the add function."
   ]
  },
  {
   "cell_type": "code",
   "execution_count": 110,
   "metadata": {},
   "outputs": [],
   "source": [
    "mps_00000 = product_state_mps([[1, 0], [1, 0], [1, 0], [1, 0], [1, 0]])\n",
    "mps_11111 = product_state_mps([[0, 1], [0, 1], [0, 1], [0, 1], [0, 1]])"
   ]
  },
  {
   "cell_type": "code",
   "execution_count": 111,
   "metadata": {},
   "outputs": [],
   "source": [
    "ghz_mps_add = add_mps(mps_00000, mps_11111)"
   ]
  },
  {
   "cell_type": "markdown",
   "metadata": {},
   "source": [
    "Check the bond dimensions:"
   ]
  },
  {
   "cell_type": "code",
   "execution_count": 112,
   "metadata": {},
   "outputs": [
    {
     "data": {
      "text/plain": [
       "[1, 2, 2, 2, 2, 1]"
      ]
     },
     "execution_count": 112,
     "metadata": {},
     "output_type": "execute_result"
    }
   ],
   "source": [
    "bdims(ghz_mps_add)"
   ]
  },
  {
   "cell_type": "markdown",
   "metadata": {},
   "source": [
    "Check the coefficients"
   ]
  },
  {
   "cell_type": "code",
   "execution_count": 113,
   "metadata": {},
   "outputs": [
    {
     "name": "stdout",
     "output_type": "stream",
     "text": [
      "Coefficient of |00000> =  1.0\n",
      "Coefficient of |11111> =  1.0\n",
      "Coefficient of |01111> =  0.0\n",
      "Coefficient of |01010> =  0.0\n",
      "Coefficient of |00011> =  0.0\n"
     ]
    }
   ],
   "source": [
    "full_tensor = restore_full(ghz_mps_add)\n",
    "\n",
    "# Check the 2 coefficients that should by non-zero\n",
    "print(\"Coefficient of |00000> = \", full_tensor[0, 0, 0, 0, 0])\n",
    "print(\"Coefficient of |11111> = \", full_tensor[1, 1, 1, 1, 1])\n",
    "\n",
    "# Check some other coefficients that should be zero\n",
    "print(\"Coefficient of |01111> = \", full_tensor[0, 1, 1, 1, 1])\n",
    "print(\"Coefficient of |01010> = \", full_tensor[0, 1, 0, 1, 0])\n",
    "print(\"Coefficient of |00011> = \", full_tensor[0, 0, 0, 1, 1])"
   ]
  },
  {
   "cell_type": "markdown",
   "metadata": {},
   "source": [
    "As we can see, the structure of the state is correct but we are missing the normalisation factor of $1/\\sqrt{2}$. To properly normalise the state we need to know how to multiply an MPS by a scalar."
   ]
  },
  {
   "cell_type": "markdown",
   "metadata": {},
   "source": [
    "## 4. Scalar Multiplication"
   ]
  },
  {
   "cell_type": "markdown",
   "metadata": {},
   "source": [
    "Multiplying an MPS by a scalar is very straightforward; we just need to multiply one of the tensors by the scalar.\n",
    "\n",
    "### Code for multiplying MPS by a scalar"
   ]
  },
  {
   "cell_type": "code",
   "execution_count": 114,
   "metadata": {},
   "outputs": [],
   "source": [
    "def scale_mps(mps, scalar):\n",
    "    \"\"\"\n",
    "        Multiplies an MPS by a scalar, changes the MPS in place.\n",
    "        \n",
    "        Args:\n",
    "            mps (list): List of tensors representing the MPS.\n",
    "            scalar (float): The scalar\n",
    "    \"\"\"\n",
    "    \n",
    "    mps[0] = mps[0] * scalar\n",
    "    return mps"
   ]
  },
  {
   "cell_type": "markdown",
   "metadata": {},
   "source": [
    "With this, we can now normalise the GHZ state we created above:"
   ]
  },
  {
   "cell_type": "code",
   "execution_count": 115,
   "metadata": {},
   "outputs": [
    {
     "name": "stdout",
     "output_type": "stream",
     "text": [
      "Coefficient of |00000> =  0.7071067811865475\n",
      "Coefficient of |11111> =  0.7071067811865475\n"
     ]
    }
   ],
   "source": [
    "scale_mps(ghz_mps_add, 1 / np.sqrt(2))\n",
    "\n",
    "full_tensor = restore_full(ghz_mps_add)\n",
    "# Check the 2 coefficients that should by non-zero\n",
    "print(\"Coefficient of |00000> = \", full_tensor[0, 0, 0, 0, 0])\n",
    "print(\"Coefficient of |11111> = \", full_tensor[1, 1, 1, 1, 1])"
   ]
  },
  {
   "cell_type": "markdown",
   "metadata": {},
   "source": [
    "### Exercises\n",
    "\n",
    "1. Using the functions defined above, make an MPS for the state $|\\psi \\rangle = \\frac{1}{\\sqrt{3}}(|010101\\rangle-|101010\\rangle+|111000\\rangle$.\n",
    "2. Check that the MPS is correct by restoring the full tensor.\n",
    "3. Create an MPS for the function $\\sin(\\omega x)$ where $x$ is defined on a unit grid between 0 and 1267650600228229401496703205375.\n",
    "4. Confirm your answer to 3 by evaluating several tensor elements."
   ]
  },
  {
   "cell_type": "markdown",
   "metadata": {},
   "source": [
    "## 5. Getting Tensor Elements\n",
    "\n",
    "So far we have been checking our MPS by reconstructing the full tensor, however remember that the point of working with MPS is to be able to treat tensors that are far too large to be written otherwise than in decomposed form. Luckily, we can compute tensor elements of an MPS without contracting to form the full tensor - we just need to select the indices on the tensor cores *before* contracting.\n",
    "\n",
    "### Code for computing tensor elements:"
   ]
  },
  {
   "cell_type": "code",
   "execution_count": 116,
   "metadata": {},
   "outputs": [],
   "source": [
    "from functools import reduce\n",
    "def get_index(mps: list, inds):\n",
    "    \"\"\"\n",
    "    Get element of an MPS for a set of indices.\n",
    "\n",
    "    Args:\n",
    "        mps (list): List of tensors representing the MPS.\n",
    "        inds (list): The list of indices\n",
    "    \"\"\"\n",
    "    return reduce(np.matmul, (site[:, ind, :] for site, ind in zip(mps, inds)))[0,0]"
   ]
  },
  {
   "cell_type": "markdown",
   "metadata": {},
   "source": [
    "Now we can compute tensor elements without recontructing the full tensor, let's use this to check our GHZ state from before:"
   ]
  },
  {
   "cell_type": "code",
   "execution_count": 117,
   "metadata": {},
   "outputs": [
    {
     "name": "stdout",
     "output_type": "stream",
     "text": [
      "Coefficient of |00000> =  0.7071067811865475\n",
      "Coefficient of |11111> =  0.7071067811865475\n",
      "Coefficient of |01111> =  0.0\n",
      "Coefficient of |01010> =  0.0\n",
      "Coefficient of |00011> =  0.0\n"
     ]
    }
   ],
   "source": [
    "# Check the 2 coefficients that should by non-zero\n",
    "print(\"Coefficient of |00000> = \", get_index(ghz_mps, [0, 0, 0, 0, 0]))\n",
    "print(\"Coefficient of |11111> = \", get_index(ghz_mps, [1, 1, 1, 1, 1]))\n",
    "\n",
    "# Check some other coefficients that should be zero\n",
    "print(\"Coefficient of |01111> = \", get_index(ghz_mps, [0, 1, 1, 1, 1]))\n",
    "print(\"Coefficient of |01010> = \", get_index(ghz_mps, [0, 1, 0, 1, 0]))\n",
    "print(\"Coefficient of |00011> = \", get_index(ghz_mps, [0, 0, 0, 1, 1]))"
   ]
  },
  {
   "cell_type": "markdown",
   "metadata": {},
   "source": [
    "We can see that the results are the same as before."
   ]
  },
  {
   "cell_type": "markdown",
   "metadata": {},
   "source": [
    "## 6. Computing Inner Products\n",
    "\n",
    "The inner product between two MPS $|\\psi_1\\rangle$ and $|\\psi_2\\rangle$ is given by $\\langle\\psi_1|\\psi_2\\rangle$. The inner product is a measure of the *overlap* between two MPS.\n",
    "\n",
    "To compute the inner product efficiently, we must contract the tensors iteratively along the chain.\n",
    "\n",
    "![](../img/mps_inner.png)"
   ]
  },
  {
   "cell_type": "code",
   "execution_count": 118,
   "metadata": {},
   "outputs": [],
   "source": [
    "def inner_product(mps1, mps2):\n",
    "    \"\"\"\n",
    "    Compute the inner product <psi1|psi2> between two MPS.\n",
    "    \n",
    "    Args:\n",
    "        mps1 (list): List of tensors representing the first MPS.\n",
    "        mps2 (list): List of tensors representing the second MPS.\n",
    "    \n",
    "    Returns:\n",
    "        float: The inner product <psi1|psi2>.\n",
    "    \"\"\"\n",
    "    \n",
    "    contraction_result = np.ones((1, 1))\n",
    "    for A1, A2 in zip(mps1, mps2):\n",
    "        # Contract along the physical dimension\n",
    "        #   /-i-(A2)-l-  \n",
    "        #  [c]   |k   \n",
    "        #   \\-j-(A1)-m- \n",
    "        contraction_result = np.einsum('ij,jkm,ikl->lm', contraction_result, np.conj(A1), A2)\n",
    "    return contraction_result[0, 0]"
   ]
  },
  {
   "cell_type": "markdown",
   "metadata": {},
   "source": [
    "### Examples\n",
    "\n",
    "We can use the inner product to compute the norm of an MPS: $|\\psi| =\\sqrt{\\langle\\psi|\\psi\\rangle}$"
   ]
  },
  {
   "cell_type": "code",
   "execution_count": 119,
   "metadata": {},
   "outputs": [
    {
     "name": "stdout",
     "output_type": "stream",
     "text": [
      "Norm of GHZ state:  1.0\n"
     ]
    }
   ],
   "source": [
    "norm = np.sqrt(inner_product(mps_ghz, mps_ghz))\n",
    "print(\"Norm of GHZ state: \", norm)"
   ]
  },
  {
   "cell_type": "markdown",
   "metadata": {},
   "source": [
    "Or the overlap between two different states:"
   ]
  },
  {
   "cell_type": "code",
   "execution_count": 122,
   "metadata": {},
   "outputs": [
    {
     "name": "stdout",
     "output_type": "stream",
     "text": [
      "Overlap of GHZ with |00000>:  0.7071067811865475\n"
     ]
    }
   ],
   "source": [
    "mps_00000 = product_state_mps([[1, 0], [1, 0], [1, 0], [1, 0], [1, 0]])\n",
    "print(\"Overlap of GHZ with |00000>: \", inner_product(ghz_mps, mps_00000))"
   ]
  },
  {
   "cell_type": "markdown",
   "metadata": {},
   "source": [
    "### Exercises\n",
    "\n",
    "1. What is the compexity of computing the inner product of two MPS?\n",
    "2. Compute the inner product of a 6 qubit GHZ state with the all-plus state: $|\\psi\\rangle = |++++++\\rangle$"
   ]
  },
  {
   "cell_type": "markdown",
   "metadata": {},
   "source": [
    "## 7. Computing Expectation Values\n",
    "\n",
    "Computing expectation values is very similar to computing inner products. We will compute the expectation value of a local operator $O$ with respect to a Matrix Product State (MPS) $|\\psi\\rangle$:\n",
    "$\n",
    "\\langle \\psi | O | \\psi \\rangle\n",
    "$\n",
    "\n",
    "![](../img/mps_exp.png)"
   ]
  },
  {
   "cell_type": "code",
   "execution_count": 124,
   "metadata": {},
   "outputs": [],
   "source": [
    "def expectation_value(mps, operator, site):\n",
    "    \"\"\"\n",
    "    Compute the expectation value <psi|O|psi> for a local operator at a specified site.\n",
    "    \n",
    "    Args:\n",
    "        mps (list): List of tensors representing the MPS.\n",
    "        operator (np.ndarray): Local operator acting on the physical space (shape (d, d)).\n",
    "        site (int): The index of the site where the operator is applied.\n",
    "    \n",
    "    Returns:\n",
    "        float: The expectation value <psi|O|psi>.\n",
    "    \"\"\"\n",
    "\n",
    "    contraction_result = np.ones((1, 1))\n",
    "    for i, A in enumerate(mps):\n",
    "        if i == site:\n",
    "            # Insert the operator at the specified site\n",
    "            #   /-i-(A)-l-  \n",
    "            #   |    |t\n",
    "            #  [c]  [O]   \n",
    "            #   |    |s\n",
    "            #   \\-j-(A)-m- \n",
    "            contraction_result = np.einsum('ij,jsm,itl,st->lm', contraction_result, np.conj(A), A, operator)\n",
    "        else:\n",
    "            # Regular tensor contraction without the operator\n",
    "            #   /-i-(A)-l-  \n",
    "            #  [c]   |k   \n",
    "            #   \\-j-(A)-m- \n",
    "            contraction_result = np.einsum('ij,jkm,ikl->lm', contraction_result, np.conj(A), A)\n",
    "    \n",
    "    # Return the final scalar expectation value\n",
    "    return contraction_result[0, 0]"
   ]
  },
  {
   "cell_type": "markdown",
   "metadata": {},
   "source": [
    "## Example\n",
    "\n",
    "Compute the expectation value of the Pauli spin operators on the GHZ state:"
   ]
  },
  {
   "cell_type": "code",
   "execution_count": 135,
   "metadata": {},
   "outputs": [
    {
     "name": "stdout",
     "output_type": "stream",
     "text": [
      "Expectation of sx on qubit 3:  0.0\n",
      "Expectation of sy on qubit 3:  0j\n",
      "Expectation of sz on qubit 3:  0.0\n"
     ]
    }
   ],
   "source": [
    "# Define the Pauli spin operators\n",
    "sx = np.array([[0, 1], [1, 0]])\n",
    "sy = np.array([[0, -1j], [1j, 0]])\n",
    "sz = np.array([[1, 0], [0, -1]])\n",
    "\n",
    "print(\"Expectation of sx on qubit 3: \", expectation_value(ghz_mps, sx, 3))\n",
    "print(\"Expectation of sy on qubit 3: \", expectation_value(ghz_mps, sy, 3))\n",
    "print(\"Expectation of sz on qubit 3: \", expectation_value(ghz_mps, sz, 3))"
   ]
  },
  {
   "cell_type": "markdown",
   "metadata": {},
   "source": [
    "### Exercise\n",
    "\n",
    "Confirm the above results for the expectation values of the Pauli operators on the GHZ state with pen and paper calculations."
   ]
  },
  {
   "cell_type": "code",
   "execution_count": null,
   "metadata": {},
   "outputs": [],
   "source": []
  }
 ],
 "metadata": {
  "interpreter": {
   "hash": "aee8b7b246df8f9039afb4144a1f6fd8d2ca17a180786b69acc140d282b71a49"
  },
  "kernelspec": {
   "display_name": "Python 3 (ipykernel)",
   "language": "python",
   "name": "python3"
  },
  "language_info": {
   "codemirror_mode": {
    "name": "ipython",
    "version": 3
   },
   "file_extension": ".py",
   "mimetype": "text/x-python",
   "name": "python",
   "nbconvert_exporter": "python",
   "pygments_lexer": "ipython3",
   "version": "3.10.14"
  }
 },
 "nbformat": 4,
 "nbformat_minor": 4
}
