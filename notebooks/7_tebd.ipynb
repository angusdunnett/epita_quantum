{
 "cells": [
  {
   "cell_type": "markdown",
   "metadata": {},
   "source": [
    "# Time Evolving Block Decimation (TEBD)\n",
    "\n",
    "In this notebook, we will implement the Time-Evolving Block Decimation (TEBD) algorithm seen in the course. TEBD is a relatively simple yet powerful algorithm for computing quantum dynamics with MPS. We will use the transverse field Ising model as an example."
   ]
  },
  {
   "cell_type": "markdown",
   "metadata": {},
   "source": [
    "## Table of Contents\n",
    "\n",
    "1. Transverse Field Ising Model\n",
    "2. Implementing TEBD Step by Step\n",
    "3. Creating the Gates\n",
    "4. Preparing the Initial State\n",
    "5. Measuring Observables\n",
    "6. Putting it all together\n",
    "7. Exercises\n",
    "\n",
    "## 1. Transverse Field Ising Model\n",
    "\n",
    "The Hamiltonian for the transverse field Ising model is given by:\n",
    "\n",
    "$$\n",
    "H_{\\text{TFI}} = -J \\sum_{i=0}^{N-2} \\sigma_i^z \\sigma_{i+1}^z - h \\sum_{i=0}^{N-1} \\sigma_i^x\n",
    "$$\n",
    "\n",
    "\n",
    "where:\n",
    "- $J$ is the interaction strength,\n",
    "- $h$ is the transverse magnetic field,\n",
    "- $\\sigma_i^z$ and $\\sigma_i^x$ are the Pauli matrices acting on the $i$-th site.\n",
    "\n",
    "The TEBD algorithm allows us to simulate the time evolution of the some initial state $|\\psi\\rangle$ under this Hamiltonian.\n",
    "\n",
    "Let's define variables for the Pauli operators and the coefficients $J$ and $h$:"
   ]
  },
  {
   "cell_type": "code",
   "execution_count": 561,
   "metadata": {},
   "outputs": [],
   "source": [
    "import numpy as np\n",
    "\n",
    "# TFI parameters:\n",
    "J = 1.0\n",
    "h = 1.0\n",
    "N = 10\n",
    "\n",
    "# Define the Pauli spin operators and identity operator\n",
    "i = np.array([[1, 0], [0, 1]])\n",
    "sx = np.array([[0, 1], [1, 0]])\n",
    "sy = np.array([[0, -1j], [1j, 0]])\n",
    "sz = np.array([[1, 0], [0, -1]])\n"
   ]
  },
  {
   "cell_type": "markdown",
   "metadata": {},
   "source": [
    "## 2. Implementing TEBD Step by Step\n",
    "\n",
    "### a) Local update\n",
    "First, we will focus on the local update wherein one 2-body gate is applyed to the MPS. \n",
    "\n",
    "The local update consists of 4 steps set out in the course slides (1. Contract, 2. SVD + truncate, 3. Insert identity, 4. Contract). After the local update is complete **2 gamma tensors and 1 lambda matrix** will have been updated.\n",
    "\n",
    "![](../img/local_update.png)\n",
    "\n",
    "The function below performs the first step of contracting the sites and 2-qubit gate:"
   ]
  },
  {
   "cell_type": "code",
   "execution_count": 562,
   "metadata": {},
   "outputs": [],
   "source": [
    "def contract_sites_and_gate(\n",
    "    lambda_left: np.ndarray, \n",
    "    gamma_left: np.ndarray, \n",
    "    lambda_centre: np.ndarray, \n",
    "    gamma_right: np.ndarray, \n",
    "    lambda_right: np.ndarray,\n",
    "    gate: np.ndarray,\n",
    ") -> np.ndarray:\n",
    "    \"\"\"\n",
    "    Contract the two-body gate with the mps site tensors.\n",
    "\n",
    "    Args:\n",
    "        lambda_left: The lambda matrix to the left of the left gamma tensor\n",
    "        gamma_left: The left gamma tensor\n",
    "        lambda_centre: The lambda matrix in between the two gamma tensors\n",
    "        gamma_right: The right gamma tensor\n",
    "        lambda_right: The lambda matrix to the right of the right gamma tensor\n",
    "        gate: The 2-body gate\n",
    "\n",
    "    Returns:\n",
    "        Theta, an order-4 tensor resulting from the contraction.\n",
    "    \"\"\"\n",
    "    theta = np.einsum('ab,bgc,cd,dhe,ef,ghij->aijf',\n",
    "        np.diagflat(lambda_left), \n",
    "        gamma_left, \n",
    "        np.diagflat(lambda_centre), \n",
    "        gamma_right, \n",
    "        np.diagflat(lambda_right), \n",
    "        gate\n",
    "    )\n",
    "    return theta"
   ]
  },
  {
   "cell_type": "markdown",
   "metadata": {},
   "source": [
    "**Note: Since the lambda matrices are diagonal, they can be stored as a 1-dimension array containing the diagonal elements only.**\n",
    "\n",
    "Next, we carry out step 2: splitting the resulting tensor with an SVD and truncation. For simplicity we will specify the maximum number of singlar values to retain after the SVD - this will determine the maximum value for the bond dimension of the MPS. We could have instead specified the truncation error.\n",
    "\n",
    "Any very small singular values (<10^-14) we remove, otherwise they will cause problems when we need to compute $\\lambda^{-1}$."
   ]
  },
  {
   "cell_type": "code",
   "execution_count": 563,
   "metadata": {},
   "outputs": [],
   "source": [
    "from typing import Tuple\n",
    "\n",
    "def perform_svd_and_truncate(\n",
    "    theta: np.ndarray,\n",
    "    max_bond_dimension: int,\n",
    ") -> Tuple[np.ndarray, np.ndarray, np.ndarray]:\n",
    "    \"\"\"\n",
    "    Splits the theta tensor via an SVD and performs a truncation.\n",
    "    \n",
    "    Args:\n",
    "        theta: The order-4 tensor\n",
    "        max_bond_dimension: The maximum number of singlar values to keep after the truncation, \n",
    "            this will determine the maximum value for the bond dimension of the MPS\n",
    "\n",
    "    Returns:\n",
    "        The order-3 tensor U, the updated lambda_centre matrix, the order-3 tensor Vdagger\n",
    "    \"\"\"\n",
    "    D1, d1, d2, D2 = theta.shape\n",
    "    U, s, Vt = np.linalg.svd(np.reshape(theta, [D1*d1, d2*D2]))\n",
    "    \n",
    "    # Choose the number of singular values to keep: \n",
    "    # We keep at most max_bond_dimension singular values and truncate singular values smaller than 10**-14\n",
    "    \n",
    "    # If we don't remove small singular values here we'll have \n",
    "    # problems when we come to inverting the lambda matrix\n",
    "    r = min(max_bond_dimension, np.count_nonzero(s >= 10**-14))\n",
    "    \n",
    "    U = np.reshape(U[:,:r], [D1, d1, r])\n",
    "    Vt = np.reshape(Vt[:r, :], [r, d2, D2])\n",
    "    return U, s[:r], Vt"
   ]
  },
  {
   "cell_type": "markdown",
   "metadata": {},
   "source": [
    "Then, we perform steps 3 and 4."
   ]
  },
  {
   "cell_type": "code",
   "execution_count": 564,
   "metadata": {},
   "outputs": [],
   "source": [
    "def insert_identity_and_contract(\n",
    "    lambda_left: np.ndarray,\n",
    "    U: np.ndarray,\n",
    "    lambda_centre_updated: np.ndarray,\n",
    "    Vdagger: np.ndarray,\n",
    "    lambda_right: np.array,\n",
    ") -> Tuple[np.ndarray, np.ndarray]:\n",
    "    \"\"\"\n",
    "    Contracts the inverted left and right lambda matrices with U and Vdagger to obtain the updated gamma tensors.\n",
    "\n",
    "    Args:\n",
    "        lambda_left: The lambda matrix to the left of the left gamma tensor\n",
    "        U: The U tensor returned by `perform_svd_and_truncate`\n",
    "        lambda_centre_updated: The updated lambda_centre matrix returned by `perform_svd_and_truncate`\n",
    "        Vdagger: The Vdagger tensor returned by `perform_svd_and_truncate`\n",
    "        lambda_right: The lambda matrix to the right of the right gamma tensor\n",
    "\n",
    "    Returns:\n",
    "        The updated gamma_left tensor, the updated gamma_right_tensor\n",
    "    \"\"\"\n",
    "    lambda_right_inverted = np.linalg.inv(np.diagflat(lambda_right))\n",
    "    lambda_left_inverted = np.linalg.inv(np.diagflat(lambda_left))\n",
    "    gamma_left_updated = np.einsum('ab,bcd->acd', lambda_left_inverted, U)\n",
    "    gamma_right_updated = np.einsum('abc,cd->abd', Vdagger, lambda_right_inverted)\n",
    "    return gamma_left_updated, lambda_centre_updated, gamma_right_updated"
   ]
  },
  {
   "cell_type": "markdown",
   "metadata": {},
   "source": [
    "Finally, let's combine all those steps into a function for the full local update."
   ]
  },
  {
   "cell_type": "code",
   "execution_count": 565,
   "metadata": {},
   "outputs": [],
   "source": [
    "def local_update(\n",
    "    lambda_left: np.ndarray, \n",
    "    gamma_left: np.ndarray, \n",
    "    lambda_centre: np.ndarray, \n",
    "    gamma_right: np.ndarray, \n",
    "    lambda_right: np.ndarray,\n",
    "    gate: np.ndarray,\n",
    "    max_bond_dimension: int\n",
    ") -> Tuple[np.ndarray, np.ndarray, np.ndarray]:\n",
    "    \"\"\"\n",
    "    Performs the full local update.\n",
    "\n",
    "    Args:\n",
    "        lambda_left: The lambda matrix to the left of the left gamma tensor\n",
    "        gamma_left: The left gamma tensor\n",
    "        lambda_centre: The lambda matrix in between the two gamma tensors\n",
    "        gamma_right: The right gamma tensor\n",
    "        lambda_right: The lambda matrix to the right of the right gamma tensor\n",
    "        gate: The 2-body gate\n",
    "        max_bond_dimension: The maximum bond dimension of the MPS\n",
    "\n",
    "    Returns:\n",
    "        The updated gamma_left tensor, the updated lambda_centre matrix, the updated gamma_right tensor\n",
    "    \"\"\"\n",
    "    theta = contract_sites_and_gate(lambda_left, gamma_left, lambda_centre, gamma_right, lambda_right, gate)\n",
    "    UsVt = perform_svd_and_truncate(theta, max_bond_dimension)\n",
    "    gamma_left_updated, lambda_centre_updated, gamma_right_updated = insert_identity_and_contract(lambda_left, *UsVt, lambda_right)\n",
    "    return gamma_left_updated, lambda_centre_updated, gamma_right_updated\n",
    "    "
   ]
  },
  {
   "cell_type": "markdown",
   "metadata": {},
   "source": [
    "### b) Global update\n",
    "\n",
    "![](../img/global_updates.png)\n",
    "\n",
    "Now that we have a single local update we want to apply this function for every 2-qubit gate. We will write a function that applies the local update for all odd gates (gates whose left leg acts on a site whose index is odd), followed by all even gates (gates whose left leg acts on a site whose index is even). After one call to this function the MPS will have evolved by one time step dt.\n",
    "\n",
    "The function will apply all odd/even gates in series (one after the other). However note that each odd/even gate can be applied independently of all other odd/even gates, meaning that they could be applied in **parallel**."
   ]
  },
  {
   "cell_type": "code",
   "execution_count": 566,
   "metadata": {},
   "outputs": [],
   "source": [
    "def global_update(\n",
    "    lambdas: list,\n",
    "    gammas: list,\n",
    "    odd_gates: list,\n",
    "    even_gates: list,\n",
    "    max_bond_dimension: int,\n",
    ") -> Tuple[list, list]:\n",
    "    \"\"\"\n",
    "    Perform the global update applying all gates (odd and even) once.\n",
    "\n",
    "    Args:\n",
    "        lambdas: A list of length N+1 containing the lambda matrices of the MPS\n",
    "        gammas: A list of length N containing the gamma tensors of the MPS\n",
    "        odd_gates: A list containing the odd gates\n",
    "        even_gates: A list containing the even gates\n",
    "        max_bond_dimension: The maximum bond dimension of the MPS\n",
    "\n",
    "    Returns:\n",
    "        The list of updated lambdas, the list of updated gammas\n",
    "    \"\"\"\n",
    "    nsites = len(gammas)\n",
    "    for gate, site in zip(odd_gates, range(1, nsites, 2)):\n",
    "        gammas[site], lambdas[site+1], gammas[site+1] = local_update(\n",
    "            lambdas[site], \n",
    "            gammas[site], \n",
    "            lambdas[site+1], \n",
    "            gammas[site+1], \n",
    "            lambdas[site+2],\n",
    "            gate,\n",
    "            max_bond_dimension,\n",
    "        )\n",
    "    for gate, site in zip(even_gates, range(0, nsites, 2)):\n",
    "        gammas[site], lambdas[site+1], gammas[site+1] = local_update(\n",
    "            lambdas[site], \n",
    "            gammas[site], \n",
    "            lambdas[site+1], \n",
    "            gammas[site+1], \n",
    "            lambdas[site+2],\n",
    "            gate,\n",
    "            max_bond_dimension,\n",
    "        )\n",
    "    return lambdas, gammas"
   ]
  },
  {
   "cell_type": "markdown",
   "metadata": {},
   "source": [
    "## 3. Creating the Gates\n",
    "\n",
    "Now that we have the global update function we need to construct the gates for our Hamiltonian. "
   ]
  },
  {
   "cell_type": "markdown",
   "metadata": {},
   "source": [
    "The Hamiltonain $H_{\\text{TFI}}$ can be written as a sum of local 2-qubit terms:\n",
    "\n",
    "$\n",
    "H_{\\text{TFI}} = \\sum_{i}H_{i,i+1},\n",
    "$\n",
    "\n",
    "where\n",
    "\n",
    "$H_{i,i+1} = -J\\sigma^{z}_{i}\\otimes\\sigma^{z}_{i+1} - \\frac{h}{2}(\\sigma^{x}_{i}\\otimes I + I\\otimes\\sigma_{i+1}^{x})$, for $i\\in(0, N-2)$, \n",
    "\n",
    "$H_{0, 1} = -J\\sigma^{z}_{0}\\otimes\\sigma^{z}_{1} - \\frac{h}{2}( 2\\sigma^{x}_{0}\\otimes I + I\\otimes\\sigma_{1}^{x})$,\n",
    "\n",
    "$H_{N-2, N-1} = -J\\sigma^{z}_{N-2}\\otimes\\sigma^{z}_{N-1} - \\frac{h}{2}( \\sigma^{x}_{N-2}\\otimes I + 2I\\otimes\\sigma_{N-1}^{x})$.\n",
    "\n",
    "Note how the 1-qubit operator is split between neighbouring 2-qubit gates. We need to include a factor of 1/2 to avoid counting them twice expect on the first and last sites which are covered by just one 2-qubit gate.\n",
    "\n",
    "The local two-body gates we need to apply are then given by $\\exp{(-i\\delta t H_{i,i+1})}$.\n",
    "\n",
    "First let's define the local operators appearing in $H_{\\text{TFI}}$:"
   ]
  },
  {
   "cell_type": "code",
   "execution_count": 567,
   "metadata": {},
   "outputs": [],
   "source": [
    "# Sz x Sz\n",
    "szz = np.kron(sz, sz)\n",
    "# I x Sx\n",
    "isx = np.kron(i, sx)\n",
    "# Sx x I\n",
    "sxi = np.kron(sx, i)"
   ]
  },
  {
   "cell_type": "markdown",
   "metadata": {},
   "source": [
    "Now we can contruct the gates $\\exp{(-i\\delta t H_{i,i+1})}$ for $i\\in[0,N-2]$:"
   ]
  },
  {
   "cell_type": "code",
   "execution_count": 568,
   "metadata": {},
   "outputs": [],
   "source": [
    "import scipy as sp\n",
    "\n",
    "# Define Trotter delta \n",
    "delta_t = 0.1\n",
    "\n",
    "h_local_bulk = -J * szz - (h / 2) * (sxi + isx)\n",
    "h_local_first = -J * szz - (h / 2) * (2 * sxi + isx)\n",
    "h_local_last = -J * szz - (h / 2) * (sxi + 2 * isx)\n",
    "\n",
    "# Note: we need the exponential of an *operator* here, hence we must use scipy.linalg.expm \n",
    "# and not numpy.exp, numpy.exp computes the element-wise exponential\n",
    "gate2_bulk = np.reshape(sp.linalg.expm(-1j * delta_t * h_local_bulk), [2, 2, 2, 2])\n",
    "gate2_first = np.reshape(sp.linalg.expm(-1j * delta_t * h_local_first), [2, 2, 2, 2])\n",
    "gate2_last = np.reshape(sp.linalg.expm(-1j * delta_t * h_local_last), [2, 2, 2, 2])"
   ]
  },
  {
   "cell_type": "markdown",
   "metadata": {},
   "source": [
    "We will create two lists of gates, one for the odd gates and one for the even gates."
   ]
  },
  {
   "cell_type": "code",
   "execution_count": 569,
   "metadata": {},
   "outputs": [],
   "source": [
    "even_gates = [gate2_first if i==0 else (gate2_last if i==N-2 else gate2_bulk) for i in range(0, N-1, 2)]\n",
    "odd_gates = [gate2_first if i==0 else (gate2_last if i==N-2 else gate2_bulk) for i in range(1, N-1, 2)]"
   ]
  },
  {
   "cell_type": "markdown",
   "metadata": {},
   "source": [
    "## 4. Preparing the Initial State\n",
    "\n",
    "Finally, we need to create our initial wave-function $|\\psi(0)\\rangle$. The initial wave-function needs to be given in the canonical gauge. For this we will slightly modify the `product_state_mps` function seen in the course:"
   ]
  },
  {
   "cell_type": "code",
   "execution_count": 570,
   "metadata": {},
   "outputs": [],
   "source": [
    "from itertools import repeat\n",
    "def product_state_mps(state: list) -> Tuple[list, list]:\n",
    "    \"\"\"\n",
    "    Generate an MPS in the canonical gauge representing a product state\n",
    "\n",
    "    Args:\n",
    "        state: A list of state vectors\n",
    "\n",
    "    Returns:\n",
    "        A list of length N+1 containing the lambdas, A list of length N containing the gammas\n",
    "    \"\"\"\n",
    "    N = len(state)\n",
    "    lambdas = list(repeat(np.array([1]), N+1)) # lambdas are stored as 1-d arrays\n",
    "    gammas = [np.array(s).reshape(1, len(s), 1) for s in state]\n",
    "    return lambdas, gammas"
   ]
  },
  {
   "cell_type": "markdown",
   "metadata": {},
   "source": [
    "We will use the initial state $|\\psi(0)\\rangle = |0000000000\\rangle$."
   ]
  },
  {
   "cell_type": "code",
   "execution_count": 571,
   "metadata": {},
   "outputs": [],
   "source": [
    "initial_state = [[1, 0]] * N\n",
    "psi = product_state_mps(initial_state)"
   ]
  },
  {
   "cell_type": "markdown",
   "metadata": {},
   "source": [
    "## 5. Measuring Observables\n",
    "\n",
    "We saw previously how to measure observables on MPS, however now that we are working in the canonical gauge we will need to slightly modify our function."
   ]
  },
  {
   "cell_type": "code",
   "execution_count": 572,
   "metadata": {},
   "outputs": [],
   "source": [
    "def measure_one_site_operator(lambdas: list, gammas: list, op: np.ndarray, site_index: int):\n",
    "    \"\"\"\n",
    "    Compute expectation of single-site operator\n",
    "\n",
    "    Args:\n",
    "        lambdas: A list of length N+1 containing the lambdas of the mps\n",
    "        gammas: A list of length N containing the gammas of the mps\n",
    "        op: The operator to measure\n",
    "        site_index: The site on which to measure the operator\n",
    "    \n",
    "    Returns:\n",
    "        The expectation value\n",
    "    \"\"\"\n",
    "    return float(np.real(\n",
    "        np.einsum('abc,ad,eb,cf,def',\n",
    "                gammas[site_index],\n",
    "                np.diagflat(lambdas[site_index]**2),\n",
    "                op,\n",
    "                np.diagflat(lambdas[site_index+1]**2),\n",
    "                np.conj(gammas[site_index]), # Don't forget to perform the complex conjugate to form the bra\n",
    "                )\n",
    "    ))"
   ]
  },
  {
   "cell_type": "markdown",
   "metadata": {},
   "source": [
    "## 6. Putting it all together\n",
    "\n",
    "Now, using everything we have developed we can evolve our product state under the TFI Hamiltonian and measure an observable between each time step."
   ]
  },
  {
   "cell_type": "code",
   "execution_count": 573,
   "metadata": {},
   "outputs": [],
   "source": [
    "num_steps = 100\n",
    "max_bond_dimension = 5\n",
    "\n",
    "exp_sz = []\n",
    "for step in range(num_steps):\n",
    "    exp_sz.append(measure_one_site_operator(*psi, sz, 0))\n",
    "    psi = global_update(*psi, odd_gates, even_gates, max_bond_dimension)\n"
   ]
  },
  {
   "cell_type": "code",
   "execution_count": 574,
   "metadata": {},
   "outputs": [
    {
     "data": {
      "text/plain": [
       "[<matplotlib.lines.Line2D at 0xffff51d534c0>]"
      ]
     },
     "execution_count": 574,
     "metadata": {},
     "output_type": "execute_result"
    },
    {
     "data": {
      "image/png": "[encoded data removed]",
      "text/plain": [
       "<Figure size 640x480 with 1 Axes>"
      ]
     },
     "metadata": {},
     "output_type": "display_data"
    }
   ],
   "source": [
    "import matplotlib.pyplot as plt\n",
    "plt.xlabel(\"time\")\n",
    "plt.ylabel(\"sz\")\n",
    "plt.ylim([-1.1, 1.1])\n",
    "plt.plot([i*delta_t for i in range(num_steps)], exp_sz)"
   ]
  },
  {
   "cell_type": "markdown",
   "metadata": {},
   "source": [
    "## 7. Exercices\n",
    "\n",
    "1. Visualize the time evolution of $\\langle\\psi(t)|\\sigma_{z}|\\psi(t)\\rangle$ and $\\langle\\psi(t)|\\sigma_{x}|\\psi(t)\\rangle$ on all qubits.\n",
    "2. Experiment with changing $J$ and $h$.\n",
    "3. Experiment with different initial states.\n",
    "4. Plot the entropy of entanglement at the middle of the chain as a function of time."
   ]
  }
 ],
 "metadata": {
  "kernelspec": {
   "display_name": "Python 3 (ipykernel)",
   "language": "python",
   "name": "python3"
  },
  "language_info": {
   "codemirror_mode": {
    "name": "ipython",
    "version": 3
   },
   "file_extension": ".py",
   "mimetype": "text/x-python",
   "name": "python",
   "nbconvert_exporter": "python",
   "pygments_lexer": "ipython3",
   "version": "3.10.14"
  }
 },
 "nbformat": 4,
 "nbformat_minor": 4
}
