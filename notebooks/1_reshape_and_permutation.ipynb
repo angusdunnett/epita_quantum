{
 "cells": [
  {
   "cell_type": "markdown",
   "metadata": {},
   "source": [
    "# Introduction to Reshaping and Permuting Tensors\n",
    "\n",
    "In this notebook, we will explore two fundamental operations in tensor manipulation: **reshaping** and **permuting**. These operations are crucial in tensor networks, machine learning, and scientific computing, where tensors (multi-dimensional arrays) need to be transformed into different shapes or orders.\n",
    "\n",
    "## Table of Contents\n",
    "1. What is a Tensor?\n",
    "2. Reshaping Tensors\n",
    "3. Permuting Tensors\n",
    "4. Array views\n",
    "5. Exercises\n"
   ]
  },
  {
   "cell_type": "markdown",
   "metadata": {},
   "source": [
    "## 1. What is a Tensor?\n",
    "\n",
    "A **tensor** is a generalization of scalars (0D), vectors (1D), and matrices (2D) to higher dimensions. It is essentially a multi-dimensional array of numbers, and its number of dimensions is referred to as its **order** or sometimes its **rank** although this latter can be confused with the rank of a matrix which is completely different (c.f SVD). For example:\n",
    "\n",
    "- A **scalar** is a 0D tensor (order-0)\n",
    "- A **vector** is a 1D tensor (order-1)\n",
    "- A **matrix** is a 2D tensor (order-2)\n",
    "- A ND tensor (order-N)\n",
    "\n",
    "Tensors are widely used in fields like physics, computer science, and machine learning."
   ]
  },
  {
   "cell_type": "markdown",
   "metadata": {},
   "source": [
    "## 2. Reshaping Tensors\n",
    "\n",
    "Reshaping a tensor means changing its shape (the number of elements along each dimension) while preserving the data and the total number of elements. In NumPy this operation will be performed, wherever possible, without changing the order of elements in memory (we will see later where reshapes will lead to copying data).\n",
    "\n",
    "### Example: Reshaping with NumPy"
   ]
  },
  {
   "cell_type": "code",
   "execution_count": 3,
   "metadata": {},
   "outputs": [],
   "source": [
    "# Importing numpy\n",
    "import numpy as np"
   ]
  },
  {
   "cell_type": "markdown",
   "metadata": {},
   "source": [
    "![](../img/reshape.png)"
   ]
  },
  {
   "cell_type": "code",
   "execution_count": 4,
   "metadata": {},
   "outputs": [
    {
     "name": "stdout",
     "output_type": "stream",
     "text": [
      "Original Tensor (3x3x4):\n"
     ]
    },
    {
     "data": {
      "text/plain": [
       "array([[[ 0,  1,  2,  3],\n",
       "        [ 4,  5,  6,  7],\n",
       "        [ 8,  9, 10, 11]],\n",
       "\n",
       "       [[12, 13, 14, 15],\n",
       "        [16, 17, 18, 19],\n",
       "        [20, 21, 22, 23]],\n",
       "\n",
       "       [[24, 25, 26, 27],\n",
       "        [28, 29, 30, 31],\n",
       "        [32, 33, 34, 35]]])"
      ]
     },
     "execution_count": 4,
     "metadata": {},
     "output_type": "execute_result"
    }
   ],
   "source": [
    "# Create a 3D tensor (3x3x4 tensor)\n",
    "tensor = np.arange(36).reshape(3, 3, 4)\n",
    "print(\"Original Tensor (3x3x4):\")\n",
    "tensor"
   ]
  },
  {
   "cell_type": "code",
   "execution_count": 5,
   "metadata": {},
   "outputs": [
    {
     "name": "stdout",
     "output_type": "stream",
     "text": [
      "\n",
      "Reshaped Tensor (9x4):\n"
     ]
    },
    {
     "data": {
      "text/plain": [
       "array([[ 0,  1,  2,  3],\n",
       "       [ 4,  5,  6,  7],\n",
       "       [ 8,  9, 10, 11],\n",
       "       [12, 13, 14, 15],\n",
       "       [16, 17, 18, 19],\n",
       "       [20, 21, 22, 23],\n",
       "       [24, 25, 26, 27],\n",
       "       [28, 29, 30, 31],\n",
       "       [32, 33, 34, 35]])"
      ]
     },
     "execution_count": 5,
     "metadata": {},
     "output_type": "execute_result"
    }
   ],
   "source": [
    "# Reshape the tensor to a shape of (9, 4)\n",
    "reshaped_tensor = np.reshape(tensor, (9, 4))\n",
    "print(\"\\nReshaped Tensor (9x4):\")\n",
    "\n",
    "reshaped_tensor"
   ]
  },
  {
   "cell_type": "markdown",
   "metadata": {},
   "source": [
    "The first two indices of the original tensor have been combined into one (multi) index, the size of this new index is 9 (3x3).\n",
    "Notice that the total number of elements in the array is the same (36)."
   ]
  },
  {
   "cell_type": "markdown",
   "metadata": {},
   "source": [
    "### Reshaping and Memory Layout\n",
    "\n",
    "When we reshape a tensor, NumPy will try to return a \"view\" of the array. In NumPy, a view of an array is a new array object that points at the same data in memory as the original array, only the way we access the data changes. \n",
    "\n",
    "We can see how the elements of an array a arranged in memory by using `numpy.ravel` with `order='K'`. We can see that the above reshape did not change the data in memory:"
   ]
  },
  {
   "cell_type": "code",
   "execution_count": 6,
   "metadata": {},
   "outputs": [
    {
     "name": "stdout",
     "output_type": "stream",
     "text": [
      "Data in memory of original tensor:\n",
      "[ 0  1  2  3  4  5  6  7  8  9 10 11 12 13 14 15 16 17 18 19 20 21 22 23\n",
      " 24 25 26 27 28 29 30 31 32 33 34 35]\n",
      "Data in memory of reshaped tensor:\n",
      "[ 0  1  2  3  4  5  6  7  8  9 10 11 12 13 14 15 16 17 18 19 20 21 22 23\n",
      " 24 25 26 27 28 29 30 31 32 33 34 35]\n"
     ]
    }
   ],
   "source": [
    "print(\"Data in memory of original tensor:\")\n",
    "print(np.ravel(tensor, order='K'))\n",
    "print(\"Data in memory of reshaped tensor:\")\n",
    "print(np.ravel(reshaped_tensor, order='K'))"
   ]
  },
  {
   "cell_type": "markdown",
   "metadata": {},
   "source": [
    "So what has changed? Answer: the shape and the strides:"
   ]
  },
  {
   "cell_type": "code",
   "execution_count": 7,
   "metadata": {},
   "outputs": [
    {
     "name": "stdout",
     "output_type": "stream",
     "text": [
      "Shape of orginal tensor: (3, 3, 4), strides of orginal tensor: (96, 32, 8)\n",
      "Shape of reshaped tensor: (9, 4), strides of reshaped tensor: (32, 8)\n"
     ]
    }
   ],
   "source": [
    "print(f\"Shape of orginal tensor: {tensor.shape}, strides of orginal tensor: {tensor.strides}\")\n",
    "print(f\"Shape of reshaped tensor: {reshaped_tensor.shape}, strides of reshaped tensor: {reshaped_tensor.strides}\")"
   ]
  },
  {
   "cell_type": "markdown",
   "metadata": {},
   "source": [
    "The shape attribute should be pretty obvious, we'll come back to what strides means later."
   ]
  },
  {
   "cell_type": "markdown",
   "metadata": {},
   "source": [
    "## 3. Permuting Tensors\n",
    "\n",
    "Permuting a tensor means changing the order of its axes (dimensions). The function for permuting the dimensions of a tensor is called `transpose` in NumPy.\n",
    "\n",
    "### Example: Permuting with NumPy"
   ]
  },
  {
   "cell_type": "markdown",
   "metadata": {},
   "source": [
    "![](../img/permute.png)"
   ]
  },
  {
   "cell_type": "code",
   "execution_count": 8,
   "metadata": {},
   "outputs": [
    {
     "name": "stdout",
     "output_type": "stream",
     "text": [
      "Permuted Tensor (Transpose):\n"
     ]
    },
    {
     "data": {
      "text/plain": [
       "array([[[ 0,  1,  2,  3],\n",
       "        [12, 13, 14, 15],\n",
       "        [24, 25, 26, 27]],\n",
       "\n",
       "       [[ 4,  5,  6,  7],\n",
       "        [16, 17, 18, 19],\n",
       "        [28, 29, 30, 31]],\n",
       "\n",
       "       [[ 8,  9, 10, 11],\n",
       "        [20, 21, 22, 23],\n",
       "        [32, 33, 34, 35]]])"
      ]
     },
     "execution_count": 8,
     "metadata": {},
     "output_type": "execute_result"
    }
   ],
   "source": [
    "# Permute the tensor axes\n",
    "permuted_tensor = np.transpose(tensor, axes=(1, 0, 2))\n",
    "print(\"Permuted Tensor (Transpose):\")\n",
    "permuted_tensor"
   ]
  },
  {
   "cell_type": "markdown",
   "metadata": {},
   "source": [
    "### Permuting and Memory Layout\n",
    "\n",
    "Like `reshape`, `transpose` will avoid copying data, prefering to return a view of the array. In fact, unlike `reshape`, `transpose` will **always** return a view of the array."
   ]
  },
  {
   "cell_type": "markdown",
   "metadata": {},
   "source": [
    "## Exercise\n",
    "\n",
    "1. Confirm that `numpy.transpose` does not change the way the data are stored in memory. \n",
    "2. What attributes of the transposed array are different?"
   ]
  },
  {
   "cell_type": "markdown",
   "metadata": {},
   "source": [
    "## 4. Array views\n",
    "\n",
    "We have seen how `reshape` and `transpose` usually return views of arrays, instead of copying data. In fact, the same is true of many operations in NumPy - another notable example is slicing. The reason for this choice is of course performance - copying data is **much** slower than just changing a few attributes. *Knowing when functions cause data to be copied is crucial for optimizing performance.*\n",
    "\n",
    "Above we saw how `numpy.ravel` with `order='K'` can be used to see the underlying layout of the array in memory. A more direct way to tell if data is copied during array operations in NumPy is to use the `base` attribute of an array. If an array is a view of another array (i.e., no data copy was made), its `base` attribute will point to the original array. If the `base` attribute is `None`, it means the array owns its data and a copy was made or a new array was created.\n",
    "\n",
    "### How to Check for Data Copies:\n",
    "\n",
    "- If `array.base` is `None`, the data is not a view, and therefore, a copy was made.\n",
    "- If `array.base` is not `None`, the array is a view of another array, and no data copy was made.\n",
    "\n",
    "### Example: Checking `base` attribute\n"
   ]
  },
  {
   "cell_type": "code",
   "execution_count": 9,
   "metadata": {},
   "outputs": [
    {
     "name": "stdout",
     "output_type": "stream",
     "text": [
      "View created with slicing:\n",
      "b.base is a: True\n",
      "\n",
      "Copy created with .copy():\n",
      "c.base is None: True\n"
     ]
    }
   ],
   "source": [
    "# Original array\n",
    "a = np.array([1, 2, 3, 4])\n",
    "\n",
    "# Create a view using slicing (no copy)\n",
    "b = a[:2]\n",
    "print(\"View created with slicing:\")\n",
    "print(\"b.base is a:\", b.base is a)  # True, b is a view of a\n",
    "\n",
    "# Create a copy explicitly\n",
    "c = a[:2].copy()\n",
    "print(\"\\nCopy created with .copy():\")\n",
    "print(\"c.base is None:\", c.base is None)  # True, c is a copy and owns its data\n"
   ]
  },
  {
   "cell_type": "markdown",
   "metadata": {},
   "source": [
    "# 5. Exercises\n",
    "\n",
    "Using reshape and transpose, implement the transformations described by the diagrams. Legs labelled by tuples of indices indicate that these are multi-indices composed of the corresponding indices of the original tensor."
   ]
  },
  {
   "cell_type": "markdown",
   "metadata": {},
   "source": [
    "### 1.\n",
    "![](../img/reshape_ex_1.png)"
   ]
  },
  {
   "cell_type": "code",
   "execution_count": 22,
   "metadata": {},
   "outputs": [],
   "source": [
    "# 1. Transform the tensor\n",
    "tensor_1 = np.arange(8).reshape(2, 2, 2).copy()\n",
    "transformed_tensor_1 = None"
   ]
  },
  {
   "cell_type": "code",
   "execution_count": 23,
   "metadata": {},
   "outputs": [],
   "source": [
    "# Check answer\n",
    "expected_tensor_1 = np.array([[0, 1], [2, 3], [4, 5], [6, 7]])\n",
    "assert (transformed_tensor_1 == expected_tensor_1).all() == True"
   ]
  },
  {
   "cell_type": "markdown",
   "metadata": {},
   "source": [
    "### 2.\n",
    "![](../img/reshape_ex_2.png)"
   ]
  },
  {
   "cell_type": "code",
   "execution_count": null,
   "metadata": {},
   "outputs": [],
   "source": [
    "# 2. Transform the tensor\n",
    "tensor_2 = np.arange(16).reshape(2, 2, 2, 2).copy()\n",
    "transformed_tensor_2 = None"
   ]
  },
  {
   "cell_type": "code",
   "execution_count": 26,
   "metadata": {},
   "outputs": [],
   "source": [
    "# Check answer\n",
    "expected_tensor_2 = np.array([[ 0,  1,  4,  5], [ 2,  3,  6,  7], [ 8,  9, 12, 13], [10, 11, 14, 15]])\n",
    "assert (transformed_tensor_2 == expected_tensor_2).all() == True"
   ]
  },
  {
   "cell_type": "markdown",
   "metadata": {},
   "source": [
    "### 3.\n",
    "![](../img/rehsape_ex_3.png)"
   ]
  },
  {
   "cell_type": "code",
   "execution_count": 27,
   "metadata": {},
   "outputs": [],
   "source": [
    "# 3. Transform the tensor\n",
    "tensor_3 = np.arange(32).reshape(2, 2, 2, 2, 2).copy()\n",
    "transformed_tensor_3 = None"
   ]
  },
  {
   "cell_type": "code",
   "execution_count": 28,
   "metadata": {},
   "outputs": [],
   "source": [
    "# Check answer\n",
    "expected_tensor_3 = np.array([[[0,  1],\n",
    "                               [2,  3],\n",
    "                               [4,  5],\n",
    "                               [6,  7],\n",
    "                               [8,  9],\n",
    "                               [10, 11],\n",
    "                               [12, 13],\n",
    "                               [14, 15]],\n",
    "\n",
    "                              [[16, 17],\n",
    "                               [18, 19],\n",
    "                               [20, 21],\n",
    "                               [22, 23],\n",
    "                               [24, 25],\n",
    "                               [26, 27],\n",
    "                               [28, 29],\n",
    "                               [30, 31]]]\n",
    "                             )\n",
    "assert (transformed_tensor_3 == expected_tensor_3).all() == True\n"
   ]
  },
  {
   "cell_type": "markdown",
   "metadata": {},
   "source": [
    "### 4. \n",
    "Which of the above resulting tensors are views of the original tensor, and which are new arrays? \n",
    "Hint: check the `base` attribute."
   ]
  }
 ],
 "metadata": {
  "kernelspec": {
   "display_name": "Python 3 (ipykernel)",
   "language": "python",
   "name": "python3"
  },
  "language_info": {
   "codemirror_mode": {
    "name": "ipython",
    "version": 3
   },
   "file_extension": ".py",
   "mimetype": "text/x-python",
   "name": "python",
   "nbconvert_exporter": "python",
   "pygments_lexer": "ipython3",
   "version": "3.10.14"
  }
 },
 "nbformat": 4,
 "nbformat_minor": 4
}
