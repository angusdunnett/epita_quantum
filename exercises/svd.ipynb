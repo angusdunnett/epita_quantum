{
 "cells": [
  {
   "cell_type": "code",
   "execution_count": 2,
   "id": "a2f64fd4-709e-4793-b8f7-d8610f6b4d46",
   "metadata": {},
   "outputs": [],
   "source": [
    "import numpy as np\n",
    "import matplotlib.pyplot as plt\n",
    "\n",
    "n=100\n",
    "m=110\n",
    "M = np.random.rand(m, n)"
   ]
  },
  {
   "cell_type": "markdown",
   "id": "84ec3786-5d48-4372-b0ad-0dc1adbfc08d",
   "metadata": {},
   "source": [
    "1. Compute the SVD of the matrix M"
   ]
  },
  {
   "cell_type": "markdown",
   "id": "67d834fc-68a3-4e27-8d15-9d16165a8836",
   "metadata": {},
   "source": [
    "2. Plot the singular values of M"
   ]
  },
  {
   "cell_type": "markdown",
   "id": "65778a1b-c416-4aff-a05d-8337c6cb8527",
   "metadata": {},
   "source": [
    "3. Check that you can reconstruct M from the decomposition"
   ]
  },
  {
   "cell_type": "markdown",
   "id": "520e8f6c-5203-4ead-936b-898eb1e1c1fc",
   "metadata": {},
   "source": [
    "4. Construct a low rank approximation by truncating singular values that are smaller than 10^-4"
   ]
  },
  {
   "cell_type": "markdown",
   "id": "9571b302-51b3-48d5-a1fd-756305bc575b",
   "metadata": {},
   "source": [
    "5. Plot the error caused by truncation against the singular value threshold"
   ]
  },
  {
   "cell_type": "markdown",
   "id": "ba6b84de-9056-40a8-94ab-3f3d9f95bd1a",
   "metadata": {},
   "source": [
    "6. Plot the error caused by the truncation against the parameter reduction as a percentage"
   ]
  },
  {
   "cell_type": "markdown",
   "id": "5b7dbebc-b302-4c5a-8348-16d7896e08d2",
   "metadata": {},
   "source": [
    "7. Repeat the above for the matrix M2"
   ]
  },
  {
   "cell_type": "code",
   "execution_count": 24,
   "id": "14046e56-4ef9-46e9-b5c1-858a1fa5babb",
   "metadata": {},
   "outputs": [],
   "source": [
    "n=100 # m => n\n",
    "m=110\n",
    "M2 = np.linalg.qr(np.random.rand(m, n))[0][:,:n] @ np.diagflat(np.exp(-0.1*np.arange(n)) * (np.arange(n) > 70)) @ np.linalg.qr(np.random.rand(n, m))[0]"
   ]
  }
 ],
 "metadata": {
  "kernelspec": {
   "display_name": "Python 3 (ipykernel)",
   "language": "python",
   "name": "python3"
  },
  "language_info": {
   "codemirror_mode": {
    "name": "ipython",
    "version": 3
   },
   "file_extension": ".py",
   "mimetype": "text/x-python",
   "name": "python",
   "nbconvert_exporter": "python",
   "pygments_lexer": "ipython3",
   "version": "3.10.11"
  }
 },
 "nbformat": 4,
 "nbformat_minor": 5
}
