{
 "cells": [
  {
   "cell_type": "markdown",
   "id": "54dce188-f092-4a0f-b75f-e0bed9a5a3e5",
   "metadata": {},
   "source": [
    "# Tensor network contraction"
   ]
  },
  {
   "cell_type": "code",
   "execution_count": 2,
   "id": "9413e9fd-f769-46c8-99ee-d9c8202d2900",
   "metadata": {},
   "outputs": [],
   "source": [
    "import numpy as np"
   ]
  },
  {
   "cell_type": "markdown",
   "id": "855ed0c8-977c-476b-8952-78c23028a311",
   "metadata": {},
   "source": [
    "Compute the contraction of the tensor networks defined on the slides and find the optimal contaction order and complexity"
   ]
  },
  {
   "cell_type": "markdown",
   "id": "5255541a-0a45-47e1-951c-c28168a292ae",
   "metadata": {},
   "source": [
    "1. (Try without using einsum, compare runtimes.)"
   ]
  },
  {
   "cell_type": "code",
   "execution_count": 3,
   "id": "bbab84b0-5598-4997-809b-11f51e52c9d5",
   "metadata": {},
   "outputs": [],
   "source": [
    "A = np.random.rand(10, 10)\n",
    "B = np.random.rand(10, 10)\n",
    "C = np.random.rand(10, 10)"
   ]
  },
  {
   "cell_type": "markdown",
   "id": "a5d3bc1e-1c47-487a-b22b-7fe80346770c",
   "metadata": {},
   "source": [
    "2."
   ]
  },
  {
   "cell_type": "code",
   "execution_count": 4,
   "id": "76a39b0c-c58c-4b63-9de9-8b08f22cc1e9",
   "metadata": {},
   "outputs": [],
   "source": [
    "D = 10\n",
    "A = np.random.rand(D, D)\n",
    "B = np.random.rand(D, D, D, D)\n",
    "C = np.random.rand(D, D, D)\n",
    "D = np.random.rand(D, D)"
   ]
  },
  {
   "cell_type": "markdown",
   "id": "d92605ea-4417-4074-877b-58bd0e584f26",
   "metadata": {},
   "source": [
    "3."
   ]
  },
  {
   "cell_type": "code",
   "execution_count": 5,
   "id": "26f39df0-525d-4adb-9612-30101748b63e",
   "metadata": {},
   "outputs": [],
   "source": [
    "N = 4\n",
    "d = 2\n",
    "D = 10\n",
    "v = [np.random.rand(d, D)]+[np.random.rand(D, d, D) for i in range(1,N-1)]+[np.random.rand(D, d)]\n",
    "w = [np.random.rand(d, D)]+[np.random.rand(D, d, D) for i in range(1,N-1)]+[np.random.rand(D, d)]"
   ]
  },
  {
   "cell_type": "markdown",
   "id": "5061ac4e-8e60-460c-8a34-75bbf9b51c88",
   "metadata": {},
   "source": [
    "Bonus: Generialise the above so that it works for any N"
   ]
  },
  {
   "cell_type": "code",
   "execution_count": null,
   "id": "da695b78-0edd-4467-a528-7674f32224b9",
   "metadata": {},
   "outputs": [],
   "source": []
  }
 ],
 "metadata": {
  "kernelspec": {
   "display_name": "Python 3 (ipykernel)",
   "language": "python",
   "name": "python3"
  },
  "language_info": {
   "codemirror_mode": {
    "name": "ipython",
    "version": 3
   },
   "file_extension": ".py",
   "mimetype": "text/x-python",
   "name": "python",
   "nbconvert_exporter": "python",
   "pygments_lexer": "ipython3",
   "version": "3.10.11"
  }
 },
 "nbformat": 4,
 "nbformat_minor": 5
}
