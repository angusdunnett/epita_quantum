{
 "cells": [
  {
   "cell_type": "markdown",
   "id": "54dce188-f092-4a0f-b75f-e0bed9a5a3e5",
   "metadata": {},
   "source": [
    "# Tensor network contraction"
   ]
  },
  {
   "cell_type": "code",
   "execution_count": 11,
   "id": "9413e9fd-f769-46c8-99ee-d9c8202d2900",
   "metadata": {},
   "outputs": [],
   "source": [
    "import numpy as np"
   ]
  },
  {
   "cell_type": "markdown",
   "id": "855ed0c8-977c-476b-8952-78c23028a311",
   "metadata": {},
   "source": [
    "Compute the contraction of the tensor networks defined on the slides and find the optimal contaction order and complexity"
   ]
  },
  {
   "cell_type": "markdown",
   "id": "5255541a-0a45-47e1-951c-c28168a292ae",
   "metadata": {},
   "source": [
    "1. (Try without using einsum, compare runtimes.)"
   ]
  },
  {
   "cell_type": "code",
   "execution_count": 26,
   "id": "bbab84b0-5598-4997-809b-11f51e52c9d5",
   "metadata": {},
   "outputs": [],
   "source": [
    "A = np.random.rand(10, 10)\n",
    "B = np.random.rand(10, 10)\n",
    "C = np.random.rand(10, 10)"
   ]
  },
  {
   "cell_type": "code",
   "execution_count": 27,
   "id": "6962efdd-e380-4276-88b0-1f09dcbe9267",
   "metadata": {},
   "outputs": [
    {
     "name": "stdout",
     "output_type": "stream",
     "text": [
      "3.73 µs ± 46 ns per loop (mean ± std. dev. of 7 runs, 100,000 loops each)\n"
     ]
    }
   ],
   "source": [
    "%%timeit\n",
    "np.einsum('ij, jk, ki->', A, B, C)"
   ]
  },
  {
   "cell_type": "code",
   "execution_count": 14,
   "id": "a4114448-3e81-40d7-b7c0-23fb1a3c4b18",
   "metadata": {},
   "outputs": [
    {
     "name": "stdout",
     "output_type": "stream",
     "text": [
      "2.91 µs ± 27.4 ns per loop (mean ± std. dev. of 7 runs, 100,000 loops each)\n"
     ]
    }
   ],
   "source": [
    "%%timeit\n",
    "np.trace(A@B@C)"
   ]
  },
  {
   "cell_type": "markdown",
   "id": "a5d3bc1e-1c47-487a-b22b-7fe80346770c",
   "metadata": {},
   "source": [
    "2."
   ]
  },
  {
   "cell_type": "code",
   "execution_count": 15,
   "id": "76a39b0c-c58c-4b63-9de9-8b08f22cc1e9",
   "metadata": {},
   "outputs": [],
   "source": [
    "D = 10\n",
    "A = np.random.rand(D, D)\n",
    "B = np.random.rand(D, D, D, D)\n",
    "C = np.random.rand(D, D, D)\n",
    "D = np.random.rand(D, D)"
   ]
  },
  {
   "cell_type": "code",
   "execution_count": 19,
   "id": "158487a0-0172-4dcf-a141-43c20ea15b6b",
   "metadata": {},
   "outputs": [
    {
     "data": {
      "text/plain": [
       "(10, 10, 10)"
      ]
     },
     "execution_count": 19,
     "metadata": {},
     "output_type": "execute_result"
    }
   ],
   "source": [
    "ABCD = np.einsum('ab,aced,bfg,cf', A, B, C, D)\n",
    "ABCD.shape"
   ]
  },
  {
   "cell_type": "code",
   "execution_count": 23,
   "id": "1a9fed2a-e6e9-4157-bfcb-58eac73bd876",
   "metadata": {},
   "outputs": [
    {
     "name": "stdout",
     "output_type": "stream",
     "text": [
      "['einsum_path', (0, 2), (1, 2), (0, 1)]\n"
     ]
    }
   ],
   "source": [
    "path_info = np.einsum_path('ab,aced,bfg,cf', A, B, C, D)\n",
    "print(path_info[0])"
   ]
  },
  {
   "cell_type": "code",
   "execution_count": 21,
   "id": "e236cea5-8af9-4726-bc15-f5ff7a83c83f",
   "metadata": {},
   "outputs": [
    {
     "name": "stdout",
     "output_type": "stream",
     "text": [
      "  Complete contraction:  ab,aced,bfg,cf->deg\n",
      "         Naive scaling:  7\n",
      "     Optimized scaling:  5\n",
      "      Naive FLOP count:  4.000e+07\n",
      "  Optimized FLOP count:  2.400e+05\n",
      "   Theoretical speedup:  166.666\n",
      "  Largest intermediate:  1.000e+03 elements\n",
      "--------------------------------------------------------------------------\n",
      "scaling                  current                                remaining\n",
      "--------------------------------------------------------------------------\n",
      "   4                 bfg,ab->afg                         aced,cf,afg->deg\n",
      "   4                 afg,cf->acg                            aced,acg->deg\n",
      "   5               acg,aced->deg                                 deg->deg\n"
     ]
    }
   ],
   "source": [
    "print(path_info[1])"
   ]
  },
  {
   "cell_type": "markdown",
   "id": "d92605ea-4417-4074-877b-58bd0e584f26",
   "metadata": {},
   "source": [
    "3."
   ]
  },
  {
   "cell_type": "code",
   "execution_count": 118,
   "id": "26f39df0-525d-4adb-9612-30101748b63e",
   "metadata": {},
   "outputs": [],
   "source": [
    "N = 4\n",
    "d = 2\n",
    "D = 2\n",
    "v = [np.random.rand(d, D)]+[np.random.rand(D, d, D) for i in range(1,N-1)]+[np.random.rand(D, d)]\n",
    "w = [np.random.rand(d, D)]+[np.random.rand(D, d, D) for i in range(1,N-1)]+[np.random.rand(D, d)]"
   ]
  },
  {
   "cell_type": "markdown",
   "id": "5061ac4e-8e60-460c-8a34-75bbf9b51c88",
   "metadata": {},
   "source": [
    "Bonus: Generialise the above so that it works for any N"
   ]
  },
  {
   "cell_type": "code",
   "execution_count": 119,
   "id": "da695b78-0edd-4467-a528-7674f32224b9",
   "metadata": {},
   "outputs": [
    {
     "data": {
      "text/plain": [
       "0.7233907799292961"
      ]
     },
     "execution_count": 119,
     "metadata": {},
     "output_type": "execute_result"
    }
   ],
   "source": [
    "np.einsum('ab,bde,egh,hj,ac,cdf,fgi,ij', *v, *w)"
   ]
  },
  {
   "cell_type": "code",
   "execution_count": 120,
   "id": "47447000-ec30-423a-b830-5352972bdd1d",
   "metadata": {},
   "outputs": [
    {
     "name": "stdout",
     "output_type": "stream",
     "text": [
      "['einsum_path', (0, 4), (2, 5), (0, 4), (1, 4), (0, 2), (0, 2), (0, 1)]\n"
     ]
    }
   ],
   "source": [
    "path_info = np.einsum_path('ab,bde,egh,hj,ac,cdf,fgi,ij', *v, *w)\n",
    "# In the optimal contraction order tensors are contracted along the length of the TN like closing a zip\n",
    "print(path_info[0])"
   ]
  },
  {
   "cell_type": "code",
   "execution_count": 121,
   "id": "0b590168-188e-48d7-8b04-734d503d8a0e",
   "metadata": {},
   "outputs": [
    {
     "name": "stdout",
     "output_type": "stream",
     "text": [
      "  Complete contraction:  ab,bde,egh,hj,ac,cdf,fgi,ij->\n",
      "         Naive scaling:  10\n",
      "     Optimized scaling:  4\n",
      "      Naive FLOP count:  8.192e+03\n",
      "  Optimized FLOP count:  1.690e+02\n",
      "   Theoretical speedup:  48.473\n",
      "  Largest intermediate:  8.000e+00 elements\n",
      "--------------------------------------------------------------------------\n",
      "scaling                  current                                remaining\n",
      "--------------------------------------------------------------------------\n",
      "   3                   ac,ab->bc               bde,egh,hj,cdf,fgi,ij,bc->\n",
      "   3                   ij,hj->hi                  bde,egh,cdf,fgi,bc,hi->\n",
      "   4                 bc,bde->cde                     egh,cdf,fgi,hi,cde->\n",
      "   4                 cde,cdf->ef                          egh,fgi,hi,ef->\n",
      "   4                 hi,egh->egi                             fgi,ef,egi->\n",
      "   4                 egi,fgi->ef                                  ef,ef->\n",
      "   2                     ef,ef->                                       ->\n"
     ]
    }
   ],
   "source": [
    "# Naive scaling is very bad compared to optimal\n",
    "print(path_info[1])"
   ]
  },
  {
   "cell_type": "code",
   "execution_count": 122,
   "id": "a2dbb193-7514-446e-8d00-7960a9484f49",
   "metadata": {},
   "outputs": [],
   "source": [
    "# Generalise above to any N\n",
    "# It's useful to add dummy indices to either end so that each tensor is the same:\n",
    "v[0] = v[0].reshape(1, *v[0].shape)\n",
    "w[0] = w[0].reshape(1, *w[0].shape)\n",
    "v[-1] = v[-1].reshape(*v[-1].shape, 1)\n",
    "w[-1] = w[-1].reshape(*w[-1].shape, 1)"
   ]
  },
  {
   "cell_type": "code",
   "execution_count": 123,
   "id": "f5c91394-2312-4dfb-9c9a-d6abab1d8717",
   "metadata": {},
   "outputs": [
    {
     "data": {
      "text/plain": [
       "(2, 2, 1)"
      ]
     },
     "execution_count": 123,
     "metadata": {},
     "output_type": "execute_result"
    }
   ],
   "source": [
    "v[-1].shape"
   ]
  },
  {
   "cell_type": "code",
   "execution_count": 151,
   "id": "6f6db718-7c80-4dc4-9ac3-c9edd7458950",
   "metadata": {},
   "outputs": [],
   "source": [
    "def mps_inner_product(v, w):\n",
    "    rho = np.identity(1)\n",
    "    for vi, wi in zip(v, w):\n",
    "        # rho = np.einsum('ac,asb,csd->bd', rho, vi, wi)\n",
    "        rho = np.einsum('ac,asb,csd->bd', rho, vi, wi, optimize=['einsum_path', (0, 2), (0, 1)])\n",
    "    return rho"
   ]
  },
  {
   "cell_type": "code",
   "execution_count": 152,
   "id": "05f89e6e-6067-497e-9a79-23703d53f742",
   "metadata": {},
   "outputs": [
    {
     "name": "stdout",
     "output_type": "stream",
     "text": [
      "10.3 µs ± 260 ns per loop (mean ± std. dev. of 7 runs, 100,000 loops each)\n"
     ]
    }
   ],
   "source": [
    "%%timeit\n",
    "mps_inner_product(v, w)"
   ]
  },
  {
   "cell_type": "code",
   "execution_count": null,
   "id": "5234d72a-17df-48d8-a203-5ab16775c6f5",
   "metadata": {},
   "outputs": [],
   "source": []
  }
 ],
 "metadata": {
  "kernelspec": {
   "display_name": "Python 3 (ipykernel)",
   "language": "python",
   "name": "python3"
  },
  "language_info": {
   "codemirror_mode": {
    "name": "ipython",
    "version": 3
   },
   "file_extension": ".py",
   "mimetype": "text/x-python",
   "name": "python",
   "nbconvert_exporter": "python",
   "pygments_lexer": "ipython3",
   "version": "3.10.11"
  }
 },
 "nbformat": 4,
 "nbformat_minor": 5
}
