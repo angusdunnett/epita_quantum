{
 "cells": [
  {
   "cell_type": "markdown",
   "id": "d7adc851-f585-47d6-a821-20ce87a548de",
   "metadata": {},
   "source": [
    "## Reshape"
   ]
  },
  {
   "cell_type": "code",
   "execution_count": 3,
   "id": "754bda02-40bc-462a-918b-ab5a0cedafee",
   "metadata": {},
   "outputs": [],
   "source": [
    "import numpy as np"
   ]
  },
  {
   "cell_type": "markdown",
   "id": "2319732d-7e19-4115-8b11-b0f89f06988e",
   "metadata": {},
   "source": [
    "1."
   ]
  },
  {
   "cell_type": "code",
   "execution_count": 4,
   "id": "8a501fcc-98bf-4f3e-be16-999978f36204",
   "metadata": {},
   "outputs": [],
   "source": [
    "D1 = D2 = D3 = D4 = 2\n",
    "A = np.random.rand(D1, D2, D3, D4)"
   ]
  },
  {
   "cell_type": "code",
   "execution_count": 6,
   "id": "786f0bf9-5144-4a12-b6df-d74a3bfa828e",
   "metadata": {},
   "outputs": [
    {
     "data": {
      "text/plain": [
       "array([[0.32884596, 0.93459693, 0.9687344 , 0.612741  ],\n",
       "       [0.63527703, 0.06615419, 0.33211365, 0.12342139],\n",
       "       [0.99253896, 0.9165508 , 0.1140045 , 0.72852139],\n",
       "       [0.08854874, 0.66482121, 0.16388116, 0.5844726 ]])"
      ]
     },
     "execution_count": 6,
     "metadata": {},
     "output_type": "execute_result"
    }
   ],
   "source": [
    "A = np.transpose(A, [0,2, 1, 3])\n",
    "A.reshape(D1*D3, D2*D4)"
   ]
  },
  {
   "cell_type": "markdown",
   "id": "914040be-7803-4e77-825e-fda87b450726",
   "metadata": {},
   "source": [
    "2."
   ]
  },
  {
   "cell_type": "code",
   "execution_count": 8,
   "id": "62e3eb84-0583-4ab8-8f05-83bb15fb8854",
   "metadata": {},
   "outputs": [],
   "source": [
    "D1 = D2 = D3 = 2\n",
    "B = np.random.rand(D1, D2, D3)"
   ]
  },
  {
   "cell_type": "code",
   "execution_count": 16,
   "id": "988d737c-ed89-4e65-bcd1-6af5f62f6ad8",
   "metadata": {},
   "outputs": [
    {
     "data": {
      "text/plain": [
       "array([[0.66023353, 0.59603786],\n",
       "       [0.36008511, 0.2668324 ],\n",
       "       [0.16378576, 0.95417771],\n",
       "       [0.84577097, 0.12665249]])"
      ]
     },
     "execution_count": 16,
     "metadata": {},
     "output_type": "execute_result"
    }
   ],
   "source": [
    "B = np.transpose(B, [0, 2, 1])\n",
    "B.reshape(D1 * D3, D2)"
   ]
  },
  {
   "cell_type": "markdown",
   "id": "9fc92240-1a66-49da-af3c-f3cafdbf6a61",
   "metadata": {},
   "source": [
    "3."
   ]
  },
  {
   "cell_type": "code",
   "execution_count": 14,
   "id": "494b80dd-50a6-4636-bec5-d3198afeb8da",
   "metadata": {},
   "outputs": [],
   "source": [
    "D1 = D2 = D3 = D4 = D5 = 2\n",
    "C = np.random.rand(D1, D2, D3, D4, D5)"
   ]
  },
  {
   "cell_type": "code",
   "execution_count": 15,
   "id": "cf7a2630-1e38-4a65-b104-f49a6f7bf175",
   "metadata": {},
   "outputs": [
    {
     "data": {
      "text/plain": [
       "array([[0.75057121, 0.07594682, 0.15261276, 0.65185471, 0.57145238,\n",
       "        0.60533756, 0.94746407, 0.82655946, 0.13842051, 0.39291105,\n",
       "        0.31984383, 0.93698396, 0.48565565, 0.75059048, 0.69136686,\n",
       "        0.34135214],\n",
       "       [0.08455775, 0.30690146, 0.10287382, 0.85206659, 0.33609219,\n",
       "        0.40957564, 0.890199  , 0.50734882, 0.99719271, 0.92195225,\n",
       "        0.90900728, 0.56510423, 0.160924  , 0.40983632, 0.7594736 ,\n",
       "        0.09691981]])"
      ]
     },
     "execution_count": 15,
     "metadata": {},
     "output_type": "execute_result"
    }
   ],
   "source": [
    "C = np.transpose(C, [2, 0, 1, 3, 4])\n",
    "C.reshape(D3, -1)"
   ]
  },
  {
   "cell_type": "code",
   "execution_count": null,
   "id": "df6a9e40-c453-4183-84b4-db1b7000436b",
   "metadata": {},
   "outputs": [],
   "source": []
  }
 ],
 "metadata": {
  "kernelspec": {
   "display_name": "Python 3 (ipykernel)",
   "language": "python",
   "name": "python3"
  },
  "language_info": {
   "codemirror_mode": {
    "name": "ipython",
    "version": 3
   },
   "file_extension": ".py",
   "mimetype": "text/x-python",
   "name": "python",
   "nbconvert_exporter": "python",
   "pygments_lexer": "ipython3",
   "version": "3.10.11"
  }
 },
 "nbformat": 4,
 "nbformat_minor": 5
}
