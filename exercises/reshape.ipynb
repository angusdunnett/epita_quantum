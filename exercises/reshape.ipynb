{
 "cells": [
  {
   "cell_type": "markdown",
   "id": "d7adc851-f585-47d6-a821-20ce87a548de",
   "metadata": {},
   "source": [
    "## Reshape"
   ]
  },
  {
   "cell_type": "code",
   "execution_count": 2,
   "id": "754bda02-40bc-462a-918b-ab5a0cedafee",
   "metadata": {},
   "outputs": [],
   "source": [
    "import numpy as np"
   ]
  },
  {
   "cell_type": "markdown",
   "id": "2319732d-7e19-4115-8b11-b0f89f06988e",
   "metadata": {},
   "source": [
    "1."
   ]
  },
  {
   "cell_type": "code",
   "execution_count": 3,
   "id": "8a501fcc-98bf-4f3e-be16-999978f36204",
   "metadata": {},
   "outputs": [],
   "source": [
    "D1 = D2 = D3 = D4 = 2\n",
    "A = np.random.rand(D1, D2, D3, D4)"
   ]
  },
  {
   "cell_type": "markdown",
   "id": "914040be-7803-4e77-825e-fda87b450726",
   "metadata": {},
   "source": [
    "2."
   ]
  },
  {
   "cell_type": "code",
   "execution_count": 4,
   "id": "62e3eb84-0583-4ab8-8f05-83bb15fb8854",
   "metadata": {},
   "outputs": [],
   "source": [
    "D1 = D2 = D3 = 2\n",
    "B = np.random.rand(D1, D2, D3)"
   ]
  },
  {
   "cell_type": "markdown",
   "id": "9fc92240-1a66-49da-af3c-f3cafdbf6a61",
   "metadata": {},
   "source": [
    "3."
   ]
  },
  {
   "cell_type": "code",
   "execution_count": 5,
   "id": "494b80dd-50a6-4636-bec5-d3198afeb8da",
   "metadata": {},
   "outputs": [],
   "source": [
    "D1 = D2 = D3 = D4 = D5 = 2\n",
    "C = np.random.rand(D1, D2, D3, D4, D5)"
   ]
  },
  {
   "cell_type": "code",
   "execution_count": null,
   "id": "cf7a2630-1e38-4a65-b104-f49a6f7bf175",
   "metadata": {},
   "outputs": [],
   "source": []
  }
 ],
 "metadata": {
  "kernelspec": {
   "display_name": "Python 3 (ipykernel)",
   "language": "python",
   "name": "python3"
  },
  "language_info": {
   "codemirror_mode": {
    "name": "ipython",
    "version": 3
   },
   "file_extension": ".py",
   "mimetype": "text/x-python",
   "name": "python",
   "nbconvert_exporter": "python",
   "pygments_lexer": "ipython3",
   "version": "3.10.11"
  }
 },
 "nbformat": 4,
 "nbformat_minor": 5
}
